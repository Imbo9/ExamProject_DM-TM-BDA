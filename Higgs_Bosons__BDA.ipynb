{
 "cells": [
  {
   "cell_type": "markdown",
   "id": "53b9a43e",
   "metadata": {
    "id": "53b9a43e"
   },
   "source": [
    "# Import Libraries"
   ]
  },
  {
   "cell_type": "code",
   "execution_count": 3,
   "id": "6ab6e78e",
   "metadata": {
    "id": "6ab6e78e",
    "tags": []
   },
   "outputs": [],
   "source": [
    "import matplotlib.pyplot as plt\n",
    "import pandas as pd\n",
    "from pandas import DataFrame\n",
    "from pyspark.sql import SparkSession\n",
    "from pyspark.ml.feature import VectorAssembler, StandardScaler, StringIndexer\n",
    "from pyspark.sql.types import StructType, StructField, DoubleType\n",
    "from pyspark.ml import Pipeline\n",
    "from pyspark.sql.functions import col, isnan\n",
    "from pyspark.sql import Row, Column\n",
    "from pyspark.sql.functions import lit\n",
    "\n",
    "import numpy as np\n",
    "\n",
    "from pyspark.ml.classification import DecisionTreeClassifier\n",
    "from pyspark.ml.classification import RandomForestClassifier\n",
    "from pyspark.ml.clustering import KMeans\n",
    "\n",
    "from pyspark.ml.feature import RFormula\n",
    "\n",
    "\n",
    "from pyspark.ml.evaluation import MulticlassClassificationEvaluator\n",
    "\n",
    "from pyspark.sql.functions import col\n",
    "from pyspark.sql.types import *\n",
    "\n",
    "import pyspark\n",
    "from pathlib import Path\n",
    "\n",
    "import random\n",
    "import os\n",
    "\n",
    "\n",
    "\n",
    "from pyspark.sql.functions import when"
   ]
  },
  {
   "cell_type": "markdown",
   "id": "7ec84efc-0577-4178-821a-e97b0f85ce13",
   "metadata": {
    "id": "7ec84efc-0577-4178-821a-e97b0f85ce13"
   },
   "source": [
    "# Common utility functions"
   ]
  },
  {
   "cell_type": "code",
   "execution_count": 4,
   "id": "bf0d43cd-38a4-4965-9c6c-d40a07abc5dd",
   "metadata": {
    "id": "bf0d43cd-38a4-4965-9c6c-d40a07abc5dd",
    "tags": []
   },
   "outputs": [],
   "source": [
    "# =============================================================================\n",
    "# Describing\n",
    "# =============================================================================\n",
    "\n",
    "def class_distribution_inspection(df, label = \"higgs_bosons\"):\n",
    "    # Extract the label column from the PySpark DataFrame and convert it to a pandas Series\n",
    "    label_series = df.select(label).toPandas()[label]\n",
    "\n",
    "    # Plot the distribution of binary labels using pandas plot\n",
    "    label_counts = label_series.value_counts()\n",
    "    label_counts.plot(kind='bar', rot=0)\n",
    "\n",
    "    # Customize the plot\n",
    "    plt.xlabel('Labels (0 and 1)')\n",
    "    plt.ylabel('Count')\n",
    "    plt.title('Distribution of Binary Labels')\n",
    "    plt.show()\n",
    "\n",
    "def show(dfs, num_rows = 2):\n",
    "    for df in dfs:\n",
    "        df.show(num_rows)\n",
    "\n",
    "def count(dfs):\n",
    "    for idx, df in enumerate(dfs):\n",
    "        print(f\"number of rows of df_{idx} : {df.count()}\")\n",
    "\n",
    "def describe(df, single_features = False):\n",
    "    if single_features:\n",
    "        for feature_name in df.columns[1:]:\n",
    "            print(\"feature: \", feature_name)\n",
    "            feature_data = df.select(feature_name).toPandas()\n",
    "            plt.boxplot(feature_data.values)\n",
    "            plt.show()\n",
    "            print(\"\\n\\n\")\n",
    "            print(feature_data.describe())\n",
    "\n",
    "    else:\n",
    "        print(\"Before normalisation\")\n",
    "        df_pd = df.toPandas()\n",
    "        df_num = df_pd.iloc[:,1:]\n",
    "        boxfig = plt.figure()\n",
    "        plt.boxplot(df_num)\n",
    "        plt.show()\n",
    "\n",
    "        print(\"After normalisation\")\n",
    "        desc_stats = df_num.describe()\n",
    "        print(desc_stats)\n",
    "        df_norm = df_num\n",
    "\n",
    "        print(desc_stats.columns)\n",
    "        for c in desc_stats.columns:\n",
    "            mean = desc_stats.loc['mean', c]\n",
    "            sd = desc_stats.loc['std', c]\n",
    "            df_norm.loc[:, c] = (df_pd.loc[:, c] - mean) / sd\n",
    "\n",
    "        df_normarr = df_norm.values\n",
    "        boxnfig = plt.figure()\n",
    "        plt.boxplot(df_normarr)\n",
    "        plt.show()\n",
    "\n",
    "        corr = df_pd.corr()\n",
    "        heatfig = plt.figure()\n",
    "        plt.pcolor(corr)\n",
    "\n",
    "def f_print(msg):\n",
    "    msg_len = len(msg)\n",
    "    to_be_printed = [\"=\"*(msg_len + 6), \" \"*3 + msg + \" \"*3,\"=\"*(msg_len + 6)]\n",
    "    return \"\\n\".join(to_be_printed)\n",
    "\n",
    "\n",
    "# =============================================================================\n",
    "# Pre-processing\n",
    "# =============================================================================\n",
    "\n",
    "def cast_label_to_integer(df, label = \"higgs_bosons\"):\n",
    "    return df.withColumn(label, col(label).cast(\"integer\"))\n",
    "\n"
   ]
  },
  {
   "cell_type": "code",
   "execution_count": 5,
   "id": "53b1cbc2-1dab-4443-8980-b48ecf8d90dc",
   "metadata": {
    "id": "53b1cbc2-1dab-4443-8980-b48ecf8d90dc",
    "tags": []
   },
   "outputs": [],
   "source": [
    "seed = 42"
   ]
  },
  {
   "cell_type": "markdown",
   "id": "1c935276-e1b9-45a8-afdb-bf108ebd29ed",
   "metadata": {
    "id": "1c935276-e1b9-45a8-afdb-bf108ebd29ed"
   },
   "source": [
    "## Shared sub-workflows"
   ]
  },
  {
   "cell_type": "markdown",
   "id": "204a8c61-3b65-4c22-92ed-3717d015d278",
   "metadata": {
    "id": "204a8c61-3b65-4c22-92ed-3717d015d278",
    "tags": []
   },
   "source": [
    "### Getting train-test datasets"
   ]
  },
  {
   "cell_type": "markdown",
   "id": "FvgryMCWJIE1",
   "metadata": {
    "id": "FvgryMCWJIE1"
   },
   "source": [
    "#### Train-test split"
   ]
  },
  {
   "cell_type": "code",
   "execution_count": 6,
   "id": "ENznCnd4JNR9",
   "metadata": {
    "id": "ENznCnd4JNR9"
   },
   "outputs": [],
   "source": [
    "def train_test_split(df,\n",
    "                     seed=seed,\n",
    "                     train_split = 0.7):\n",
    "    # dataframe train-test splitting\n",
    "    df_train, df_test = df.randomSplit([train_split, 1 - train_split], seed)\n",
    "    return df_train, df_test"
   ]
  },
  {
   "cell_type": "markdown",
   "id": "a1a921f5-0322-4753-b506-99f3376f4a0a",
   "metadata": {
    "id": "a1a921f5-0322-4753-b506-99f3376f4a0a"
   },
   "source": [
    "#### Fit-transform"
   ]
  },
  {
   "cell_type": "code",
   "execution_count": 7,
   "id": "be04198d-486a-4bf3-a4e0-f83d7b20a6fc",
   "metadata": {
    "id": "be04198d-486a-4bf3-a4e0-f83d7b20a6fc",
    "tags": []
   },
   "outputs": [],
   "source": [
    "def fit_transform(df, label = \"higgs_bosons_indexes\"):\n",
    "    # rFormula definition\n",
    "    formula_string = f\"{label} ~ .\"\n",
    "    rf = RFormula(formula=formula_string)\n",
    "    # fitting the dataframe to the rFormula\n",
    "    rf_fit = rf.fit(df)\n",
    "    # application of the rFormula\n",
    "    rf_transfd = rf_fit.transform(df)\n",
    "    return rf_transfd"
   ]
  },
  {
   "cell_type": "markdown",
   "id": "2cc184ab-53ed-46d7-8147-5b725a785f2f",
   "metadata": {
    "id": "2cc184ab-53ed-46d7-8147-5b725a785f2f"
   },
   "source": [
    "#### Normalise"
   ]
  },
  {
   "cell_type": "code",
   "execution_count": 8,
   "id": "a9bdc381-b66d-450a-ada5-53541ed79c80",
   "metadata": {
    "id": "a9bdc381-b66d-450a-ada5-53541ed79c80",
    "tags": []
   },
   "outputs": [],
   "source": [
    "def normalise(df):\n",
    "    # definition of normaliser\n",
    "    normaliser = StandardScaler(inputCol=\"features\", outputCol=\"normFeatures\")\n",
    "    # fitting the dataframe to the normaliser\n",
    "    normModel = normaliser.fit(df)\n",
    "    # application of the normalisation\n",
    "    df_norm = normModel.transform(df)\n",
    "    # removing the previous column of non-normalised features and replacing it\n",
    "    # with the new one with normalised features\n",
    "    df_norm = df_norm.drop(\"features\")\n",
    "    df_norm = df_norm.withColumnRenamed(\"normFeatures\",\"features\")\n",
    "    return df_norm"
   ]
  },
  {
   "cell_type": "markdown",
   "id": "f56635f3-6f40-44c8-ad12-b9ecbb400075",
   "metadata": {
    "id": "f56635f3-6f40-44c8-ad12-b9ecbb400075"
   },
   "source": [
    "#### Assembly"
   ]
  },
  {
   "cell_type": "code",
   "execution_count": 9,
   "id": "64c144b9-f328-4e53-a6ca-755e39ba4dc9",
   "metadata": {
    "id": "64c144b9-f328-4e53-a6ca-755e39ba4dc9",
    "tags": []
   },
   "outputs": [],
   "source": [
    "def assembly(df, inputs, label = \"higgs_bosons_indexes\"):\n",
    "    # definition of the vectorAssembler\n",
    "    vec_assembler = VectorAssembler(inputCols=inputs, outputCol=\"features\")\n",
    "    # application of the assembler: transform\n",
    "    df_transfd = vec_assembler.transform(df)\n",
    "    # selection of the assembled features and label\n",
    "    df_transfd = df_transfd.select(['features', label])\n",
    "    return df_transfd"
   ]
  },
  {
   "cell_type": "markdown",
   "id": "2a881812-35c8-4b1e-8ec3-237f165b3520",
   "metadata": {
    "id": "2a881812-35c8-4b1e-8ec3-237f165b3520"
   },
   "source": [
    "#### Assembly-normalise"
   ]
  },
  {
   "cell_type": "code",
   "execution_count": 10,
   "id": "7742b6c9-a17b-4159-b807-dfc75a2ad141",
   "metadata": {
    "id": "7742b6c9-a17b-4159-b807-dfc75a2ad141",
    "tags": []
   },
   "outputs": [],
   "source": [
    "def assembly_normalise(df, inputs, label = \"higgs_bosons_indexes\"):\n",
    "    # definition of the vectorAssembler\n",
    "    vec_assembler = VectorAssembler(inputCols=inputs, outputCol=\"nn_features\")\n",
    "    # definition of the normaliser\n",
    "    normaliser = StandardScaler(inputCol=\"nn_features\", outputCol=\"features\")\n",
    "    # definition of two stages\n",
    "    stages = [vec_assembler, normaliser]\n",
    "    # definition of the pipeline with two stages: assembler of features and normalisation\n",
    "    # of the assmbled features\n",
    "    pipeline = Pipeline(stages = stages)\n",
    "    # application of the pipeline: fitting and transform\n",
    "    pipeline_mod = pipeline.fit(df)\n",
    "    df_transfd = pipeline_mod.transform(df)\n",
    "    # selection of the assembled features and label\n",
    "    df_transfd = df_transfd.select(['features', label])\n",
    "    return df_transfd"
   ]
  },
  {
   "cell_type": "markdown",
   "id": "5b39b14d-5e45-484c-9b9a-13f2e3928920",
   "metadata": {
    "id": "5b39b14d-5e45-484c-9b9a-13f2e3928920"
   },
   "source": [
    "#### Get train-test"
   ]
  },
  {
   "cell_type": "code",
   "execution_count": 11,
   "id": "710f16ed-d428-49e7-815f-eb35c12eaafe",
   "metadata": {
    "id": "710f16ed-d428-49e7-815f-eb35c12eaafe",
    "tags": []
   },
   "outputs": [],
   "source": [
    "def get_train_test(df, normalisation, label = \"higgs_bosons\"):\n",
    "    # train, test init\n",
    "    train, test = None, None\n",
    "    # string label indexer\n",
    "    stringIndexer = StringIndexer(inputCol=label, outputCol=\"higgs_bosons_indexes\")\n",
    "    # fitting string-indexer to dataframe\n",
    "    df_si = stringIndexer.fit(df)\n",
    "    # to be processed dataframe\n",
    "    df = df_si.transform(df)\n",
    "    if normalisation:\n",
    "        # the normalisation is applied separately for the train and test sets, because it is necessary\n",
    "        # separate them, due to the fact that the test set is made up of unseen data and it should\n",
    "        # not be taken into account at training time\n",
    "        if random.choice([0,1]) == 0:\n",
    "            # =============================================================================\n",
    "            # Assembly-normalise\n",
    "            # =============================================================================\n",
    "            print(\"Assembly-normalise\")\n",
    "            # train-test splitting\n",
    "            print(\"Train-test splitting\")\n",
    "            train, test = train_test_split(df=df)\n",
    "            # input columns needed to be assembled and normalised\n",
    "            inputs = df.columns\n",
    "            # assembly-normalise train\n",
    "            print(\"Assembly-normalise train\")\n",
    "            train = assembly_normalise(train, inputs, label = \"higgs_bosons_indexes\")\n",
    "            # assembly-normalise test\n",
    "            print(\"Assembly-normalise test\")\n",
    "            test = assembly_normalise(test, inputs, label = \"higgs_bosons_indexes\")\n",
    "        else:\n",
    "            # =============================================================================\n",
    "            # Fit-transform normalise\n",
    "            # =============================================================================\n",
    "            print(\"Fit-transform normalise\")\n",
    "            # fit-transform of the entire dataset\n",
    "            print(\"Fit-transform\")\n",
    "            rf_transfd = fit_transform(df, label = \"higgs_bosons_indexes\")\n",
    "            print(\"Train-test split\")\n",
    "            # tran-test splitting\n",
    "            train, test = train_test_split(df=rf_transfd)\n",
    "            # train normalisation\n",
    "            print(\"Normalise train\")\n",
    "            train = normalise(train)\n",
    "            # test normalisation\n",
    "            print(\"Normalise test\")\n",
    "            test = normalise(test)\n",
    "    else:\n",
    "        if random.choice([0,1]) == 0:\n",
    "            # =============================================================================\n",
    "            # Assembly\n",
    "            # =============================================================================\n",
    "            print(\"Assembly\")\n",
    "            # train-test splitting\n",
    "            print(\"Train-test splitting\")\n",
    "            train, test = train_test_split(df=df)\n",
    "            # input columns needed to be assembled and normalised\n",
    "            print(train)\n",
    "            print(test)\n",
    "            inputs = df.columns\n",
    "            # assembly train\n",
    "            print(\"Assembly train\")\n",
    "            train = assembly(train, inputs, label = \"higgs_bosons_indexes\")\n",
    "            # assembly test\n",
    "            print(\"Assembly test\")\n",
    "            test = assembly(test, inputs, label = \"higgs_bosons_indexes\")\n",
    "        else:\n",
    "            # =============================================================================\n",
    "            # Fit-transform\n",
    "            # =============================================================================\n",
    "            print(\"Fit-transform\")\n",
    "            # fit transform of the entire dataset\n",
    "            rf_transfd = fit_transform(df, label = \"higgs_bosons_indexes\")\n",
    "            # train-test splitting\n",
    "            print(\"Train-test split\")\n",
    "            train, test = train_test_split(df=rf_transfd)\n",
    "\n",
    "    print(\"Train schema: \")\n",
    "    train.printSchema()\n",
    "    print(\"Test schema: \")\n",
    "    test.printSchema()\n",
    "    return train,test"
   ]
  },
  {
   "cell_type": "markdown",
   "id": "34afcad3-5c54-40e6-89ee-1242af06c73a",
   "metadata": {
    "id": "34afcad3-5c54-40e6-89ee-1242af06c73a"
   },
   "source": [
    "# Workflows"
   ]
  },
  {
   "cell_type": "markdown",
   "id": "d928f70b-ea29-4604-87f8-860de48fa095",
   "metadata": {
    "id": "d928f70b-ea29-4604-87f8-860de48fa095"
   },
   "source": [
    "## Rows with NaNs dropping\n",
    "This method simply\n",
    "* unifies the dataframes of the different subjects\n",
    "* gets rid of the rows containing at least one NaN value\n",
    "* creates the train-test datasets"
   ]
  },
  {
   "cell_type": "code",
   "execution_count": 12,
   "id": "c57a2731-be88-4737-ab60-b889ffec6a98",
   "metadata": {
    "id": "c57a2731-be88-4737-ab60-b889ffec6a98",
    "tags": []
   },
   "outputs": [],
   "source": [
    "def rows_with_NaNs_dropping(df, normalisation\n",
    "                           ):\n",
    "    # =============================================================================\n",
    "    # Rows reduction checking\n",
    "    # =============================================================================\n",
    "    class_distribution_inspection(df)\n",
    "    print(f_print(\"Rows reduction checking\"))\n",
    "    print(\"Before dropping rows with NaNs: \")\n",
    "    print(\"number of rows: \", df.count())\n",
    "    df_tbp = df.na.drop(\"any\")\n",
    "    print(\"After dropping rows with NaNs: \")\n",
    "    print(\"number of rows: \", df_tbp.count())\n",
    "    class_distribution_inspection(df_tbp)\n",
    "\n",
    "    # =============================================================================\n",
    "    # Data description\n",
    "    # =============================================================================\n",
    "    print(f_print(\"Data description\"))\n",
    "    print(df_tbp.columns)\n",
    "    describe(df = df_tbp, single_features = True)\n",
    "\n",
    "    # =============================================================================\n",
    "    # Getting train-test datasets\n",
    "    # =============================================================================\n",
    "    print(f_print(\"Getting train-test datasets\"))\n",
    "    train,test = get_train_test(df_tbp, normalisation)\n",
    "\n",
    "    return train,test"
   ]
  },
  {
   "cell_type": "markdown",
   "id": "812ccda0-03ad-4a20-b580-ec7d82f23d1d",
   "metadata": {
    "id": "812ccda0-03ad-4a20-b580-ec7d82f23d1d"
   },
   "source": [
    "## Feature selection\n",
    "This method is used for the selection of the columns that have a variance greater than a certain threshold. If the variance of a column is very low then it will not have a significant role for the discrimination. In this case, the higher the variance, the better the opportunity to discriminate between different classes.\n",
    "It applies:\n",
    "\n",
    "* feature selection: features with a variance greater than threshold are selected\n",
    "* creation of train-test datasets"
   ]
  },
  {
   "cell_type": "code",
   "execution_count": 13,
   "id": "efa02620-7fa0-4157-8c9c-4e5f96fac82f",
   "metadata": {
    "id": "efa02620-7fa0-4157-8c9c-4e5f96fac82f",
    "tags": []
   },
   "outputs": [],
   "source": [
    "def axisAggregation_featureSelection(df, normalise, threshold = 0.5, label = \"higgs_bosons\"):\n",
    "    print(f_print(\"Feature aggregation and selection\"))\n",
    "    # =============================================================================\n",
    "    # Dropping NaNs\n",
    "    # =============================================================================\n",
    "    print(\"Dropping NaNs\")\n",
    "    df_naDropped = df.na.drop(\"any\")\n",
    "\n",
    "    # =============================================================================\n",
    "    # Feature selection\n",
    "    # =============================================================================\n",
    "    print(\"Feature selection: features with a variance greater than threshold\")\n",
    "    over_threshold = [col(label)]\n",
    "    for column in df_naDropped.columns:\n",
    "        if column != label:\n",
    "            feature_description = df_naDropped.select(col(column)).toPandas().describe()\n",
    "            # only the features with a variance greater than a certain threshold\n",
    "            # are selected\n",
    "            if feature_description.loc[feature_description.index == 'std'].values[0][0] > threshold:\n",
    "                over_threshold += [col(column)]\n",
    "    # selection of the filtered columns\n",
    "    df_naDropped = df_naDropped.select(over_threshold)\n",
    "    # this is applied for sake of computational efficiency\n",
    "    df_naDropped.toPandas().to_csv(Path(\"temp.csv\"))\n",
    "    df_naDropped = spark.read.format(\"csv\").option(\"inferSchema\", \"True\").option(\"header\", \"True\").option(\"delimiter\",\",\").load(\"temp.csv\")\n",
    "    df_naDropped = df_naDropped.drop(\"_c0\")\n",
    "\n",
    "    # =============================================================================\n",
    "    # Train-test creation\n",
    "    # =============================================================================\n",
    "    print(\"Train-test creation\")\n",
    "    train,test = get_train_test(df_naDropped, normalise)\n",
    "    return train,test"
   ]
  },
  {
   "cell_type": "markdown",
   "id": "5b668f8a",
   "metadata": {},
   "source": [
    "## Dropping columns\n"
   ]
  },
  {
   "cell_type": "code",
   "execution_count": 68,
   "id": "794d48cd",
   "metadata": {},
   "outputs": [],
   "source": [
    "def dropping_columns_from_df(df, normalise, columns_to_drop):\n",
    "    print(f_print(\"Dropping kineamtic properites columns\"))\n",
    "    # =============================================================================\n",
    "    # Dropping kinematic properties columns\n",
    "    # =============================================================================\n",
    "    print(\"Dropping heart_rate column\")\n",
    "    df_drop = df.drop(*columns_to_drop)\n",
    " \n",
    "    # =============================================================================\n",
    "    # Train-test computation\n",
    "    # =============================================================================\n",
    "    train, test = get_train_test(df_drop, normalise)\n",
    "    return train, test"
   ]
  },
  {
   "cell_type": "markdown",
   "id": "049ff8f7-0284-464e-931e-b684865f2407",
   "metadata": {
    "id": "049ff8f7-0284-464e-931e-b684865f2407",
    "tags": []
   },
   "source": [
    "## Values prediction\n",
    "This method tries to avoid loosing too many rows by predicting the missing values with:\n",
    "* nearest neighbour\n",
    "* linear interpolation"
   ]
  },
  {
   "cell_type": "markdown",
   "id": "c2ad8f62-6849-4277-99c3-dca65f06bb4d",
   "metadata": {
    "id": "c2ad8f62-6849-4277-99c3-dca65f06bb4d"
   },
   "source": [
    "### Values predictors\n",
    "These functions are used to predict the missing values in different ways.\n",
    "* **Nearest neighbour**: looks at the nearest non-NaN value\n",
    "* **Linear interpolation**: fitting and interpolating a line between the nearest left and right non NaN values"
   ]
  },
  {
   "cell_type": "code",
   "execution_count": 20,
   "id": "81c8a3de-1184-4d95-89c4-78f8962be4c2",
   "metadata": {
    "id": "81c8a3de-1184-4d95-89c4-78f8962be4c2",
    "tags": []
   },
   "outputs": [],
   "source": [
    "def nn(left_bound, right_bound, nan_idx):\n",
    "    # bounds of the first left non NaN values and the first right one\n",
    "    bounds = np.array([left_bound, right_bound])\n",
    "    # for each NaN value the distance between its position and the position of the left bound is computed\n",
    "    left_distance = np.abs(nan_idx - left_bound)\n",
    "    # for each NaN value the distance between its position and the position of the right bound is computed\n",
    "    right_distance = np.abs(right_bound - nan_idx)\n",
    "    # distances formalisation\n",
    "    distances = np.array([left_distance, right_distance])\n",
    "    # computation of the nearest neighbour\n",
    "    nearest_idx = bounds[np.argmin(distances)]\n",
    "    return nearest_idx\n",
    "\n",
    "def li(left_bound, right_bound, nan_idx, values):\n",
    "    # computation of the number of steps between\n",
    "    steps = right_bound - left_bound\n",
    "    # distance between the current nan_idx and the left bound\n",
    "    current = nan_idx - left_bound\n",
    "    # the slope of the interpolating line\n",
    "    slope = (values[right_bound] - values[left_bound])/steps\n",
    "    # prediction computation\n",
    "    prediction = float(slope*current + left_bound)\n",
    "    return prediction"
   ]
  },
  {
   "cell_type": "code",
   "execution_count": 21,
   "id": "7f8121f6-9920-4d75-ab69-3f4030757d20",
   "metadata": {
    "id": "7f8121f6-9920-4d75-ab69-3f4030757d20",
    "tags": []
   },
   "outputs": [],
   "source": [
    "def replace_nans(dfs, feature, method):\n",
    "    for i in range(len(dfs)):\n",
    "        df = dfs[i]\n",
    "        # values extraction from the column of interest\n",
    "        values = [row[feature] for row in df.select(feature).collect()]\n",
    "        # boolean mask for nan values\n",
    "        nan_mask = np.array(np.isnan(values), dtype = int)\n",
    "        # computation of the NaN values positions\n",
    "        nan_indexes = np.nonzero(nan_mask)[0]\n",
    "        # computation of the non NaN values positions\n",
    "        non_nan_indexes = np.array(sorted(list(set(range(len(values))) - set(nan_indexes))))\n",
    "\n",
    "        # moving by non_nan_indexes bounds\n",
    "        # the j counter is pointing onto the position of the left bound\n",
    "        j = 0\n",
    "        # fixing the first left non_nan_bound\n",
    "        left_bound = non_nan_indexes[j]\n",
    "        # fixing the first right non_nan_bound\n",
    "        right_bound = non_nan_indexes[j + 1]\n",
    "\n",
    "        # moving the left bound\n",
    "        j += 1\n",
    "        # bounds definition\n",
    "        bounds = np.array([left_bound, right_bound])\n",
    "\n",
    "        # for each nan_idx\n",
    "        for nan_idx in nan_indexes:\n",
    "            if j == len(non_nan_indexes)-1:\n",
    "                # the left bound is set equal to the right one\n",
    "                left_bound = right_bound\n",
    "            # otherwise if the left non_nan_idx is the last but one\n",
    "            elif j < len(non_nan_indexes)-1:\n",
    "                # and the nan idx is next to the right bound\n",
    "                if nan_idx > right_bound:\n",
    "                    # the left bound is set to the right one\n",
    "                    left_bound = right_bound\n",
    "                    # and the right bound is set to the last non_nan value\n",
    "                    right_bound = non_nan_indexes[j + 1]\n",
    "                    j += 1\n",
    "\n",
    "                if method == 'nn':\n",
    "                    idx = nn(left_bound, right_bound, nan_idx)\n",
    "                    values[nan_idx] = values[idx]\n",
    "                elif method == 'li':\n",
    "                    value = li(left_bound, right_bound, nan_idx, values)\n",
    "                    values[nan_idx] = value\n",
    "\n",
    "        # column values update\n",
    "        values_schema = StructType([StructField(feature,DoubleType(),False)])\n",
    "        values_data = [Row(value)  for value in values]\n",
    "        df_values = spark.createDataFrame(values_data, values_schema)\n",
    "        df_values = df_values.select(\"*\").withColumn(\"index\", monotonically_increasing_id())\n",
    "\n",
    "        df = df.select(\"*\").withColumn(\"index\", monotonically_increasing_id())\n",
    "        df = df.drop(feature)\n",
    "        df = df.join(df_values, df.index == df_values.index)\n",
    "        df = df.drop('index')\n",
    "        dfs[i] = df\n",
    "    return dfs"
   ]
  },
  {
   "cell_type": "markdown",
   "id": "aa82c32b-64e0-4195-a534-7efbbecf637d",
   "metadata": {
    "id": "aa82c32b-64e0-4195-a534-7efbbecf637d"
   },
   "source": [
    "## Training"
   ]
  },
  {
   "cell_type": "code",
   "execution_count": 22,
   "id": "00453d8c-2984-4d9b-95c8-655e828810da",
   "metadata": {
    "id": "00453d8c-2984-4d9b-95c8-655e828810da",
    "tags": []
   },
   "outputs": [],
   "source": [
    "def trainer(classifiers, train, label):\n",
    "    train_results = {}\n",
    "\n",
    "    for c in classifiers:\n",
    "        if not isinstance(c, KMeans):\n",
    "            c.setLabelCol(label)\n",
    "        print(c.explainParams())\n",
    "        # fitting the model to the data\n",
    "        c_fitted = c.fit(train)\n",
    "        # learning patterns from the data\n",
    "        train_result = c_fitted.transform(train).select(label,col(\"prediction\").cast('double'))\n",
    "        print(train_result)\n",
    "        # training results\n",
    "        train_results[c] = {'cls' : c_fitted,\n",
    "                            'train_result' : train_result}\n",
    "\n",
    "        # metric evaluation\n",
    "        for metric in ['accuracy','f1']:\n",
    "            evaluator = MulticlassClassificationEvaluator(\n",
    "                labelCol=label, predictionCol=\"prediction\", metricName=metric)\n",
    "            train_results[c][metric] = evaluator.evaluate(train_result)\n",
    "\n",
    "    return train_results"
   ]
  },
  {
   "cell_type": "code",
   "execution_count": 23,
   "id": "b03637c4-1238-4d21-9fd7-0c4529bf617c",
   "metadata": {
    "id": "b03637c4-1238-4d21-9fd7-0c4529bf617c",
    "tags": []
   },
   "outputs": [],
   "source": [
    "def training(train, label = \"higgs_bosons_indexes\"):\n",
    "    num_labels = len(np.unique([row[label] for row in train.select(label).collect()]))\n",
    "    print(f_print(\"Training\"))\n",
    "    # classifiers definition\n",
    "    train_results = trainer([DecisionTreeClassifier(seed = seed),\n",
    "                             RandomForestClassifier(seed = seed),\n",
    "                             KMeans().setK(num_labels).setSeed(seed)\n",
    "                           ], train, label)\n",
    "    print(f_print(\"Train results\"))\n",
    "    print(train_results)\n",
    "    return train_results"
   ]
  },
  {
   "cell_type": "markdown",
   "id": "a8cd9f16-2dd0-4bcf-9ad2-12e09e8d88ec",
   "metadata": {
    "id": "a8cd9f16-2dd0-4bcf-9ad2-12e09e8d88ec"
   },
   "source": [
    "## Testing"
   ]
  },
  {
   "cell_type": "code",
   "execution_count": 24,
   "id": "d9bb9055-0706-41f8-9707-e190dfeed4fe",
   "metadata": {
    "id": "d9bb9055-0706-41f8-9707-e190dfeed4fe",
    "tags": []
   },
   "outputs": [],
   "source": [
    "def tester(classifiers, test, label):\n",
    "    test_results = {}\n",
    "\n",
    "    for classifier in classifiers:\n",
    "        print(classifiers[classifier])\n",
    "        print(type(classifiers[classifier]))\n",
    "        cls = classifiers[classifier]['cls']\n",
    "        print(\"Classifier: \", classifier)\n",
    "        # testing the classifier on the test set\n",
    "        test_result = cls.transform(test).select(label,col(\"prediction\").cast('double'))\n",
    "        test_result.show()\n",
    "        # test results\n",
    "        test_results[classifier] = {'cls' : cls,\n",
    "                                    'test_result' : test_result}\n",
    "\n",
    "        # metric evaluation\n",
    "        for metric in ['accuracy','f1']:\n",
    "            evaluator = MulticlassClassificationEvaluator(\n",
    "              labelCol=label, predictionCol=\"prediction\", metricName=metric)\n",
    "            test_results[classifier][metric] = evaluator.evaluate(test_result)\n",
    "\n",
    "    return test_results"
   ]
  },
  {
   "cell_type": "code",
   "execution_count": 25,
   "id": "52bbd6e9-0434-4d5f-8cef-136ac1a137a6",
   "metadata": {
    "id": "52bbd6e9-0434-4d5f-8cef-136ac1a137a6",
    "tags": []
   },
   "outputs": [],
   "source": [
    "def testing(test, train_results, label = \"higgs_bosons_indexes\"):\n",
    "    print(f_print(\"Testing\"))\n",
    "    # testing the trained model on the test set\n",
    "    test_results = tester(train_results, test, label)\n",
    "    print(f_print(\"Test results\"))\n",
    "    print(test_results)"
   ]
  },
  {
   "cell_type": "markdown",
   "id": "e231470a-d8bd-44eb-babd-553c9691dba3",
   "metadata": {
    "id": "e231470a-d8bd-44eb-babd-553c9691dba3"
   },
   "source": [
    "# Session creation"
   ]
  },
  {
   "cell_type": "code",
   "execution_count": 26,
   "id": "48e28234-b14b-4308-8dde-d12cacf40c5f",
   "metadata": {
    "id": "48e28234-b14b-4308-8dde-d12cacf40c5f",
    "tags": []
   },
   "outputs": [],
   "source": [
    "spark = SparkSession.builder.appName(\"freeproj\").master(\"yarn\").getOrCreate() # from node-master"
   ]
  },
  {
   "cell_type": "code",
   "execution_count": 27,
   "id": "KWuFpa6GxWkT",
   "metadata": {
    "id": "KWuFpa6GxWkT"
   },
   "outputs": [],
   "source": [
    "spark = SparkSession.builder.appName(\"freeproj\").master(\"spark://node-master:7777\").getOrCreate() # from node-user"
   ]
  },
  {
   "cell_type": "markdown",
   "id": "49b1e6f8-e6ac-44ba-82fc-7caaec0c244a",
   "metadata": {
    "id": "49b1e6f8-e6ac-44ba-82fc-7caaec0c244a"
   },
   "source": [
    "# Schema definition"
   ]
  },
  {
   "cell_type": "markdown",
   "id": "c8b50eb3-d455-4dd9-972a-4ad87ceb088a",
   "metadata": {
    "id": "c8b50eb3-d455-4dd9-972a-4ad87ceb088a"
   },
   "source": [
    "## Data schema definition"
   ]
  },
  {
   "cell_type": "code",
   "execution_count": 62,
   "id": "ec6f7010-52fb-4ce7-b542-b53122a0720b",
   "metadata": {
    "id": "ec6f7010-52fb-4ce7-b542-b53122a0720b",
    "outputId": "7ee26fa2-657c-4a2a-f690-e47dafa35ba5",
    "tags": []
   },
   "outputs": [
    {
     "data": {
      "text/plain": [
       "['higgs_bosons',\n",
       " 'lepton_pT',\n",
       " 'lepton_eta',\n",
       " 'lepton_phi',\n",
       " 'missing_energy_magnitude',\n",
       " 'missing_energy_phi',\n",
       " 'jet_1_pt',\n",
       " 'jet_1_eta',\n",
       " 'jet_1_phi',\n",
       " 'jet_1_b-tag',\n",
       " 'jet_2_pt',\n",
       " 'jet_2_eta',\n",
       " 'jet_2_phi',\n",
       " 'jet_2_b-tag',\n",
       " 'jet_3_pt',\n",
       " 'jet_3_eta',\n",
       " 'jet_3_phi',\n",
       " 'jet_3_b-tag',\n",
       " 'jet_4_pt',\n",
       " 'jet_4_eta',\n",
       " 'jet_4_phi',\n",
       " 'jet_4_b-tag',\n",
       " 'm_jj',\n",
       " 'm_jjj',\n",
       " 'm_lv',\n",
       " 'm_jlv',\n",
       " 'm_bb',\n",
       " 'm_wbb',\n",
       " 'm_wwbb']"
      ]
     },
     "execution_count": 62,
     "metadata": {},
     "output_type": "execute_result"
    }
   ],
   "source": [
    "class_label_column = [\"higgs_bosons\"]\n",
    "kinematic_properties_columns = [f\"lepton{tag}\" for tag in [ \"_pT\", \"_eta\", \"_phi\"]] +\\\n",
    "    [\"missing_energy_magnitude\", \"missing_energy_phi\"] +\\\n",
    "    [f\"jet{number}{tag}\" for number in [\"_1\", \"_2\", \"_3\", \"_4\"] for tag in [\"_pt\", \"_eta\", \"_phi\", \"_b-tag\"]]\n",
    "functions_columns = [f\"m{tag}\" for tag in [\"_jj\", \"_jjj\", \"_lv\", \"_jlv\", \"_bb\", \"_wbb\", \"_wwbb\"]]\n",
    "\n",
    "data_schema_names = class_label_column + kinematic_properties_columns + functions_columns\n",
    "data_schema_names"
   ]
  },
  {
   "cell_type": "code",
   "execution_count": 29,
   "id": "6bc59910-7028-45fe-9417-d6a5db8af414",
   "metadata": {
    "id": "6bc59910-7028-45fe-9417-d6a5db8af414",
    "outputId": "8728418b-a8cb-43ad-9d49-834381752eb1",
    "tags": []
   },
   "outputs": [
    {
     "data": {
      "text/plain": [
       "[FloatType(),\n",
       " DoubleType(),\n",
       " DoubleType(),\n",
       " DoubleType(),\n",
       " DoubleType(),\n",
       " DoubleType(),\n",
       " DoubleType(),\n",
       " DoubleType(),\n",
       " DoubleType(),\n",
       " DoubleType(),\n",
       " DoubleType(),\n",
       " DoubleType(),\n",
       " DoubleType(),\n",
       " DoubleType(),\n",
       " DoubleType(),\n",
       " DoubleType(),\n",
       " DoubleType(),\n",
       " DoubleType(),\n",
       " DoubleType(),\n",
       " DoubleType(),\n",
       " DoubleType(),\n",
       " DoubleType(),\n",
       " DoubleType(),\n",
       " DoubleType(),\n",
       " DoubleType(),\n",
       " DoubleType(),\n",
       " DoubleType(),\n",
       " DoubleType(),\n",
       " DoubleType()]"
      ]
     },
     "execution_count": 29,
     "metadata": {},
     "output_type": "execute_result"
    }
   ],
   "source": [
    "data_schema_types = [FloatType()] + [DoubleType()]*28\n",
    "data_schema_types"
   ]
  },
  {
   "cell_type": "code",
   "execution_count": 30,
   "id": "1d40e7e8-4e02-46a5-8033-fa639ebeb42b",
   "metadata": {
    "id": "1d40e7e8-4e02-46a5-8033-fa639ebeb42b",
    "outputId": "6ff18600-575d-41a1-f908-7d43e898d589",
    "tags": []
   },
   "outputs": [
    {
     "data": {
      "text/plain": [
       "StructType([StructField('higgs_bosons', FloatType(), True), StructField('lepton_pT', DoubleType(), True), StructField('lepton_eta', DoubleType(), True), StructField('lepton_phi', DoubleType(), True), StructField('missing_energy_magnitude', DoubleType(), True), StructField('missing_energy_phi', DoubleType(), True), StructField('jet_1_pt', DoubleType(), True), StructField('jet_1_eta', DoubleType(), True), StructField('jet_1_phi', DoubleType(), True), StructField('jet_1_b-tag', DoubleType(), True), StructField('jet_2_pt', DoubleType(), True), StructField('jet_2_eta', DoubleType(), True), StructField('jet_2_phi', DoubleType(), True), StructField('jet_2_b-tag', DoubleType(), True), StructField('jet_3_pt', DoubleType(), True), StructField('jet_3_eta', DoubleType(), True), StructField('jet_3_phi', DoubleType(), True), StructField('jet_3_b-tag', DoubleType(), True), StructField('jet_4_pt', DoubleType(), True), StructField('jet_4_eta', DoubleType(), True), StructField('jet_4_phi', DoubleType(), True), StructField('jet_4_b-tag', DoubleType(), True), StructField('m_jj', DoubleType(), True), StructField('m_jjj', DoubleType(), True), StructField('m_lv', DoubleType(), True), StructField('m_jlv', DoubleType(), True), StructField('m_bb', DoubleType(), True), StructField('m_wbb', DoubleType(), True), StructField('m_wwbb', DoubleType(), True)])"
      ]
     },
     "execution_count": 30,
     "metadata": {},
     "output_type": "execute_result"
    }
   ],
   "source": [
    "data_schema = StructType([StructField(f_name, f_type) for f_name, f_type in zip(data_schema_names, data_schema_types)])\n",
    "data_schema"
   ]
  },
  {
   "cell_type": "markdown",
   "id": "7fd1ff5d-7a66-43e8-a134-fc22703916a4",
   "metadata": {
    "id": "7fd1ff5d-7a66-43e8-a134-fc22703916a4"
   },
   "source": [
    "# Data loading"
   ]
  },
  {
   "cell_type": "code",
   "execution_count": 33,
   "id": "9ec60f7b-b2de-4e5e-a059-14c970cab43c",
   "metadata": {
    "id": "53a7b41e-be9d-4c18-b09f-c015b7d20e71",
    "tags": []
   },
   "outputs": [],
   "source": [
    "df = spark.read.format(\"csv\").schema(data_schema).option(\"header\", \"False\").option(\"inferSchema\", \"True\").option(\"delimiter\",\",\").load(f\"hdfs://node-master:9000/Unibo/magistrale/bda/Dataset/HIGGS.csv\")"
   ]
  },
  {
   "cell_type": "code",
   "execution_count": 34,
   "id": "475f7014-f681-4474-958a-2d5d5d141a9c",
   "metadata": {
    "id": "475f7014-f681-4474-958a-2d5d5d141a9c",
    "outputId": "116986d7-88d3-4121-f494-8af30a9aa624",
    "tags": []
   },
   "outputs": [
    {
     "name": "stdout",
     "output_type": "stream",
     "text": [
      "+------------+------------------+-------------------+--------------------+------------------------+--------------------+------------------+--------------------+--------------------+------------------+------------------+-------------------+--------------------+------------------+------------------+--------------------+-------------------+-----------------+-------------------+--------------------+--------------------+-----------------+------------------+------------------+------------------+------------------+-------------------+------------------+------------------+\n",
      "|higgs_bosons|         lepton_pT|         lepton_eta|          lepton_phi|missing_energy_magnitude|  missing_energy_phi|          jet_1_pt|           jet_1_eta|           jet_1_phi|       jet_1_b-tag|          jet_2_pt|          jet_2_eta|           jet_2_phi|       jet_2_b-tag|          jet_3_pt|           jet_3_eta|          jet_3_phi|      jet_3_b-tag|           jet_4_pt|           jet_4_eta|           jet_4_phi|      jet_4_b-tag|              m_jj|             m_jjj|              m_lv|             m_jlv|               m_bb|             m_wbb|            m_wwbb|\n",
      "+------------+------------------+-------------------+--------------------+------------------------+--------------------+------------------+--------------------+--------------------+------------------+------------------+-------------------+--------------------+------------------+------------------+--------------------+-------------------+-----------------+-------------------+--------------------+--------------------+-----------------+------------------+------------------+------------------+------------------+-------------------+------------------+------------------+\n",
      "|         1.0| 0.869293212890625|-0.6350818276405334| 0.22569026052951813|       0.327470064163208| -0.6899932026863098|0.7542022466659546|-0.24857313930988312| -1.0920639038085938|               0.0|1.3749921321868896|-0.6536741852760315|  0.9303491115570068|1.1074360609054565| 1.138904333114624| -1.5781983137130737| -1.046985387802124|              0.0|  0.657929539680481|-0.01045456994324...| -0.0457671694457531|3.101961374282837| 1.353760004043579|0.9795631170272827| 0.978076159954071|0.9200048446655273| 0.7216574549674988|0.9887509346008301|0.8766783475875854|\n",
      "|         1.0|0.9075421094894409| 0.3291472792625427|  0.3594118654727936|      1.4979698657989502| -0.3130095303058624|  1.09553062915802| -0.5575249195098877|  -1.588229775428772|2.1730761528015137|0.8125811815261841|-0.2136419266462326|  1.2710145711898804| 2.214872121810913|0.4999939501285553| -1.2614318132400513| 0.7321561574935913|              0.0|0.39870089292526245|  -1.138930082321167|-8.19110195152461...|              0.0|0.3022198975086212|0.8330481648445129|0.9856996536254883|0.9780983924865723| 0.7797321677207947|0.9923557639122009|0.7983425855636597|\n",
      "|         1.0|0.7988347411155701| 1.4706387519836426| -1.6359747648239136|        0.45377317070961|  0.4256291687488556| 1.104874610900879|  1.2823222875595093|  1.3816642761230469|               0.0|0.8517372012138367|  1.540658950805664| -0.8196895122528076| 2.214872121810913|0.9934899210929871|  0.3560801148414612|-0.2087775468826294|2.548224449157715|  1.256954550743103|   1.128847599029541|  0.9004608392715454|              0.0|0.9097532629966736| 1.108330488204956|0.9856922030448914|0.9513312578201294| 0.8032515048980713|0.8659244179725647|0.7801175713539124|\n",
      "|         0.0| 1.344384789466858|-0.8766260147094727|  0.9359127283096313|       1.992050051689148|  0.8824543952941895| 1.786065936088562| -1.6467777490615845| -0.9423825144767761|               0.0| 2.423264741897583|-0.6760157942771912|  0.7361586689949036| 2.214872121810913|1.2987197637557983|  -1.430738091468811|-0.3646581768989563|              0.0| 0.7453126907348633| -0.6783788204193115|  -1.360356330871582|              0.0|0.9466524720191956|1.0287036895751953|0.9986560940742493|0.7282806038856506| 0.8692002296447754|1.0267364978790283|0.9579039812088013|\n",
      "|         1.0|1.1050089597702026|0.32135555148124695|   1.522401213645935|      0.8828076124191284|  -1.205349326133728|0.6814661026000977| -1.0704638957977295| -0.9218706488609314|               0.0|0.8008721470832825|  1.020974040031433|  0.9714065194129944| 2.214872121810913|0.5967612862586975|-0.35027286410331726| 0.6311942934989929|              0.0| 0.4799988865852356|-0.37356552481651306| 0.11304061114788055|              0.0| 0.755856454372406|1.3610570430755615| 0.986609697341919|0.8380846381187439| 1.1332951784133911|0.8722448945045471|0.8084865212440491|\n",
      "|         0.0| 1.595839262008667|-0.6078106760978699|0.007074915803968906|        1.81844961643219|-0.11190599203109741|0.8475499153137207| -0.5664370059967041|  1.5812393426895142|2.1730761528015137| 0.755420982837677| 0.6431096196174622|  1.4263668060302734|               0.0|0.9216607809066772| -1.1904324293136597|-1.6155890226364136|              0.0| 0.6511141061782837| -0.6542269587516785| -1.2743449211120605|3.101961374282837|0.8237605690956116|0.9381914138793945|0.9717581868171692| 0.789176344871521|0.43055328726768494|0.9613569378852844|0.9578179121017456|\n",
      "|         1.0|0.4093913435935974| -1.884683609008789|  -1.027292013168335|      1.6724517345428467| -1.6045982837677002|1.3380149602890015|0.055427443236112595| 0.01346588134765625|2.1730761528015137|0.5097832679748535|   -1.0383380651474|  0.7078623175621033|               0.0|0.7469175457954407| -0.3584651052951813|-1.6466542482376099|              0.0| 0.3670579791069031| 0.06949646025896072|  1.3771302700042725|3.101961374282837|0.8694183826446533|1.2220829725265503|1.0006273984909058|0.5450449585914612| 0.6986525058746338|0.9773144721984863|0.8287860751152039|\n",
      "|         1.0|0.9338953495025635| 0.6291297078132629|  0.5275348424911499|      0.2380327433347702| -0.9665691256523132|0.5478111505508423|-0.05943922698497772| -1.7068661451339722|2.1730761528015137|0.9410027265548706|-2.6537327766418457| -0.1572199910879135|               0.0|1.0303703546524048|-0.17550510168075562| 0.5230209231376648|2.548224449157715| 1.3735466003417969|   1.291248083114624|  -1.467454433441162|              0.0|0.9018372893333435|  1.08367121219635|0.9796960949897766|0.7833003997802734| 0.8491951823234558|0.8943563103675842|0.7748793959617615|\n",
      "|         1.0|1.4051437377929688| 0.5366026163101196|  0.6895543336868286|      1.1795673370361328| -0.1100611537694931|3.2024049758911133|  -1.526960015296936| -1.5760334730148315|               0.0| 2.931536912918091| 0.5673424601554871|-0.13003334403038025| 2.214872121810913|1.7871227264404297|  0.8994985818862915| 0.5851513147354126|2.548224449157715| 0.4018652141094208|-0.15120169520378113|  1.1634891033172607|              0.0|1.6670705080032349| 4.039272785186768| 1.175828456878662|1.0453517436981201| 1.5429719686508179|3.5348267555236816|2.7407538890838623|\n",
      "|         1.0|1.1765655279159546|0.10416050255298615|  1.3970024585723877|      0.4797213077545166|  0.2655133903026581|1.1355630159378052|   1.534830927848816|-0.25329121947288513|               0.0|1.0272465944290161| 0.5343157649040222|  1.1800223588943481|               0.0| 2.405661106109619| 0.08755676448345184|-0.9765340685844421|2.548224449157715| 1.2503825426101685| 0.26854121685028076|    0.53033447265625|              0.0|0.8331748843193054|0.7739681005477905|0.9857499599456787| 1.103696346282959| 0.8491398692131042|0.9371039867401123|0.8123638033866882|\n",
      "+------------+------------------+-------------------+--------------------+------------------------+--------------------+------------------+--------------------+--------------------+------------------+------------------+-------------------+--------------------+------------------+------------------+--------------------+-------------------+-----------------+-------------------+--------------------+--------------------+-----------------+------------------+------------------+------------------+------------------+-------------------+------------------+------------------+\n",
      "only showing top 10 rows\n",
      "\n"
     ]
    }
   ],
   "source": [
    "df.show(10)"
   ]
  },
  {
   "cell_type": "code",
   "execution_count": 35,
   "id": "b6f29207",
   "metadata": {},
   "outputs": [
    {
     "data": {
      "text/plain": [
       "[('higgs_bosons', 'float'),\n",
       " ('lepton_pT', 'double'),\n",
       " ('lepton_eta', 'double'),\n",
       " ('lepton_phi', 'double'),\n",
       " ('missing_energy_magnitude', 'double'),\n",
       " ('missing_energy_phi', 'double'),\n",
       " ('jet_1_pt', 'double'),\n",
       " ('jet_1_eta', 'double'),\n",
       " ('jet_1_phi', 'double'),\n",
       " ('jet_1_b-tag', 'double'),\n",
       " ('jet_2_pt', 'double'),\n",
       " ('jet_2_eta', 'double'),\n",
       " ('jet_2_phi', 'double'),\n",
       " ('jet_2_b-tag', 'double'),\n",
       " ('jet_3_pt', 'double'),\n",
       " ('jet_3_eta', 'double'),\n",
       " ('jet_3_phi', 'double'),\n",
       " ('jet_3_b-tag', 'double'),\n",
       " ('jet_4_pt', 'double'),\n",
       " ('jet_4_eta', 'double'),\n",
       " ('jet_4_phi', 'double'),\n",
       " ('jet_4_b-tag', 'double'),\n",
       " ('m_jj', 'double'),\n",
       " ('m_jjj', 'double'),\n",
       " ('m_lv', 'double'),\n",
       " ('m_jlv', 'double'),\n",
       " ('m_bb', 'double'),\n",
       " ('m_wbb', 'double'),\n",
       " ('m_wwbb', 'double')]"
      ]
     },
     "execution_count": 35,
     "metadata": {},
     "output_type": "execute_result"
    }
   ],
   "source": [
    "df.dtypes"
   ]
  },
  {
   "cell_type": "markdown",
   "id": "c5905762-ae62-4e28-9ac8-8daf27122a51",
   "metadata": {
    "id": "c5905762-ae62-4e28-9ac8-8daf27122a51"
   },
   "source": [
    "# Raw Data"
   ]
  },
  {
   "cell_type": "markdown",
   "id": "ecff36f4-9ef1-48b6-b692-2a501ed0bf03",
   "metadata": {
    "id": "ecff36f4-9ef1-48b6-b692-2a501ed0bf03"
   },
   "source": [
    "## General pre-processing"
   ]
  },
  {
   "cell_type": "markdown",
   "id": "fdfe84ae",
   "metadata": {},
   "source": [
    "### Cast the Float label class to Integer"
   ]
  },
  {
   "cell_type": "code",
   "execution_count": 36,
   "id": "3942f272",
   "metadata": {},
   "outputs": [
    {
     "name": "stdout",
     "output_type": "stream",
     "text": [
      "+------------+------------------+-------------------+--------------------+------------------------+--------------------+------------------+--------------------+--------------------+------------------+------------------+-------------------+--------------------+------------------+------------------+--------------------+-------------------+-----------------+-------------------+--------------------+--------------------+-----------------+------------------+------------------+------------------+------------------+-------------------+------------------+------------------+\n",
      "|higgs_bosons|         lepton_pT|         lepton_eta|          lepton_phi|missing_energy_magnitude|  missing_energy_phi|          jet_1_pt|           jet_1_eta|           jet_1_phi|       jet_1_b-tag|          jet_2_pt|          jet_2_eta|           jet_2_phi|       jet_2_b-tag|          jet_3_pt|           jet_3_eta|          jet_3_phi|      jet_3_b-tag|           jet_4_pt|           jet_4_eta|           jet_4_phi|      jet_4_b-tag|              m_jj|             m_jjj|              m_lv|             m_jlv|               m_bb|             m_wbb|            m_wwbb|\n",
      "+------------+------------------+-------------------+--------------------+------------------------+--------------------+------------------+--------------------+--------------------+------------------+------------------+-------------------+--------------------+------------------+------------------+--------------------+-------------------+-----------------+-------------------+--------------------+--------------------+-----------------+------------------+------------------+------------------+------------------+-------------------+------------------+------------------+\n",
      "|           1| 0.869293212890625|-0.6350818276405334| 0.22569026052951813|       0.327470064163208| -0.6899932026863098|0.7542022466659546|-0.24857313930988312| -1.0920639038085938|               0.0|1.3749921321868896|-0.6536741852760315|  0.9303491115570068|1.1074360609054565| 1.138904333114624| -1.5781983137130737| -1.046985387802124|              0.0|  0.657929539680481|-0.01045456994324...| -0.0457671694457531|3.101961374282837| 1.353760004043579|0.9795631170272827| 0.978076159954071|0.9200048446655273| 0.7216574549674988|0.9887509346008301|0.8766783475875854|\n",
      "|           1|0.9075421094894409| 0.3291472792625427|  0.3594118654727936|      1.4979698657989502| -0.3130095303058624|  1.09553062915802| -0.5575249195098877|  -1.588229775428772|2.1730761528015137|0.8125811815261841|-0.2136419266462326|  1.2710145711898804| 2.214872121810913|0.4999939501285553| -1.2614318132400513| 0.7321561574935913|              0.0|0.39870089292526245|  -1.138930082321167|-8.19110195152461...|              0.0|0.3022198975086212|0.8330481648445129|0.9856996536254883|0.9780983924865723| 0.7797321677207947|0.9923557639122009|0.7983425855636597|\n",
      "|           1|0.7988347411155701| 1.4706387519836426| -1.6359747648239136|        0.45377317070961|  0.4256291687488556| 1.104874610900879|  1.2823222875595093|  1.3816642761230469|               0.0|0.8517372012138367|  1.540658950805664| -0.8196895122528076| 2.214872121810913|0.9934899210929871|  0.3560801148414612|-0.2087775468826294|2.548224449157715|  1.256954550743103|   1.128847599029541|  0.9004608392715454|              0.0|0.9097532629966736| 1.108330488204956|0.9856922030448914|0.9513312578201294| 0.8032515048980713|0.8659244179725647|0.7801175713539124|\n",
      "|           0| 1.344384789466858|-0.8766260147094727|  0.9359127283096313|       1.992050051689148|  0.8824543952941895| 1.786065936088562| -1.6467777490615845| -0.9423825144767761|               0.0| 2.423264741897583|-0.6760157942771912|  0.7361586689949036| 2.214872121810913|1.2987197637557983|  -1.430738091468811|-0.3646581768989563|              0.0| 0.7453126907348633| -0.6783788204193115|  -1.360356330871582|              0.0|0.9466524720191956|1.0287036895751953|0.9986560940742493|0.7282806038856506| 0.8692002296447754|1.0267364978790283|0.9579039812088013|\n",
      "|           1|1.1050089597702026|0.32135555148124695|   1.522401213645935|      0.8828076124191284|  -1.205349326133728|0.6814661026000977| -1.0704638957977295| -0.9218706488609314|               0.0|0.8008721470832825|  1.020974040031433|  0.9714065194129944| 2.214872121810913|0.5967612862586975|-0.35027286410331726| 0.6311942934989929|              0.0| 0.4799988865852356|-0.37356552481651306| 0.11304061114788055|              0.0| 0.755856454372406|1.3610570430755615| 0.986609697341919|0.8380846381187439| 1.1332951784133911|0.8722448945045471|0.8084865212440491|\n",
      "|           0| 1.595839262008667|-0.6078106760978699|0.007074915803968906|        1.81844961643219|-0.11190599203109741|0.8475499153137207| -0.5664370059967041|  1.5812393426895142|2.1730761528015137| 0.755420982837677| 0.6431096196174622|  1.4263668060302734|               0.0|0.9216607809066772| -1.1904324293136597|-1.6155890226364136|              0.0| 0.6511141061782837| -0.6542269587516785| -1.2743449211120605|3.101961374282837|0.8237605690956116|0.9381914138793945|0.9717581868171692| 0.789176344871521|0.43055328726768494|0.9613569378852844|0.9578179121017456|\n",
      "|           1|0.4093913435935974| -1.884683609008789|  -1.027292013168335|      1.6724517345428467| -1.6045982837677002|1.3380149602890015|0.055427443236112595| 0.01346588134765625|2.1730761528015137|0.5097832679748535|   -1.0383380651474|  0.7078623175621033|               0.0|0.7469175457954407| -0.3584651052951813|-1.6466542482376099|              0.0| 0.3670579791069031| 0.06949646025896072|  1.3771302700042725|3.101961374282837|0.8694183826446533|1.2220829725265503|1.0006273984909058|0.5450449585914612| 0.6986525058746338|0.9773144721984863|0.8287860751152039|\n",
      "|           1|0.9338953495025635| 0.6291297078132629|  0.5275348424911499|      0.2380327433347702| -0.9665691256523132|0.5478111505508423|-0.05943922698497772| -1.7068661451339722|2.1730761528015137|0.9410027265548706|-2.6537327766418457| -0.1572199910879135|               0.0|1.0303703546524048|-0.17550510168075562| 0.5230209231376648|2.548224449157715| 1.3735466003417969|   1.291248083114624|  -1.467454433441162|              0.0|0.9018372893333435|  1.08367121219635|0.9796960949897766|0.7833003997802734| 0.8491951823234558|0.8943563103675842|0.7748793959617615|\n",
      "|           1|1.4051437377929688| 0.5366026163101196|  0.6895543336868286|      1.1795673370361328| -0.1100611537694931|3.2024049758911133|  -1.526960015296936| -1.5760334730148315|               0.0| 2.931536912918091| 0.5673424601554871|-0.13003334403038025| 2.214872121810913|1.7871227264404297|  0.8994985818862915| 0.5851513147354126|2.548224449157715| 0.4018652141094208|-0.15120169520378113|  1.1634891033172607|              0.0|1.6670705080032349| 4.039272785186768| 1.175828456878662|1.0453517436981201| 1.5429719686508179|3.5348267555236816|2.7407538890838623|\n",
      "|           1|1.1765655279159546|0.10416050255298615|  1.3970024585723877|      0.4797213077545166|  0.2655133903026581|1.1355630159378052|   1.534830927848816|-0.25329121947288513|               0.0|1.0272465944290161| 0.5343157649040222|  1.1800223588943481|               0.0| 2.405661106109619| 0.08755676448345184|-0.9765340685844421|2.548224449157715| 1.2503825426101685| 0.26854121685028076|    0.53033447265625|              0.0|0.8331748843193054|0.7739681005477905|0.9857499599456787| 1.103696346282959| 0.8491398692131042|0.9371039867401123|0.8123638033866882|\n",
      "+------------+------------------+-------------------+--------------------+------------------------+--------------------+------------------+--------------------+--------------------+------------------+------------------+-------------------+--------------------+------------------+------------------+--------------------+-------------------+-----------------+-------------------+--------------------+--------------------+-----------------+------------------+------------------+------------------+------------------+-------------------+------------------+------------------+\n",
      "only showing top 10 rows\n",
      "\n"
     ]
    }
   ],
   "source": [
    "df_cast = cast_label_to_integer(df)\n",
    "df_cast.show(10)"
   ]
  },
  {
   "cell_type": "markdown",
   "id": "377b4868",
   "metadata": {},
   "source": [
    "### Limtit the dataset"
   ]
  },
  {
   "cell_type": "code",
   "execution_count": 37,
   "id": "4892f1f5",
   "metadata": {},
   "outputs": [],
   "source": [
    "df_lim = df_cast.limit(100000)"
   ]
  },
  {
   "cell_type": "markdown",
   "id": "f2f6d969-7491-4d7a-b24d-62b9244e6840",
   "metadata": {
    "id": "f2f6d969-7491-4d7a-b24d-62b9244e6840"
   },
   "source": [
    "### Class distribution analysis"
   ]
  },
  {
   "cell_type": "code",
   "execution_count": 38,
   "id": "09ec68bd-8417-4b61-8a1d-3aeb0ff20b77",
   "metadata": {
    "id": "09ec68bd-8417-4b61-8a1d-3aeb0ff20b77",
    "tags": []
   },
   "outputs": [
    {
     "data": {
      "image/png": "[encoded data removed]",
      "text/plain": [
       "<Figure size 640x480 with 1 Axes>"
      ]
     },
     "metadata": {},
     "output_type": "display_data"
    }
   ],
   "source": [
    "class_distribution_inspection(df_lim)"
   ]
  },
  {
   "cell_type": "markdown",
   "id": "c4c552d5-d342-4a11-85b5-de4fd0393434",
   "metadata": {
    "id": "c4c552d5-d342-4a11-85b5-de4fd0393434"
   },
   "source": [
    "## NaNs handling"
   ]
  },
  {
   "cell_type": "markdown",
   "id": "a9629aa6-925a-4d01-9ebc-42686b384e43",
   "metadata": {
    "id": "a9629aa6-925a-4d01-9ebc-42686b384e43"
   },
   "source": [
    "### Features with NaNs"
   ]
  },
  {
   "cell_type": "code",
   "execution_count": 41,
   "id": "6f9f62a6-c29f-439a-a61e-7af4fc1e5945",
   "metadata": {
    "id": "6f9f62a6-c29f-439a-a61e-7af4fc1e5945",
    "tags": []
   },
   "outputs": [
    {
     "data": {
      "text/plain": [
       "'\\nnum_nans = [df_lim.select(feature).filter(\\n    isnan(col(feature)) |\\n    col(feature).isNull() | \\n    (col(feature) == \"\")\\n    ).count() for feature in df_lim.columns]\\nnum_nans\\n'"
      ]
     },
     "execution_count": 41,
     "metadata": {},
     "output_type": "execute_result"
    }
   ],
   "source": [
    "\n",
    "num_nans = [df_lim.select(feature).filter(\n",
    "    isnan(col(feature)) |\n",
    "    col(feature).isNull() | \n",
    "    (col(feature) == \"\")\n",
    "    ).count() for feature in df_lim.columns]\n",
    "num_nans\n"
   ]
  },
  {
   "cell_type": "markdown",
   "id": "80fea226-3cbf-45aa-b853-054b30aa610b",
   "metadata": {
    "id": "80fea226-3cbf-45aa-b853-054b30aa610b",
    "tags": []
   },
   "source": [
    "The features columns are already free of Nan values!\n",
    "\n",
    "*If* There where Nan values ther would be several options:\n",
    "* Getting rid of the columns with a very high number of NaNs, like the _heart-rate_ one. But it might contain useful information for the task.\n",
    "* Getting rid of the rows where there are the NaNs. Since there are many rows with NaN heart values, it is a bad idea of eliminating them because they are useful data for the training\n",
    "* Filling NaN values with predictions based on Nearest Neighbour or Linear Interpolation technigues."
   ]
  },
  {
   "cell_type": "markdown",
   "id": "4f540ce6-e528-43c9-b621-9910c13161f0",
   "metadata": {
    "id": "4f540ce6-e528-43c9-b621-9910c13161f0"
   },
   "source": [
    "### Rows with NaNs dropping"
   ]
  },
  {
   "cell_type": "markdown",
   "id": "93f66341-5975-4af3-988d-b0d677fb9387",
   "metadata": {
    "id": "93f66341-5975-4af3-988d-b0d677fb9387"
   },
   "source": [
    "#### Normalised"
   ]
  },
  {
   "cell_type": "code",
   "execution_count": 42,
   "id": "55b36c6c-600f-4764-a07a-a79dc3d3bc5b",
   "metadata": {
    "id": "55b36c6c-600f-4764-a07a-a79dc3d3bc5b",
    "outputId": "d49a57b1-a3d3-420f-807b-ca11e90afef4",
    "tags": []
   },
   "outputs": [
    {
     "data": {
      "image/png": "[encoded data removed]",
      "text/plain": [
       "<Figure size 640x480 with 1 Axes>"
      ]
     },
     "metadata": {},
     "output_type": "display_data"
    },
    {
     "name": "stdout",
     "output_type": "stream",
     "text": [
      "=============================\n",
      "   Rows reduction checking   \n",
      "=============================\n",
      "Before dropping rows with NaNs: \n",
      "number of rows:  100000\n",
      "After dropping rows with NaNs: \n",
      "number of rows:  100000\n"
     ]
    },
    {
     "data": {
      "image/png": "[encoded data removed]",
      "text/plain": [
       "<Figure size 640x480 with 1 Axes>"
      ]
     },
     "metadata": {},
     "output_type": "display_data"
    },
    {
     "name": "stdout",
     "output_type": "stream",
     "text": [
      "======================\n",
      "   Data description   \n",
      "======================\n",
      "['higgs_bosons', 'lepton_pT', 'lepton_eta', 'lepton_phi', 'missing_energy_magnitude', 'missing_energy_phi', 'jet_1_pt', 'jet_1_eta', 'jet_1_phi', 'jet_1_b-tag', 'jet_2_pt', 'jet_2_eta', 'jet_2_phi', 'jet_2_b-tag', 'jet_3_pt', 'jet_3_eta', 'jet_3_phi', 'jet_3_b-tag', 'jet_4_pt', 'jet_4_eta', 'jet_4_phi', 'jet_4_b-tag', 'm_jj', 'm_jjj', 'm_lv', 'm_jlv', 'm_bb', 'm_wbb', 'm_wwbb']\n",
      "feature:  lepton_pT\n"
     ]
    },
    {
     "data": {
      "image/png": "[encoded data removed]",
      "text/plain": [
       "<Figure size 640x480 with 1 Axes>"
      ]
     },
     "metadata": {},
     "output_type": "display_data"
    },
    {
     "name": "stdout",
     "output_type": "stream",
     "text": [
      "\n",
      "\n",
      "\n",
      "           lepton_pT\n",
      "count  100000.000000\n",
      "mean        0.990371\n",
      "std         0.561837\n",
      "min         0.274697\n",
      "25%         0.590936\n",
      "50%         0.854835\n",
      "75%         1.236776\n",
      "max         7.805887\n",
      "feature:  lepton_eta\n"
     ]
    },
    {
     "data": {
      "image/png": "[encoded data removed]",
      "text/plain": [
       "<Figure size 640x480 with 1 Axes>"
      ]
     },
     "metadata": {},
     "output_type": "display_data"
    },
    {
     "name": "stdout",
     "output_type": "stream",
     "text": [
      "\n",
      "\n",
      "\n",
      "          lepton_eta\n",
      "count  100000.000000\n",
      "mean       -0.003816\n",
      "std         1.004841\n",
      "min        -2.434976\n",
      "25%        -0.741244\n",
      "50%        -0.002976\n",
      "75%         0.735292\n",
      "max         2.433894\n",
      "feature:  lepton_phi\n"
     ]
    },
    {
     "data": {
      "image/png": "[encoded data removed]",
      "text/plain": [
       "<Figure size 640x480 with 1 Axes>"
      ]
     },
     "metadata": {},
     "output_type": "display_data"
    },
    {
     "name": "stdout",
     "output_type": "stream",
     "text": [
      "\n",
      "\n",
      "\n",
      "          lepton_phi\n",
      "count  100000.000000\n",
      "mean       -0.001638\n",
      "std         1.006189\n",
      "min        -1.742508\n",
      "25%        -0.868047\n",
      "50%         0.000971\n",
      "75%         0.868220\n",
      "max         1.743236\n",
      "feature:  missing_energy_magnitude\n"
     ]
    },
    {
     "data": {
      "image/png": "[encoded data removed]",
      "text/plain": [
       "<Figure size 640x480 with 1 Axes>"
      ]
     },
     "metadata": {},
     "output_type": "display_data"
    },
    {
     "name": "stdout",
     "output_type": "stream",
     "text": [
      "\n",
      "\n",
      "\n",
      "       missing_energy_magnitude\n",
      "count             100000.000000\n",
      "mean                   0.995049\n",
      "std                    0.595360\n",
      "min                    0.001283\n",
      "25%                    0.575635\n",
      "50%                    0.890268\n",
      "75%                    1.290871\n",
      "max                    7.998711\n",
      "feature:  missing_energy_phi\n"
     ]
    },
    {
     "data": {
      "image/png": "[encoded data removed]",
      "text/plain": [
       "<Figure size 640x480 with 1 Axes>"
      ]
     },
     "metadata": {},
     "output_type": "display_data"
    },
    {
     "name": "stdout",
     "output_type": "stream",
     "text": [
      "\n",
      "\n",
      "\n",
      "       missing_energy_phi\n",
      "count       100000.000000\n",
      "mean            -0.007613\n",
      "std              1.006997\n",
      "min             -1.743944\n",
      "25%             -0.881465\n",
      "50%             -0.011024\n",
      "75%              0.865868\n",
      "max              1.743229\n",
      "feature:  jet_1_pt\n"
     ]
    },
    {
     "data": {
      "image/png": "[encoded data removed]",
      "text/plain": [
       "<Figure size 640x480 with 1 Axes>"
      ]
     },
     "metadata": {},
     "output_type": "display_data"
    },
    {
     "name": "stdout",
     "output_type": "stream",
     "text": [
      "\n",
      "\n",
      "\n",
      "            jet_1_pt\n",
      "count  100000.000000\n",
      "mean        0.987114\n",
      "std         0.473118\n",
      "min         0.139976\n",
      "25%         0.676336\n",
      "50%         0.892163\n",
      "75%         1.167809\n",
      "max         7.064657\n",
      "feature:  jet_1_eta\n"
     ]
    },
    {
     "data": {
      "image/png": "[encoded data removed]",
      "text/plain": [
       "<Figure size 640x480 with 1 Axes>"
      ]
     },
     "metadata": {},
     "output_type": "display_data"
    },
    {
     "name": "stdout",
     "output_type": "stream",
     "text": [
      "\n",
      "\n",
      "\n",
      "           jet_1_eta\n",
      "count  100000.000000\n",
      "mean       -0.003000\n",
      "std         1.008685\n",
      "min        -2.968735\n",
      "25%        -0.688235\n",
      "50%        -0.000025\n",
      "75%         0.683233\n",
      "max         2.969674\n",
      "feature:  jet_1_phi\n"
     ]
    },
    {
     "data": {
      "image/png": "[encoded data removed]",
      "text/plain": [
       "<Figure size 640x480 with 1 Axes>"
      ]
     },
     "metadata": {},
     "output_type": "display_data"
    },
    {
     "name": "stdout",
     "output_type": "stream",
     "text": [
      "\n",
      "\n",
      "\n",
      "           jet_1_phi\n",
      "count  100000.000000\n",
      "mean        0.000438\n",
      "std         1.008430\n",
      "min        -1.741237\n",
      "25%        -0.867542\n",
      "50%        -0.003822\n",
      "75%         0.871223\n",
      "max         1.741454\n",
      "feature:  jet_1_b-tag\n"
     ]
    },
    {
     "data": {
      "image/png": "[encoded data removed]",
      "text/plain": [
       "<Figure size 640x480 with 1 Axes>"
      ]
     },
     "metadata": {},
     "output_type": "display_data"
    },
    {
     "name": "stdout",
     "output_type": "stream",
     "text": [
      "\n",
      "\n",
      "\n",
      "         jet_1_b-tag\n",
      "count  100000.000000\n",
      "mean        0.998344\n",
      "std         1.027402\n",
      "min         0.000000\n",
      "25%         0.000000\n",
      "50%         1.086538\n",
      "75%         2.173076\n",
      "max         2.173076\n",
      "feature:  jet_2_pt\n"
     ]
    },
    {
     "data": {
      "image/png": "[encoded data removed]",
      "text/plain": [
       "<Figure size 640x480 with 1 Axes>"
      ]
     },
     "metadata": {},
     "output_type": "display_data"
    },
    {
     "name": "stdout",
     "output_type": "stream",
     "text": [
      "\n",
      "\n",
      "\n",
      "            jet_2_pt\n",
      "count  100000.000000\n",
      "mean        0.991302\n",
      "std         0.498242\n",
      "min         0.188981\n",
      "25%         0.656964\n",
      "50%         0.889256\n",
      "75%         1.199483\n",
      "max         8.280169\n",
      "feature:  jet_2_eta\n"
     ]
    },
    {
     "data": {
      "image/png": "[encoded data removed]",
      "text/plain": [
       "<Figure size 640x480 with 1 Axes>"
      ]
     },
     "metadata": {},
     "output_type": "display_data"
    },
    {
     "name": "stdout",
     "output_type": "stream",
     "text": [
      "\n",
      "\n",
      "\n",
      "           jet_2_eta\n",
      "count  100000.000000\n",
      "mean       -0.001061\n",
      "std         1.004953\n",
      "min        -2.913090\n",
      "25%        -0.695443\n",
      "50%         0.002003\n",
      "75%         0.691921\n",
      "max         2.913210\n",
      "feature:  jet_2_phi\n"
     ]
    },
    {
     "data": {
      "image/png": "[encoded data removed]",
      "text/plain": [
       "<Figure size 640x480 with 1 Axes>"
      ]
     },
     "metadata": {},
     "output_type": "display_data"
    },
    {
     "name": "stdout",
     "output_type": "stream",
     "text": [
      "\n",
      "\n",
      "\n",
      "           jet_2_phi\n",
      "count  100000.000000\n",
      "mean        0.003546\n",
      "std         1.006867\n",
      "min        -1.742372\n",
      "25%        -0.868515\n",
      "50%         0.008222\n",
      "75%         0.876531\n",
      "max         1.743175\n",
      "feature:  jet_2_b-tag\n"
     ]
    },
    {
     "data": {
      "image/png": "[encoded data removed]",
      "text/plain": [
       "<Figure size 640x480 with 1 Axes>"
      ]
     },
     "metadata": {},
     "output_type": "display_data"
    },
    {
     "name": "stdout",
     "output_type": "stream",
     "text": [
      "\n",
      "\n",
      "\n",
      "         jet_2_b-tag\n",
      "count  100000.000000\n",
      "mean        1.004145\n",
      "std         1.049192\n",
      "min         0.000000\n",
      "25%         0.000000\n",
      "50%         1.107436\n",
      "75%         2.214872\n",
      "max         2.214872\n",
      "feature:  jet_3_pt\n"
     ]
    },
    {
     "data": {
      "image/png": "[encoded data removed]",
      "text/plain": [
       "<Figure size 640x480 with 1 Axes>"
      ]
     },
     "metadata": {},
     "output_type": "display_data"
    },
    {
     "name": "stdout",
     "output_type": "stream",
     "text": [
      "\n",
      "\n",
      "\n",
      "            jet_3_pt\n",
      "count  100000.000000\n",
      "mean        0.993414\n",
      "std         0.487705\n",
      "min         0.263608\n",
      "25%         0.654892\n",
      "50%         0.898479\n",
      "75%         1.221798\n",
      "max         8.509908\n",
      "feature:  jet_3_eta\n"
     ]
    },
    {
     "data": {
      "image/png": "[encoded data removed]",
      "text/plain": [
       "<Figure size 640x480 with 1 Axes>"
      ]
     },
     "metadata": {},
     "output_type": "display_data"
    },
    {
     "name": "stdout",
     "output_type": "stream",
     "text": [
      "\n",
      "\n",
      "\n",
      "           jet_3_eta\n",
      "count  100000.000000\n",
      "mean        0.002149\n",
      "std         1.008668\n",
      "min        -2.729663\n",
      "25%        -0.696167\n",
      "50%         0.001993\n",
      "75%         0.701975\n",
      "max         2.730009\n",
      "feature:  jet_3_phi\n"
     ]
    },
    {
     "data": {
      "image/png": "[encoded data removed]",
      "text/plain": [
       "<Figure size 640x480 with 1 Axes>"
      ]
     },
     "metadata": {},
     "output_type": "display_data"
    },
    {
     "name": "stdout",
     "output_type": "stream",
     "text": [
      "\n",
      "\n",
      "\n",
      "           jet_3_phi\n",
      "count  100000.000000\n",
      "mean        0.001222\n",
      "std         1.005330\n",
      "min        -1.742069\n",
      "25%        -0.865587\n",
      "50%        -0.000752\n",
      "75%         0.873614\n",
      "max         1.742884\n",
      "feature:  jet_3_b-tag\n"
     ]
    },
    {
     "data": {
      "image/png": "[encoded data removed]",
      "text/plain": [
       "<Figure size 640x480 with 1 Axes>"
      ]
     },
     "metadata": {},
     "output_type": "display_data"
    },
    {
     "name": "stdout",
     "output_type": "stream",
     "text": [
      "\n",
      "\n",
      "\n",
      "         jet_3_b-tag\n",
      "count  100000.000000\n",
      "mean        1.005580\n",
      "std         1.196112\n",
      "min         0.000000\n",
      "25%         0.000000\n",
      "50%         0.000000\n",
      "75%         2.548224\n",
      "max         2.548224\n",
      "feature:  jet_4_pt\n"
     ]
    },
    {
     "data": {
      "image/png": "[encoded data removed]",
      "text/plain": [
       "<Figure size 640x480 with 1 Axes>"
      ]
     },
     "metadata": {},
     "output_type": "display_data"
    },
    {
     "name": "stdout",
     "output_type": "stream",
     "text": [
      "\n",
      "\n",
      "\n",
      "            jet_4_pt\n",
      "count  100000.000000\n",
      "mean        0.985523\n",
      "std         0.504635\n",
      "min         0.365354\n",
      "25%         0.617463\n",
      "50%         0.869207\n",
      "75%         1.220687\n",
      "max         7.705783\n",
      "feature:  jet_4_eta\n"
     ]
    },
    {
     "data": {
      "image/png": "[encoded data removed]",
      "text/plain": [
       "<Figure size 640x480 with 1 Axes>"
      ]
     },
     "metadata": {},
     "output_type": "display_data"
    },
    {
     "name": "stdout",
     "output_type": "stream",
     "text": [
      "\n",
      "\n",
      "\n",
      "           jet_4_eta\n",
      "count  100000.000000\n",
      "mean       -0.007575\n",
      "std         1.009173\n",
      "min        -2.497265\n",
      "25%        -0.725017\n",
      "50%        -0.010455\n",
      "75%         0.710770\n",
      "max         2.498009\n",
      "feature:  jet_4_phi\n"
     ]
    },
    {
     "data": {
      "image/png": "[encoded data removed]",
      "text/plain": [
       "<Figure size 640x480 with 1 Axes>"
      ]
     },
     "metadata": {},
     "output_type": "display_data"
    },
    {
     "name": "stdout",
     "output_type": "stream",
     "text": [
      "\n",
      "\n",
      "\n",
      "           jet_4_phi\n",
      "count  100000.000000\n",
      "mean       -0.004029\n",
      "std         1.007090\n",
      "min        -1.742691\n",
      "25%        -0.877028\n",
      "50%        -0.009698\n",
      "75%         0.869386\n",
      "max         1.743372\n",
      "feature:  jet_4_b-tag\n"
     ]
    },
    {
     "data": {
      "image/png": "[encoded data removed]",
      "text/plain": [
       "<Figure size 640x480 with 1 Axes>"
      ]
     },
     "metadata": {},
     "output_type": "display_data"
    },
    {
     "name": "stdout",
     "output_type": "stream",
     "text": [
      "\n",
      "\n",
      "\n",
      "         jet_4_b-tag\n",
      "count  100000.000000\n",
      "mean        0.992721\n",
      "std         1.396788\n",
      "min         0.000000\n",
      "25%         0.000000\n",
      "50%         0.000000\n",
      "75%         3.101961\n",
      "max         3.101961\n",
      "feature:  m_jj\n"
     ]
    },
    {
     "data": {
      "image/png": "[encoded data removed]",
      "text/plain": [
       "<Figure size 640x480 with 1 Axes>"
      ]
     },
     "metadata": {},
     "output_type": "display_data"
    },
    {
     "name": "stdout",
     "output_type": "stream",
     "text": [
      "\n",
      "\n",
      "\n",
      "                m_jj\n",
      "count  100000.000000\n",
      "mean        1.032611\n",
      "std         0.652455\n",
      "min         0.110875\n",
      "25%         0.791306\n",
      "50%         0.895600\n",
      "75%         1.025925\n",
      "max        18.428827\n",
      "feature:  m_jjj\n"
     ]
    },
    {
     "data": {
      "image/png": "[encoded data removed]",
      "text/plain": [
       "<Figure size 640x480 with 1 Axes>"
      ]
     },
     "metadata": {},
     "output_type": "display_data"
    },
    {
     "name": "stdout",
     "output_type": "stream",
     "text": [
      "\n",
      "\n",
      "\n",
      "               m_jjj\n",
      "count  100000.000000\n",
      "mean        1.023153\n",
      "std         0.371610\n",
      "min         0.303144\n",
      "25%         0.846631\n",
      "50%         0.950719\n",
      "75%         1.083218\n",
      "max        10.038273\n",
      "feature:  m_lv\n"
     ]
    },
    {
     "data": {
      "image/png": "[encoded data removed]",
      "text/plain": [
       "<Figure size 640x480 with 1 Axes>"
      ]
     },
     "metadata": {},
     "output_type": "display_data"
    },
    {
     "name": "stdout",
     "output_type": "stream",
     "text": [
      "\n",
      "\n",
      "\n",
      "                m_lv\n",
      "count  100000.000000\n",
      "mean        1.050193\n",
      "std         0.164857\n",
      "min         0.133012\n",
      "25%         0.985775\n",
      "50%         0.989742\n",
      "75%         1.020762\n",
      "max         4.565248\n",
      "feature:  m_jlv\n"
     ]
    },
    {
     "data": {
      "image/png": "[encoded data removed]",
      "text/plain": [
       "<Figure size 640x480 with 1 Axes>"
      ]
     },
     "metadata": {},
     "output_type": "display_data"
    },
    {
     "name": "stdout",
     "output_type": "stream",
     "text": [
      "\n",
      "\n",
      "\n",
      "               m_jlv\n",
      "count  100000.000000\n",
      "mean        1.010189\n",
      "std         0.398267\n",
      "min         0.295983\n",
      "25%         0.767261\n",
      "50%         0.917302\n",
      "75%         1.141633\n",
      "max         7.442589\n",
      "feature:  m_bb\n"
     ]
    },
    {
     "data": {
      "image/png": "[encoded data removed]",
      "text/plain": [
       "<Figure size 640x480 with 1 Axes>"
      ]
     },
     "metadata": {},
     "output_type": "display_data"
    },
    {
     "name": "stdout",
     "output_type": "stream",
     "text": [
      "\n",
      "\n",
      "\n",
      "                m_bb\n",
      "count  100000.000000\n",
      "mean        0.973081\n",
      "std         0.523552\n",
      "min         0.048125\n",
      "25%         0.673792\n",
      "50%         0.874004\n",
      "75%         1.139816\n",
      "max        11.994177\n",
      "feature:  m_wbb\n"
     ]
    },
    {
     "data": {
      "image/png": "[encoded data removed]",
      "text/plain": [
       "<Figure size 640x480 with 1 Axes>"
      ]
     },
     "metadata": {},
     "output_type": "display_data"
    },
    {
     "name": "stdout",
     "output_type": "stream",
     "text": [
      "\n",
      "\n",
      "\n",
      "               m_wbb\n",
      "count  100000.000000\n",
      "mean        1.031873\n",
      "std         0.363394\n",
      "min         0.303350\n",
      "25%         0.819170\n",
      "50%         0.947037\n",
      "75%         1.139032\n",
      "max         7.318191\n",
      "feature:  m_wwbb\n"
     ]
    },
    {
     "data": {
      "image/png": "[encoded data removed]",
      "text/plain": [
       "<Figure size 640x480 with 1 Axes>"
      ]
     },
     "metadata": {},
     "output_type": "display_data"
    },
    {
     "name": "stdout",
     "output_type": "stream",
     "text": [
      "\n",
      "\n",
      "\n",
      "              m_wwbb\n",
      "count  100000.000000\n",
      "mean        0.959199\n",
      "std         0.313257\n",
      "min         0.350939\n",
      "25%         0.769964\n",
      "50%         0.871038\n",
      "75%         1.057478\n",
      "max         6.015647\n",
      "=================================\n",
      "   Getting train-test datasets   \n",
      "=================================\n",
      "Assembly-normalise\n",
      "Train-test splitting\n",
      "Assembly-normalise train\n",
      "Assembly-normalise test\n",
      "Train schema: \n",
      "root\n",
      " |-- features: vector (nullable = true)\n",
      " |-- higgs_bosons_indexes: double (nullable = false)\n",
      "\n",
      "Test schema: \n",
      "root\n",
      " |-- features: vector (nullable = true)\n",
      " |-- higgs_bosons_indexes: double (nullable = false)\n",
      "\n"
     ]
    }
   ],
   "source": [
    "train, test = rows_with_NaNs_dropping(df_lim, True)"
   ]
  },
  {
   "cell_type": "code",
   "execution_count": 43,
   "id": "6c8ff6f2",
   "metadata": {},
   "outputs": [
    {
     "name": "stdout",
     "output_type": "stream",
     "text": [
      "+--------------------+--------------------+\n",
      "|            features|higgs_bosons_indexes|\n",
      "+--------------------+--------------------+\n",
      "|[0.0,0.4869891560...|                 1.0|\n",
      "|[0.0,0.4873136115...|                 1.0|\n",
      "|[0.0,0.4873136115...|                 1.0|\n",
      "|[0.0,0.4876380142...|                 1.0|\n",
      "|[0.0,0.4876380142...|                 1.0|\n",
      "|[0.0,0.4876380142...|                 1.0|\n",
      "|[0.0,0.4882869251...|                 1.0|\n",
      "|[0.0,0.4882869251...|                 1.0|\n",
      "|[0.0,0.4882869251...|                 1.0|\n",
      "|[0.0,0.4886113806...|                 1.0|\n",
      "|[0.0,0.4886113806...|                 1.0|\n",
      "|[0.0,0.4886113806...|                 1.0|\n",
      "|[0.0,0.4889357833...|                 1.0|\n",
      "|[0.0,0.4889357833...|                 1.0|\n",
      "|[0.0,0.4892602388...|                 1.0|\n",
      "|[0.0,0.4892602388...|                 1.0|\n",
      "|[0.0,0.4892602388...|                 1.0|\n",
      "|[0.0,0.4899091498...|                 1.0|\n",
      "|[0.0,0.4902335525...|                 1.0|\n",
      "|[0.0,0.4902335525...|                 1.0|\n",
      "+--------------------+--------------------+\n",
      "only showing top 20 rows\n",
      "\n"
     ]
    }
   ],
   "source": [
    "train.show()"
   ]
  },
  {
   "cell_type": "code",
   "execution_count": 44,
   "id": "8ff5d846",
   "metadata": {},
   "outputs": [
    {
     "name": "stdout",
     "output_type": "stream",
     "text": [
      "+--------------------+--------------------+\n",
      "|            features|higgs_bosons_indexes|\n",
      "+--------------------+--------------------+\n",
      "|[0.0,0.4938461029...|                 1.0|\n",
      "|[0.0,0.4941748542...|                 1.0|\n",
      "|[0.0,0.4941748542...|                 1.0|\n",
      "|[0.0,0.4945036590...|                 1.0|\n",
      "|[0.0,0.4951612688...|                 1.0|\n",
      "|[0.0,0.4951612688...|                 1.0|\n",
      "|[0.0,0.4951612688...|                 1.0|\n",
      "|[0.0,0.4954900201...|                 1.0|\n",
      "|[0.0,0.4954900201...|                 1.0|\n",
      "|[0.0,0.4954900201...|                 1.0|\n",
      "|[0.0,0.4958188249...|                 1.0|\n",
      "|[0.0,0.4961476298...|                 1.0|\n",
      "|[0.0,0.4961476298...|                 1.0|\n",
      "|[0.0,0.4964764346...|                 1.0|\n",
      "|[0.0,0.4968051860...|                 1.0|\n",
      "|[0.0,0.4968051860...|                 1.0|\n",
      "|[0.0,0.4968051860...|                 1.0|\n",
      "|[0.0,0.4971339908...|                 1.0|\n",
      "|[0.0,0.4971339908...|                 1.0|\n",
      "|[0.0,0.4971339908...|                 1.0|\n",
      "+--------------------+--------------------+\n",
      "only showing top 20 rows\n",
      "\n"
     ]
    }
   ],
   "source": [
    "test.show()"
   ]
  },
  {
   "cell_type": "markdown",
   "id": "1a919155-4262-478f-9957-dbe2ac52834a",
   "metadata": {
    "id": "1a919155-4262-478f-9957-dbe2ac52834a"
   },
   "source": [
    "##### Training"
   ]
  },
  {
   "cell_type": "code",
   "execution_count": 45,
   "id": "22c94c4d-eff4-4908-9c79-33823689f665",
   "metadata": {
    "id": "22c94c4d-eff4-4908-9c79-33823689f665",
    "outputId": "14985d76-1f70-4102-9040-b49a965dd741",
    "tags": []
   },
   "outputs": [
    {
     "name": "stdout",
     "output_type": "stream",
     "text": [
      "==============\n",
      "   Training   \n",
      "==============\n",
      "cacheNodeIds: If false, the algorithm will pass trees to executors to match instances with nodes. If true, the algorithm will cache node IDs for each instance. Caching can speed up training of deeper trees. Users can set how often should the cache be checkpointed or disable it by setting checkpointInterval. (default: False)\n",
      "checkpointInterval: set checkpoint interval (>= 1) or disable checkpoint (-1). E.g. 10 means that the cache will get checkpointed every 10 iterations. Note: this setting will be ignored if the checkpoint directory is not set in the SparkContext. (default: 10)\n",
      "featuresCol: features column name. (default: features)\n",
      "impurity: Criterion used for information gain calculation (case-insensitive). Supported options: entropy, gini (default: gini)\n",
      "labelCol: label column name. (default: label, current: higgs_bosons_indexes)\n",
      "leafCol: Leaf indices column name. Predicted leaf index of each instance in each tree by preorder. (default: )\n",
      "maxBins: Max number of bins for discretizing continuous features.  Must be >=2 and >= number of categories for any categorical feature. (default: 32)\n",
      "maxDepth: Maximum depth of the tree. (>= 0) E.g., depth 0 means 1 leaf node; depth 1 means 1 internal node + 2 leaf nodes. Must be in range [0, 30]. (default: 5)\n",
      "maxMemoryInMB: Maximum memory in MB allocated to histogram aggregation. If too small, then 1 node will be split per iteration, and its aggregates may exceed this size. (default: 256)\n",
      "minInfoGain: Minimum information gain for a split to be considered at a tree node. (default: 0.0)\n",
      "minInstancesPerNode: Minimum number of instances each child must have after split. If a split causes the left or right child to have fewer than minInstancesPerNode, the split will be discarded as invalid. Should be >= 1. (default: 1)\n",
      "minWeightFractionPerNode: Minimum fraction of the weighted sample count that each child must have after split. If a split causes the fraction of the total weight in the left or right child to be less than minWeightFractionPerNode, the split will be discarded as invalid. Should be in interval [0.0, 0.5). (default: 0.0)\n",
      "predictionCol: prediction column name. (default: prediction)\n",
      "probabilityCol: Column name for predicted class conditional probabilities. Note: Not all models output well-calibrated probability estimates! These probabilities should be treated as confidences, not precise probabilities. (default: probability)\n",
      "rawPredictionCol: raw prediction (a.k.a. confidence) column name. (default: rawPrediction)\n",
      "seed: random seed. (default: -6108839987537888778, current: 42)\n",
      "thresholds: Thresholds in multi-class classification to adjust the probability of predicting each class. Array must have length equal to the number of classes, with values > 0, excepting that at most one value may be 0. The class with largest value p/t is predicted, where p is the original probability of that class and t is the class's threshold. (undefined)\n",
      "weightCol: weight column name. If this is not set or empty, we treat all instance weights as 1.0. (undefined)\n",
      "DataFrame[higgs_bosons_indexes: double, prediction: double]\n",
      "bootstrap: Whether bootstrap samples are used when building trees. (default: True)\n",
      "cacheNodeIds: If false, the algorithm will pass trees to executors to match instances with nodes. If true, the algorithm will cache node IDs for each instance. Caching can speed up training of deeper trees. Users can set how often should the cache be checkpointed or disable it by setting checkpointInterval. (default: False)\n",
      "checkpointInterval: set checkpoint interval (>= 1) or disable checkpoint (-1). E.g. 10 means that the cache will get checkpointed every 10 iterations. Note: this setting will be ignored if the checkpoint directory is not set in the SparkContext. (default: 10)\n",
      "featureSubsetStrategy: The number of features to consider for splits at each tree node. Supported options: 'auto' (choose automatically for task: If numTrees == 1, set to 'all'. If numTrees > 1 (forest), set to 'sqrt' for classification and to 'onethird' for regression), 'all' (use all features), 'onethird' (use 1/3 of the features), 'sqrt' (use sqrt(number of features)), 'log2' (use log2(number of features)), 'n' (when n is in the range (0, 1.0], use n * number of features. When n is in the range (1, number of features), use n features). default = 'auto' (default: auto)\n",
      "featuresCol: features column name. (default: features)\n",
      "impurity: Criterion used for information gain calculation (case-insensitive). Supported options: entropy, gini (default: gini)\n",
      "labelCol: label column name. (default: label, current: higgs_bosons_indexes)\n",
      "leafCol: Leaf indices column name. Predicted leaf index of each instance in each tree by preorder. (default: )\n",
      "maxBins: Max number of bins for discretizing continuous features.  Must be >=2 and >= number of categories for any categorical feature. (default: 32)\n",
      "maxDepth: Maximum depth of the tree. (>= 0) E.g., depth 0 means 1 leaf node; depth 1 means 1 internal node + 2 leaf nodes. Must be in range [0, 30]. (default: 5)\n",
      "maxMemoryInMB: Maximum memory in MB allocated to histogram aggregation. If too small, then 1 node will be split per iteration, and its aggregates may exceed this size. (default: 256)\n",
      "minInfoGain: Minimum information gain for a split to be considered at a tree node. (default: 0.0)\n",
      "minInstancesPerNode: Minimum number of instances each child must have after split. If a split causes the left or right child to have fewer than minInstancesPerNode, the split will be discarded as invalid. Should be >= 1. (default: 1)\n",
      "minWeightFractionPerNode: Minimum fraction of the weighted sample count that each child must have after split. If a split causes the fraction of the total weight in the left or right child to be less than minWeightFractionPerNode, the split will be discarded as invalid. Should be in interval [0.0, 0.5). (default: 0.0)\n",
      "numTrees: Number of trees to train (>= 1). (default: 20)\n",
      "predictionCol: prediction column name. (default: prediction)\n",
      "probabilityCol: Column name for predicted class conditional probabilities. Note: Not all models output well-calibrated probability estimates! These probabilities should be treated as confidences, not precise probabilities. (default: probability)\n",
      "rawPredictionCol: raw prediction (a.k.a. confidence) column name. (default: rawPrediction)\n",
      "seed: random seed. (default: 7096566530939830944, current: 42)\n",
      "subsamplingRate: Fraction of the training data used for learning each decision tree, in range (0, 1]. (default: 1.0)\n",
      "thresholds: Thresholds in multi-class classification to adjust the probability of predicting each class. Array must have length equal to the number of classes, with values > 0, excepting that at most one value may be 0. The class with largest value p/t is predicted, where p is the original probability of that class and t is the class's threshold. (undefined)\n",
      "weightCol: weight column name. If this is not set or empty, we treat all instance weights as 1.0. (undefined)\n",
      "DataFrame[higgs_bosons_indexes: double, prediction: double]\n",
      "distanceMeasure: the distance measure. Supported options: 'euclidean' and 'cosine'. (default: euclidean)\n",
      "featuresCol: features column name. (default: features)\n",
      "initMode: The initialization algorithm. This can be either \"random\" to choose random points as initial cluster centers, or \"k-means||\" to use a parallel variant of k-means++ (default: k-means||)\n",
      "initSteps: The number of steps for k-means|| initialization mode. Must be > 0. (default: 2)\n",
      "k: The number of clusters to create. Must be > 1. (default: 2, current: 2)\n",
      "maxIter: max number of iterations (>= 0). (default: 20)\n",
      "predictionCol: prediction column name. (default: prediction)\n",
      "seed: random seed. (default: -5132860448238640954, current: 42)\n",
      "tol: the convergence tolerance for iterative algorithms (>= 0). (default: 0.0001)\n",
      "weightCol: weight column name. If this is not set or empty, we treat all instance weights as 1.0. (undefined)\n",
      "DataFrame[higgs_bosons_indexes: double, prediction: double]\n",
      "===================\n",
      "   Train results   \n",
      "===================\n",
      "{DecisionTreeClassifier_2981a6fff37e: {'cls': DecisionTreeClassificationModel: uid=DecisionTreeClassifier_2981a6fff37e, depth=1, numNodes=3, numClasses=2, numFeatures=30, 'train_result': DataFrame[higgs_bosons_indexes: double, prediction: double], 'accuracy': 1.0, 'f1': 1.0}, RandomForestClassifier_a82195cbcbe5: {'cls': RandomForestClassificationModel: uid=RandomForestClassifier_a82195cbcbe5, numTrees=20, numClasses=2, numFeatures=30, 'train_result': DataFrame[higgs_bosons_indexes: double, prediction: double], 'accuracy': 1.0, 'f1': 1.0}, KMeans_4f36a958789b: {'cls': KMeansModel: uid=KMeans_4f36a958789b, k=2, distanceMeasure=euclidean, numFeatures=30, 'train_result': DataFrame[higgs_bosons_indexes: double, prediction: double], 'accuracy': 0.5632175690939506, 'f1': 0.5129435890782776}}\n"
     ]
    }
   ],
   "source": [
    "train_results = training(train, label = \"higgs_bosons_indexes\")"
   ]
  },
  {
   "cell_type": "markdown",
   "id": "a4b75462-1747-4b27-8bc9-c0064d33030a",
   "metadata": {
    "id": "a4b75462-1747-4b27-8bc9-c0064d33030a"
   },
   "source": [
    "##### Testing"
   ]
  },
  {
   "cell_type": "code",
   "execution_count": 46,
   "id": "96bb1887-de91-4386-b042-0a753a2b069d",
   "metadata": {
    "id": "96bb1887-de91-4386-b042-0a753a2b069d",
    "outputId": "4f427cae-3114-4661-ce50-ab48162ad24e",
    "tags": []
   },
   "outputs": [
    {
     "name": "stdout",
     "output_type": "stream",
     "text": [
      "=============\n",
      "   Testing   \n",
      "=============\n",
      "{'cls': DecisionTreeClassificationModel: uid=DecisionTreeClassifier_2981a6fff37e, depth=1, numNodes=3, numClasses=2, numFeatures=30, 'train_result': DataFrame[higgs_bosons_indexes: double, prediction: double], 'accuracy': 1.0, 'f1': 1.0}\n",
      "<class 'dict'>\n",
      "Classifier:  DecisionTreeClassifier_2981a6fff37e\n"
     ]
    },
    {
     "name": "stdout",
     "output_type": "stream",
     "text": [
      "+--------------------+----------+\n",
      "|higgs_bosons_indexes|prediction|\n",
      "+--------------------+----------+\n",
      "|                 1.0|       1.0|\n",
      "|                 1.0|       1.0|\n",
      "|                 1.0|       1.0|\n",
      "|                 1.0|       1.0|\n",
      "|                 1.0|       1.0|\n",
      "|                 1.0|       1.0|\n",
      "|                 1.0|       1.0|\n",
      "|                 1.0|       1.0|\n",
      "|                 1.0|       1.0|\n",
      "|                 1.0|       1.0|\n",
      "|                 1.0|       1.0|\n",
      "|                 1.0|       1.0|\n",
      "|                 1.0|       1.0|\n",
      "|                 1.0|       1.0|\n",
      "|                 1.0|       1.0|\n",
      "|                 1.0|       1.0|\n",
      "|                 1.0|       1.0|\n",
      "|                 1.0|       1.0|\n",
      "|                 1.0|       1.0|\n",
      "|                 1.0|       1.0|\n",
      "+--------------------+----------+\n",
      "only showing top 20 rows\n",
      "\n",
      "{'cls': RandomForestClassificationModel: uid=RandomForestClassifier_a82195cbcbe5, numTrees=20, numClasses=2, numFeatures=30, 'train_result': DataFrame[higgs_bosons_indexes: double, prediction: double], 'accuracy': 1.0, 'f1': 1.0}\n",
      "<class 'dict'>\n",
      "Classifier:  RandomForestClassifier_a82195cbcbe5\n",
      "+--------------------+----------+\n",
      "|higgs_bosons_indexes|prediction|\n",
      "+--------------------+----------+\n",
      "|                 1.0|       1.0|\n",
      "|                 1.0|       1.0|\n",
      "|                 1.0|       1.0|\n",
      "|                 1.0|       1.0|\n",
      "|                 1.0|       1.0|\n",
      "|                 1.0|       1.0|\n",
      "|                 1.0|       1.0|\n",
      "|                 1.0|       1.0|\n",
      "|                 1.0|       1.0|\n",
      "|                 1.0|       1.0|\n",
      "|                 1.0|       1.0|\n",
      "|                 1.0|       1.0|\n",
      "|                 1.0|       1.0|\n",
      "|                 1.0|       1.0|\n",
      "|                 1.0|       1.0|\n",
      "|                 1.0|       1.0|\n",
      "|                 1.0|       1.0|\n",
      "|                 1.0|       1.0|\n",
      "|                 1.0|       1.0|\n",
      "|                 1.0|       1.0|\n",
      "+--------------------+----------+\n",
      "only showing top 20 rows\n",
      "\n",
      "{'cls': KMeansModel: uid=KMeans_4f36a958789b, k=2, distanceMeasure=euclidean, numFeatures=30, 'train_result': DataFrame[higgs_bosons_indexes: double, prediction: double], 'accuracy': 0.5632175690939506, 'f1': 0.5129435890782776}\n",
      "<class 'dict'>\n",
      "Classifier:  KMeans_4f36a958789b\n",
      "+--------------------+----------+\n",
      "|higgs_bosons_indexes|prediction|\n",
      "+--------------------+----------+\n",
      "|                 1.0|       0.0|\n",
      "|                 1.0|       0.0|\n",
      "|                 1.0|       0.0|\n",
      "|                 1.0|       1.0|\n",
      "|                 1.0|       1.0|\n",
      "|                 1.0|       0.0|\n",
      "|                 1.0|       1.0|\n",
      "|                 1.0|       0.0|\n",
      "|                 1.0|       0.0|\n",
      "|                 1.0|       1.0|\n",
      "|                 1.0|       0.0|\n",
      "|                 1.0|       1.0|\n",
      "|                 1.0|       0.0|\n",
      "|                 1.0|       1.0|\n",
      "|                 1.0|       1.0|\n",
      "|                 1.0|       1.0|\n",
      "|                 1.0|       1.0|\n",
      "|                 1.0|       1.0|\n",
      "|                 1.0|       0.0|\n",
      "|                 1.0|       0.0|\n",
      "+--------------------+----------+\n",
      "only showing top 20 rows\n",
      "\n",
      "==================\n",
      "   Test results   \n",
      "==================\n",
      "{DecisionTreeClassifier_2981a6fff37e: {'cls': DecisionTreeClassificationModel: uid=DecisionTreeClassifier_2981a6fff37e, depth=1, numNodes=3, numClasses=2, numFeatures=30, 'test_result': DataFrame[higgs_bosons_indexes: double, prediction: double], 'accuracy': 1.0, 'f1': 1.0}, RandomForestClassifier_a82195cbcbe5: {'cls': RandomForestClassificationModel: uid=RandomForestClassifier_a82195cbcbe5, numTrees=20, numClasses=2, numFeatures=30, 'test_result': DataFrame[higgs_bosons_indexes: double, prediction: double], 'accuracy': 1.0, 'f1': 1.0}, KMeans_4f36a958789b: {'cls': KMeansModel: uid=KMeans_4f36a958789b, k=2, distanceMeasure=euclidean, numFeatures=30, 'test_result': DataFrame[higgs_bosons_indexes: double, prediction: double], 'accuracy': 0.5650553910642403, 'f1': 0.5159280655330576}}\n"
     ]
    }
   ],
   "source": [
    "testing(test, train_results, label = \"higgs_bosons_indexes\")"
   ]
  },
  {
   "cell_type": "markdown",
   "id": "296c5bf8-7f54-46ea-9821-07b15b0f99c2",
   "metadata": {
    "id": "296c5bf8-7f54-46ea-9821-07b15b0f99c2"
   },
   "source": [
    "#### Non-normalised"
   ]
  },
  {
   "cell_type": "code",
   "execution_count": 47,
   "id": "f8a3a8ac-6359-4776-b84c-94401113fcb3",
   "metadata": {
    "id": "f8a3a8ac-6359-4776-b84c-94401113fcb3",
    "outputId": "2851a057-a940-4134-bc0c-a7acf65a29c0",
    "tags": []
   },
   "outputs": [
    {
     "data": {
      "image/png": "[encoded data removed]",
      "text/plain": [
       "<Figure size 640x480 with 1 Axes>"
      ]
     },
     "metadata": {},
     "output_type": "display_data"
    },
    {
     "name": "stdout",
     "output_type": "stream",
     "text": [
      "=============================\n",
      "   Rows reduction checking   \n",
      "=============================\n",
      "Before dropping rows with NaNs: \n",
      "number of rows:  100000\n",
      "After dropping rows with NaNs: \n",
      "number of rows:  100000\n"
     ]
    },
    {
     "data": {
      "image/png": "[encoded data removed]",
      "text/plain": [
       "<Figure size 640x480 with 1 Axes>"
      ]
     },
     "metadata": {},
     "output_type": "display_data"
    },
    {
     "name": "stdout",
     "output_type": "stream",
     "text": [
      "======================\n",
      "   Data description   \n",
      "======================\n",
      "['higgs_bosons', 'lepton_pT', 'lepton_eta', 'lepton_phi', 'missing_energy_magnitude', 'missing_energy_phi', 'jet_1_pt', 'jet_1_eta', 'jet_1_phi', 'jet_1_b-tag', 'jet_2_pt', 'jet_2_eta', 'jet_2_phi', 'jet_2_b-tag', 'jet_3_pt', 'jet_3_eta', 'jet_3_phi', 'jet_3_b-tag', 'jet_4_pt', 'jet_4_eta', 'jet_4_phi', 'jet_4_b-tag', 'm_jj', 'm_jjj', 'm_lv', 'm_jlv', 'm_bb', 'm_wbb', 'm_wwbb']\n",
      "feature:  lepton_pT\n"
     ]
    },
    {
     "data": {
      "image/png": "[encoded data removed]",
      "text/plain": [
       "<Figure size 640x480 with 1 Axes>"
      ]
     },
     "metadata": {},
     "output_type": "display_data"
    },
    {
     "name": "stdout",
     "output_type": "stream",
     "text": [
      "\n",
      "\n",
      "\n",
      "           lepton_pT\n",
      "count  100000.000000\n",
      "mean        0.990371\n",
      "std         0.561837\n",
      "min         0.274697\n",
      "25%         0.590936\n",
      "50%         0.854835\n",
      "75%         1.236776\n",
      "max         7.805887\n",
      "feature:  lepton_eta\n"
     ]
    },
    {
     "data": {
      "image/png": "[encoded data removed]",
      "text/plain": [
       "<Figure size 640x480 with 1 Axes>"
      ]
     },
     "metadata": {},
     "output_type": "display_data"
    },
    {
     "name": "stdout",
     "output_type": "stream",
     "text": [
      "\n",
      "\n",
      "\n",
      "          lepton_eta\n",
      "count  100000.000000\n",
      "mean       -0.003816\n",
      "std         1.004841\n",
      "min        -2.434976\n",
      "25%        -0.741244\n",
      "50%        -0.002976\n",
      "75%         0.735292\n",
      "max         2.433894\n",
      "feature:  lepton_phi\n"
     ]
    },
    {
     "data": {
      "image/png": "[encoded data removed]",
      "text/plain": [
       "<Figure size 640x480 with 1 Axes>"
      ]
     },
     "metadata": {},
     "output_type": "display_data"
    },
    {
     "name": "stdout",
     "output_type": "stream",
     "text": [
      "\n",
      "\n",
      "\n",
      "          lepton_phi\n",
      "count  100000.000000\n",
      "mean       -0.001638\n",
      "std         1.006189\n",
      "min        -1.742508\n",
      "25%        -0.868047\n",
      "50%         0.000971\n",
      "75%         0.868220\n",
      "max         1.743236\n",
      "feature:  missing_energy_magnitude\n"
     ]
    },
    {
     "data": {
      "image/png": "[encoded data removed]",
      "text/plain": [
       "<Figure size 640x480 with 1 Axes>"
      ]
     },
     "metadata": {},
     "output_type": "display_data"
    },
    {
     "name": "stdout",
     "output_type": "stream",
     "text": [
      "\n",
      "\n",
      "\n",
      "       missing_energy_magnitude\n",
      "count             100000.000000\n",
      "mean                   0.995049\n",
      "std                    0.595360\n",
      "min                    0.001283\n",
      "25%                    0.575635\n",
      "50%                    0.890268\n",
      "75%                    1.290871\n",
      "max                    7.998711\n",
      "feature:  missing_energy_phi\n"
     ]
    },
    {
     "data": {
      "image/png": "[encoded data removed]",
      "text/plain": [
       "<Figure size 640x480 with 1 Axes>"
      ]
     },
     "metadata": {},
     "output_type": "display_data"
    },
    {
     "name": "stdout",
     "output_type": "stream",
     "text": [
      "\n",
      "\n",
      "\n",
      "       missing_energy_phi\n",
      "count       100000.000000\n",
      "mean            -0.007613\n",
      "std              1.006997\n",
      "min             -1.743944\n",
      "25%             -0.881465\n",
      "50%             -0.011024\n",
      "75%              0.865868\n",
      "max              1.743229\n",
      "feature:  jet_1_pt\n"
     ]
    },
    {
     "data": {
      "image/png": "[encoded data removed]",
      "text/plain": [
       "<Figure size 640x480 with 1 Axes>"
      ]
     },
     "metadata": {},
     "output_type": "display_data"
    },
    {
     "name": "stdout",
     "output_type": "stream",
     "text": [
      "\n",
      "\n",
      "\n",
      "            jet_1_pt\n",
      "count  100000.000000\n",
      "mean        0.987114\n",
      "std         0.473118\n",
      "min         0.139976\n",
      "25%         0.676336\n",
      "50%         0.892163\n",
      "75%         1.167809\n",
      "max         7.064657\n",
      "feature:  jet_1_eta\n"
     ]
    },
    {
     "data": {
      "image/png": "[encoded data removed]",
      "text/plain": [
       "<Figure size 640x480 with 1 Axes>"
      ]
     },
     "metadata": {},
     "output_type": "display_data"
    },
    {
     "name": "stdout",
     "output_type": "stream",
     "text": [
      "\n",
      "\n",
      "\n",
      "           jet_1_eta\n",
      "count  100000.000000\n",
      "mean       -0.003000\n",
      "std         1.008685\n",
      "min        -2.968735\n",
      "25%        -0.688235\n",
      "50%        -0.000025\n",
      "75%         0.683233\n",
      "max         2.969674\n",
      "feature:  jet_1_phi\n"
     ]
    },
    {
     "data": {
      "image/png": "[encoded data removed]",
      "text/plain": [
       "<Figure size 640x480 with 1 Axes>"
      ]
     },
     "metadata": {},
     "output_type": "display_data"
    },
    {
     "name": "stdout",
     "output_type": "stream",
     "text": [
      "\n",
      "\n",
      "\n",
      "           jet_1_phi\n",
      "count  100000.000000\n",
      "mean        0.000438\n",
      "std         1.008430\n",
      "min        -1.741237\n",
      "25%        -0.867542\n",
      "50%        -0.003822\n",
      "75%         0.871223\n",
      "max         1.741454\n",
      "feature:  jet_1_b-tag\n"
     ]
    },
    {
     "data": {
      "image/png": "[encoded data removed]",
      "text/plain": [
       "<Figure size 640x480 with 1 Axes>"
      ]
     },
     "metadata": {},
     "output_type": "display_data"
    },
    {
     "name": "stdout",
     "output_type": "stream",
     "text": [
      "\n",
      "\n",
      "\n",
      "         jet_1_b-tag\n",
      "count  100000.000000\n",
      "mean        0.998344\n",
      "std         1.027402\n",
      "min         0.000000\n",
      "25%         0.000000\n",
      "50%         1.086538\n",
      "75%         2.173076\n",
      "max         2.173076\n",
      "feature:  jet_2_pt\n"
     ]
    },
    {
     "data": {
      "image/png": "[encoded data removed]",
      "text/plain": [
       "<Figure size 640x480 with 1 Axes>"
      ]
     },
     "metadata": {},
     "output_type": "display_data"
    },
    {
     "name": "stdout",
     "output_type": "stream",
     "text": [
      "\n",
      "\n",
      "\n",
      "            jet_2_pt\n",
      "count  100000.000000\n",
      "mean        0.991302\n",
      "std         0.498242\n",
      "min         0.188981\n",
      "25%         0.656964\n",
      "50%         0.889256\n",
      "75%         1.199483\n",
      "max         8.280169\n",
      "feature:  jet_2_eta\n"
     ]
    },
    {
     "data": {
      "image/png": "[encoded data removed]",
      "text/plain": [
       "<Figure size 640x480 with 1 Axes>"
      ]
     },
     "metadata": {},
     "output_type": "display_data"
    },
    {
     "name": "stdout",
     "output_type": "stream",
     "text": [
      "\n",
      "\n",
      "\n",
      "           jet_2_eta\n",
      "count  100000.000000\n",
      "mean       -0.001061\n",
      "std         1.004953\n",
      "min        -2.913090\n",
      "25%        -0.695443\n",
      "50%         0.002003\n",
      "75%         0.691921\n",
      "max         2.913210\n",
      "feature:  jet_2_phi\n"
     ]
    },
    {
     "data": {
      "image/png": "[encoded data removed]",
      "text/plain": [
       "<Figure size 640x480 with 1 Axes>"
      ]
     },
     "metadata": {},
     "output_type": "display_data"
    },
    {
     "name": "stdout",
     "output_type": "stream",
     "text": [
      "\n",
      "\n",
      "\n",
      "           jet_2_phi\n",
      "count  100000.000000\n",
      "mean        0.003546\n",
      "std         1.006867\n",
      "min        -1.742372\n",
      "25%        -0.868515\n",
      "50%         0.008222\n",
      "75%         0.876531\n",
      "max         1.743175\n",
      "feature:  jet_2_b-tag\n"
     ]
    },
    {
     "data": {
      "image/png": "[encoded data removed]",
      "text/plain": [
       "<Figure size 640x480 with 1 Axes>"
      ]
     },
     "metadata": {},
     "output_type": "display_data"
    },
    {
     "name": "stdout",
     "output_type": "stream",
     "text": [
      "\n",
      "\n",
      "\n",
      "         jet_2_b-tag\n",
      "count  100000.000000\n",
      "mean        1.004145\n",
      "std         1.049192\n",
      "min         0.000000\n",
      "25%         0.000000\n",
      "50%         1.107436\n",
      "75%         2.214872\n",
      "max         2.214872\n",
      "feature:  jet_3_pt\n"
     ]
    },
    {
     "data": {
      "image/png": "[encoded data removed]",
      "text/plain": [
       "<Figure size 640x480 with 1 Axes>"
      ]
     },
     "metadata": {},
     "output_type": "display_data"
    },
    {
     "name": "stdout",
     "output_type": "stream",
     "text": [
      "\n",
      "\n",
      "\n",
      "            jet_3_pt\n",
      "count  100000.000000\n",
      "mean        0.993414\n",
      "std         0.487705\n",
      "min         0.263608\n",
      "25%         0.654892\n",
      "50%         0.898479\n",
      "75%         1.221798\n",
      "max         8.509908\n",
      "feature:  jet_3_eta\n"
     ]
    },
    {
     "data": {
      "image/png": "[encoded data removed]",
      "text/plain": [
       "<Figure size 640x480 with 1 Axes>"
      ]
     },
     "metadata": {},
     "output_type": "display_data"
    },
    {
     "name": "stdout",
     "output_type": "stream",
     "text": [
      "\n",
      "\n",
      "\n",
      "           jet_3_eta\n",
      "count  100000.000000\n",
      "mean        0.002149\n",
      "std         1.008668\n",
      "min        -2.729663\n",
      "25%        -0.696167\n",
      "50%         0.001993\n",
      "75%         0.701975\n",
      "max         2.730009\n",
      "feature:  jet_3_phi\n"
     ]
    },
    {
     "data": {
      "image/png": "[encoded data removed]",
      "text/plain": [
       "<Figure size 640x480 with 1 Axes>"
      ]
     },
     "metadata": {},
     "output_type": "display_data"
    },
    {
     "name": "stdout",
     "output_type": "stream",
     "text": [
      "\n",
      "\n",
      "\n",
      "           jet_3_phi\n",
      "count  100000.000000\n",
      "mean        0.001222\n",
      "std         1.005330\n",
      "min        -1.742069\n",
      "25%        -0.865587\n",
      "50%        -0.000752\n",
      "75%         0.873614\n",
      "max         1.742884\n",
      "feature:  jet_3_b-tag\n"
     ]
    },
    {
     "data": {
      "image/png": "[encoded data removed]",
      "text/plain": [
       "<Figure size 640x480 with 1 Axes>"
      ]
     },
     "metadata": {},
     "output_type": "display_data"
    },
    {
     "name": "stdout",
     "output_type": "stream",
     "text": [
      "\n",
      "\n",
      "\n",
      "         jet_3_b-tag\n",
      "count  100000.000000\n",
      "mean        1.005580\n",
      "std         1.196112\n",
      "min         0.000000\n",
      "25%         0.000000\n",
      "50%         0.000000\n",
      "75%         2.548224\n",
      "max         2.548224\n",
      "feature:  jet_4_pt\n"
     ]
    },
    {
     "data": {
      "image/png": "[encoded data removed]",
      "text/plain": [
       "<Figure size 640x480 with 1 Axes>"
      ]
     },
     "metadata": {},
     "output_type": "display_data"
    },
    {
     "name": "stdout",
     "output_type": "stream",
     "text": [
      "\n",
      "\n",
      "\n",
      "            jet_4_pt\n",
      "count  100000.000000\n",
      "mean        0.985523\n",
      "std         0.504635\n",
      "min         0.365354\n",
      "25%         0.617463\n",
      "50%         0.869207\n",
      "75%         1.220687\n",
      "max         7.705783\n",
      "feature:  jet_4_eta\n"
     ]
    },
    {
     "data": {
      "image/png": "[encoded data removed]",
      "text/plain": [
       "<Figure size 640x480 with 1 Axes>"
      ]
     },
     "metadata": {},
     "output_type": "display_data"
    },
    {
     "name": "stdout",
     "output_type": "stream",
     "text": [
      "\n",
      "\n",
      "\n",
      "           jet_4_eta\n",
      "count  100000.000000\n",
      "mean       -0.007575\n",
      "std         1.009173\n",
      "min        -2.497265\n",
      "25%        -0.725017\n",
      "50%        -0.010455\n",
      "75%         0.710770\n",
      "max         2.498009\n",
      "feature:  jet_4_phi\n"
     ]
    },
    {
     "data": {
      "image/png": "[encoded data removed]",
      "text/plain": [
       "<Figure size 640x480 with 1 Axes>"
      ]
     },
     "metadata": {},
     "output_type": "display_data"
    },
    {
     "name": "stdout",
     "output_type": "stream",
     "text": [
      "\n",
      "\n",
      "\n",
      "           jet_4_phi\n",
      "count  100000.000000\n",
      "mean       -0.004029\n",
      "std         1.007090\n",
      "min        -1.742691\n",
      "25%        -0.877028\n",
      "50%        -0.009698\n",
      "75%         0.869386\n",
      "max         1.743372\n",
      "feature:  jet_4_b-tag\n"
     ]
    },
    {
     "data": {
      "image/png": "[encoded data removed]",
      "text/plain": [
       "<Figure size 640x480 with 1 Axes>"
      ]
     },
     "metadata": {},
     "output_type": "display_data"
    },
    {
     "name": "stdout",
     "output_type": "stream",
     "text": [
      "\n",
      "\n",
      "\n",
      "         jet_4_b-tag\n",
      "count  100000.000000\n",
      "mean        0.992721\n",
      "std         1.396788\n",
      "min         0.000000\n",
      "25%         0.000000\n",
      "50%         0.000000\n",
      "75%         3.101961\n",
      "max         3.101961\n",
      "feature:  m_jj\n"
     ]
    },
    {
     "data": {
      "image/png": "[encoded data removed]",
      "text/plain": [
       "<Figure size 640x480 with 1 Axes>"
      ]
     },
     "metadata": {},
     "output_type": "display_data"
    },
    {
     "name": "stdout",
     "output_type": "stream",
     "text": [
      "\n",
      "\n",
      "\n",
      "                m_jj\n",
      "count  100000.000000\n",
      "mean        1.032611\n",
      "std         0.652455\n",
      "min         0.110875\n",
      "25%         0.791306\n",
      "50%         0.895600\n",
      "75%         1.025925\n",
      "max        18.428827\n",
      "feature:  m_jjj\n"
     ]
    },
    {
     "data": {
      "image/png": "[encoded data removed]",
      "text/plain": [
       "<Figure size 640x480 with 1 Axes>"
      ]
     },
     "metadata": {},
     "output_type": "display_data"
    },
    {
     "name": "stdout",
     "output_type": "stream",
     "text": [
      "\n",
      "\n",
      "\n",
      "               m_jjj\n",
      "count  100000.000000\n",
      "mean        1.023153\n",
      "std         0.371610\n",
      "min         0.303144\n",
      "25%         0.846631\n",
      "50%         0.950719\n",
      "75%         1.083218\n",
      "max        10.038273\n",
      "feature:  m_lv\n"
     ]
    },
    {
     "data": {
      "image/png": "[encoded data removed]",
      "text/plain": [
       "<Figure size 640x480 with 1 Axes>"
      ]
     },
     "metadata": {},
     "output_type": "display_data"
    },
    {
     "name": "stdout",
     "output_type": "stream",
     "text": [
      "\n",
      "\n",
      "\n",
      "                m_lv\n",
      "count  100000.000000\n",
      "mean        1.050193\n",
      "std         0.164857\n",
      "min         0.133012\n",
      "25%         0.985775\n",
      "50%         0.989742\n",
      "75%         1.020762\n",
      "max         4.565248\n",
      "feature:  m_jlv\n"
     ]
    },
    {
     "data": {
      "image/png": "[encoded data removed]",
      "text/plain": [
       "<Figure size 640x480 with 1 Axes>"
      ]
     },
     "metadata": {},
     "output_type": "display_data"
    },
    {
     "name": "stdout",
     "output_type": "stream",
     "text": [
      "\n",
      "\n",
      "\n",
      "               m_jlv\n",
      "count  100000.000000\n",
      "mean        1.010189\n",
      "std         0.398267\n",
      "min         0.295983\n",
      "25%         0.767261\n",
      "50%         0.917302\n",
      "75%         1.141633\n",
      "max         7.442589\n",
      "feature:  m_bb\n"
     ]
    },
    {
     "data": {
      "image/png": "[encoded data removed]",
      "text/plain": [
       "<Figure size 640x480 with 1 Axes>"
      ]
     },
     "metadata": {},
     "output_type": "display_data"
    },
    {
     "name": "stdout",
     "output_type": "stream",
     "text": [
      "\n",
      "\n",
      "\n",
      "                m_bb\n",
      "count  100000.000000\n",
      "mean        0.973081\n",
      "std         0.523552\n",
      "min         0.048125\n",
      "25%         0.673792\n",
      "50%         0.874004\n",
      "75%         1.139816\n",
      "max        11.994177\n",
      "feature:  m_wbb\n"
     ]
    },
    {
     "data": {
      "image/png": "[encoded data removed]",
      "text/plain": [
       "<Figure size 640x480 with 1 Axes>"
      ]
     },
     "metadata": {},
     "output_type": "display_data"
    },
    {
     "name": "stdout",
     "output_type": "stream",
     "text": [
      "\n",
      "\n",
      "\n",
      "               m_wbb\n",
      "count  100000.000000\n",
      "mean        1.031873\n",
      "std         0.363394\n",
      "min         0.303350\n",
      "25%         0.819170\n",
      "50%         0.947037\n",
      "75%         1.139032\n",
      "max         7.318191\n",
      "feature:  m_wwbb\n"
     ]
    },
    {
     "data": {
      "image/png": "[encoded data removed]",
      "text/plain": [
       "<Figure size 640x480 with 1 Axes>"
      ]
     },
     "metadata": {},
     "output_type": "display_data"
    },
    {
     "name": "stdout",
     "output_type": "stream",
     "text": [
      "\n",
      "\n",
      "\n",
      "              m_wwbb\n",
      "count  100000.000000\n",
      "mean        0.959199\n",
      "std         0.313257\n",
      "min         0.350939\n",
      "25%         0.769964\n",
      "50%         0.871038\n",
      "75%         1.057478\n",
      "max         6.015647\n",
      "=================================\n",
      "   Getting train-test datasets   \n",
      "=================================\n",
      "Assembly\n",
      "Train-test splitting\n",
      "DataFrame[higgs_bosons: int, lepton_pT: double, lepton_eta: double, lepton_phi: double, missing_energy_magnitude: double, missing_energy_phi: double, jet_1_pt: double, jet_1_eta: double, jet_1_phi: double, jet_1_b-tag: double, jet_2_pt: double, jet_2_eta: double, jet_2_phi: double, jet_2_b-tag: double, jet_3_pt: double, jet_3_eta: double, jet_3_phi: double, jet_3_b-tag: double, jet_4_pt: double, jet_4_eta: double, jet_4_phi: double, jet_4_b-tag: double, m_jj: double, m_jjj: double, m_lv: double, m_jlv: double, m_bb: double, m_wbb: double, m_wwbb: double, higgs_bosons_indexes: double]\n",
      "DataFrame[higgs_bosons: int, lepton_pT: double, lepton_eta: double, lepton_phi: double, missing_energy_magnitude: double, missing_energy_phi: double, jet_1_pt: double, jet_1_eta: double, jet_1_phi: double, jet_1_b-tag: double, jet_2_pt: double, jet_2_eta: double, jet_2_phi: double, jet_2_b-tag: double, jet_3_pt: double, jet_3_eta: double, jet_3_phi: double, jet_3_b-tag: double, jet_4_pt: double, jet_4_eta: double, jet_4_phi: double, jet_4_b-tag: double, m_jj: double, m_jjj: double, m_lv: double, m_jlv: double, m_bb: double, m_wbb: double, m_wwbb: double, higgs_bosons_indexes: double]\n",
      "Assembly train\n",
      "Assembly test\n",
      "Train schema: \n",
      "root\n",
      " |-- features: vector (nullable = true)\n",
      " |-- higgs_bosons_indexes: double (nullable = false)\n",
      "\n",
      "Test schema: \n",
      "root\n",
      " |-- features: vector (nullable = true)\n",
      " |-- higgs_bosons_indexes: double (nullable = false)\n",
      "\n"
     ]
    }
   ],
   "source": [
    "train, test = rows_with_NaNs_dropping(df_lim, False)"
   ]
  },
  {
   "cell_type": "code",
   "execution_count": 48,
   "id": "7aef3c1f",
   "metadata": {},
   "outputs": [
    {
     "name": "stdout",
     "output_type": "stream",
     "text": [
      "+--------------------+--------------------+\n",
      "|            features|higgs_bosons_indexes|\n",
      "+--------------------+--------------------+\n",
      "|[0.0,0.2746966481...|                 1.0|\n",
      "|[0.0,0.2748796641...|                 1.0|\n",
      "|[0.0,0.2748796641...|                 1.0|\n",
      "|[0.0,0.2750626504...|                 1.0|\n",
      "|[0.0,0.2750626504...|                 1.0|\n",
      "|[0.0,0.2750626504...|                 1.0|\n",
      "|[0.0,0.2754286825...|                 1.0|\n",
      "|[0.0,0.2754286825...|                 1.0|\n",
      "|[0.0,0.2754286825...|                 1.0|\n",
      "|[0.0,0.2756116986...|                 1.0|\n",
      "|[0.0,0.2756116986...|                 1.0|\n",
      "|[0.0,0.2756116986...|                 1.0|\n",
      "|[0.0,0.2757946848...|                 1.0|\n",
      "|[0.0,0.2757946848...|                 1.0|\n",
      "|[0.0,0.2759777009...|                 1.0|\n",
      "|[0.0,0.2759777009...|                 1.0|\n",
      "|[0.0,0.2759777009...|                 1.0|\n",
      "|[0.0,0.2763437330...|                 1.0|\n",
      "|[0.0,0.2765267193...|                 1.0|\n",
      "|[0.0,0.2765267193...|                 1.0|\n",
      "+--------------------+--------------------+\n",
      "only showing top 20 rows\n",
      "\n"
     ]
    }
   ],
   "source": [
    "train.show()"
   ]
  },
  {
   "cell_type": "code",
   "execution_count": 49,
   "id": "2847f867",
   "metadata": {},
   "outputs": [
    {
     "name": "stdout",
     "output_type": "stream",
     "text": [
      "+--------------------+--------------------+\n",
      "|            features|higgs_bosons_indexes|\n",
      "+--------------------+--------------------+\n",
      "|[0.0,0.2748796641...|                 1.0|\n",
      "|[0.0,0.2750626504...|                 1.0|\n",
      "|[0.0,0.2750626504...|                 1.0|\n",
      "|[0.0,0.2752456665...|                 1.0|\n",
      "|[0.0,0.2756116986...|                 1.0|\n",
      "|[0.0,0.2756116986...|                 1.0|\n",
      "|[0.0,0.2756116986...|                 1.0|\n",
      "|[0.0,0.2757946848...|                 1.0|\n",
      "|[0.0,0.2757946848...|                 1.0|\n",
      "|[0.0,0.2757946848...|                 1.0|\n",
      "|[0.0,0.2759777009...|                 1.0|\n",
      "|[0.0,0.2761607170...|                 1.0|\n",
      "|[0.0,0.2761607170...|                 1.0|\n",
      "|[0.0,0.2763437330...|                 1.0|\n",
      "|[0.0,0.2765267193...|                 1.0|\n",
      "|[0.0,0.2765267193...|                 1.0|\n",
      "|[0.0,0.2765267193...|                 1.0|\n",
      "|[0.0,0.2767097353...|                 1.0|\n",
      "|[0.0,0.2767097353...|                 1.0|\n",
      "|[0.0,0.2767097353...|                 1.0|\n",
      "+--------------------+--------------------+\n",
      "only showing top 20 rows\n",
      "\n"
     ]
    }
   ],
   "source": [
    "test.show()"
   ]
  },
  {
   "cell_type": "markdown",
   "id": "da0d2094-b828-4f2c-8d70-c72247fd54cb",
   "metadata": {
    "id": "da0d2094-b828-4f2c-8d70-c72247fd54cb"
   },
   "source": [
    "##### Training"
   ]
  },
  {
   "cell_type": "code",
   "execution_count": 50,
   "id": "6ebfac8a-189e-4531-8b28-4dcd64a1cf80",
   "metadata": {
    "id": "6ebfac8a-189e-4531-8b28-4dcd64a1cf80",
    "outputId": "c940db69-3bd4-4c09-d715-f2da4108c957",
    "tags": []
   },
   "outputs": [
    {
     "name": "stdout",
     "output_type": "stream",
     "text": [
      "==============\n",
      "   Training   \n",
      "==============\n",
      "cacheNodeIds: If false, the algorithm will pass trees to executors to match instances with nodes. If true, the algorithm will cache node IDs for each instance. Caching can speed up training of deeper trees. Users can set how often should the cache be checkpointed or disable it by setting checkpointInterval. (default: False)\n",
      "checkpointInterval: set checkpoint interval (>= 1) or disable checkpoint (-1). E.g. 10 means that the cache will get checkpointed every 10 iterations. Note: this setting will be ignored if the checkpoint directory is not set in the SparkContext. (default: 10)\n",
      "featuresCol: features column name. (default: features)\n",
      "impurity: Criterion used for information gain calculation (case-insensitive). Supported options: entropy, gini (default: gini)\n",
      "labelCol: label column name. (default: label, current: higgs_bosons_indexes)\n",
      "leafCol: Leaf indices column name. Predicted leaf index of each instance in each tree by preorder. (default: )\n",
      "maxBins: Max number of bins for discretizing continuous features.  Must be >=2 and >= number of categories for any categorical feature. (default: 32)\n",
      "maxDepth: Maximum depth of the tree. (>= 0) E.g., depth 0 means 1 leaf node; depth 1 means 1 internal node + 2 leaf nodes. Must be in range [0, 30]. (default: 5)\n",
      "maxMemoryInMB: Maximum memory in MB allocated to histogram aggregation. If too small, then 1 node will be split per iteration, and its aggregates may exceed this size. (default: 256)\n",
      "minInfoGain: Minimum information gain for a split to be considered at a tree node. (default: 0.0)\n",
      "minInstancesPerNode: Minimum number of instances each child must have after split. If a split causes the left or right child to have fewer than minInstancesPerNode, the split will be discarded as invalid. Should be >= 1. (default: 1)\n",
      "minWeightFractionPerNode: Minimum fraction of the weighted sample count that each child must have after split. If a split causes the fraction of the total weight in the left or right child to be less than minWeightFractionPerNode, the split will be discarded as invalid. Should be in interval [0.0, 0.5). (default: 0.0)\n",
      "predictionCol: prediction column name. (default: prediction)\n",
      "probabilityCol: Column name for predicted class conditional probabilities. Note: Not all models output well-calibrated probability estimates! These probabilities should be treated as confidences, not precise probabilities. (default: probability)\n",
      "rawPredictionCol: raw prediction (a.k.a. confidence) column name. (default: rawPrediction)\n",
      "seed: random seed. (default: -6108839987537888778, current: 42)\n",
      "thresholds: Thresholds in multi-class classification to adjust the probability of predicting each class. Array must have length equal to the number of classes, with values > 0, excepting that at most one value may be 0. The class with largest value p/t is predicted, where p is the original probability of that class and t is the class's threshold. (undefined)\n",
      "weightCol: weight column name. If this is not set or empty, we treat all instance weights as 1.0. (undefined)\n",
      "DataFrame[higgs_bosons_indexes: double, prediction: double]\n",
      "bootstrap: Whether bootstrap samples are used when building trees. (default: True)\n",
      "cacheNodeIds: If false, the algorithm will pass trees to executors to match instances with nodes. If true, the algorithm will cache node IDs for each instance. Caching can speed up training of deeper trees. Users can set how often should the cache be checkpointed or disable it by setting checkpointInterval. (default: False)\n",
      "checkpointInterval: set checkpoint interval (>= 1) or disable checkpoint (-1). E.g. 10 means that the cache will get checkpointed every 10 iterations. Note: this setting will be ignored if the checkpoint directory is not set in the SparkContext. (default: 10)\n",
      "featureSubsetStrategy: The number of features to consider for splits at each tree node. Supported options: 'auto' (choose automatically for task: If numTrees == 1, set to 'all'. If numTrees > 1 (forest), set to 'sqrt' for classification and to 'onethird' for regression), 'all' (use all features), 'onethird' (use 1/3 of the features), 'sqrt' (use sqrt(number of features)), 'log2' (use log2(number of features)), 'n' (when n is in the range (0, 1.0], use n * number of features. When n is in the range (1, number of features), use n features). default = 'auto' (default: auto)\n",
      "featuresCol: features column name. (default: features)\n",
      "impurity: Criterion used for information gain calculation (case-insensitive). Supported options: entropy, gini (default: gini)\n",
      "labelCol: label column name. (default: label, current: higgs_bosons_indexes)\n",
      "leafCol: Leaf indices column name. Predicted leaf index of each instance in each tree by preorder. (default: )\n",
      "maxBins: Max number of bins for discretizing continuous features.  Must be >=2 and >= number of categories for any categorical feature. (default: 32)\n",
      "maxDepth: Maximum depth of the tree. (>= 0) E.g., depth 0 means 1 leaf node; depth 1 means 1 internal node + 2 leaf nodes. Must be in range [0, 30]. (default: 5)\n",
      "maxMemoryInMB: Maximum memory in MB allocated to histogram aggregation. If too small, then 1 node will be split per iteration, and its aggregates may exceed this size. (default: 256)\n",
      "minInfoGain: Minimum information gain for a split to be considered at a tree node. (default: 0.0)\n",
      "minInstancesPerNode: Minimum number of instances each child must have after split. If a split causes the left or right child to have fewer than minInstancesPerNode, the split will be discarded as invalid. Should be >= 1. (default: 1)\n",
      "minWeightFractionPerNode: Minimum fraction of the weighted sample count that each child must have after split. If a split causes the fraction of the total weight in the left or right child to be less than minWeightFractionPerNode, the split will be discarded as invalid. Should be in interval [0.0, 0.5). (default: 0.0)\n",
      "numTrees: Number of trees to train (>= 1). (default: 20)\n",
      "predictionCol: prediction column name. (default: prediction)\n",
      "probabilityCol: Column name for predicted class conditional probabilities. Note: Not all models output well-calibrated probability estimates! These probabilities should be treated as confidences, not precise probabilities. (default: probability)\n",
      "rawPredictionCol: raw prediction (a.k.a. confidence) column name. (default: rawPrediction)\n",
      "seed: random seed. (default: 7096566530939830944, current: 42)\n",
      "subsamplingRate: Fraction of the training data used for learning each decision tree, in range (0, 1]. (default: 1.0)\n",
      "thresholds: Thresholds in multi-class classification to adjust the probability of predicting each class. Array must have length equal to the number of classes, with values > 0, excepting that at most one value may be 0. The class with largest value p/t is predicted, where p is the original probability of that class and t is the class's threshold. (undefined)\n",
      "weightCol: weight column name. If this is not set or empty, we treat all instance weights as 1.0. (undefined)\n",
      "DataFrame[higgs_bosons_indexes: double, prediction: double]\n",
      "distanceMeasure: the distance measure. Supported options: 'euclidean' and 'cosine'. (default: euclidean)\n",
      "featuresCol: features column name. (default: features)\n",
      "initMode: The initialization algorithm. This can be either \"random\" to choose random points as initial cluster centers, or \"k-means||\" to use a parallel variant of k-means++ (default: k-means||)\n",
      "initSteps: The number of steps for k-means|| initialization mode. Must be > 0. (default: 2)\n",
      "k: The number of clusters to create. Must be > 1. (default: 2, current: 2)\n",
      "maxIter: max number of iterations (>= 0). (default: 20)\n",
      "predictionCol: prediction column name. (default: prediction)\n",
      "seed: random seed. (default: -5132860448238640954, current: 42)\n",
      "tol: the convergence tolerance for iterative algorithms (>= 0). (default: 0.0001)\n",
      "weightCol: weight column name. If this is not set or empty, we treat all instance weights as 1.0. (undefined)\n",
      "DataFrame[higgs_bosons_indexes: double, prediction: double]\n",
      "===================\n",
      "   Train results   \n",
      "===================\n",
      "{DecisionTreeClassifier_b65c3be40b3d: {'cls': DecisionTreeClassificationModel: uid=DecisionTreeClassifier_b65c3be40b3d, depth=1, numNodes=3, numClasses=2, numFeatures=30, 'train_result': DataFrame[higgs_bosons_indexes: double, prediction: double], 'accuracy': 1.0, 'f1': 1.0}, RandomForestClassifier_7a6b09d109b9: {'cls': RandomForestClassificationModel: uid=RandomForestClassifier_7a6b09d109b9, numTrees=20, numClasses=2, numFeatures=30, 'train_result': DataFrame[higgs_bosons_indexes: double, prediction: double], 'accuracy': 1.0, 'f1': 1.0}, KMeans_2b3ac1684721: {'cls': KMeansModel: uid=KMeans_2b3ac1684721, k=2, distanceMeasure=euclidean, numFeatures=30, 'train_result': DataFrame[higgs_bosons_indexes: double, prediction: double], 'accuracy': 0.5009650991550021, 'f1': 0.4899069050809546}}\n"
     ]
    }
   ],
   "source": [
    "train_results = training(train, label = \"higgs_bosons_indexes\")"
   ]
  },
  {
   "cell_type": "markdown",
   "id": "24f54d6a-3fee-4bc8-9a80-80697c196c91",
   "metadata": {
    "id": "24f54d6a-3fee-4bc8-9a80-80697c196c91"
   },
   "source": [
    "##### Testing"
   ]
  },
  {
   "cell_type": "code",
   "execution_count": 51,
   "id": "ef0b52f3-3a26-445a-9578-7c9d81e081a1",
   "metadata": {
    "id": "ef0b52f3-3a26-445a-9578-7c9d81e081a1",
    "outputId": "474d6933-2776-4851-eadf-1573ba3b1410",
    "tags": []
   },
   "outputs": [
    {
     "name": "stdout",
     "output_type": "stream",
     "text": [
      "=============\n",
      "   Testing   \n",
      "=============\n",
      "{'cls': DecisionTreeClassificationModel: uid=DecisionTreeClassifier_b65c3be40b3d, depth=1, numNodes=3, numClasses=2, numFeatures=30, 'train_result': DataFrame[higgs_bosons_indexes: double, prediction: double], 'accuracy': 1.0, 'f1': 1.0}\n",
      "<class 'dict'>\n",
      "Classifier:  DecisionTreeClassifier_b65c3be40b3d\n",
      "+--------------------+----------+\n",
      "|higgs_bosons_indexes|prediction|\n",
      "+--------------------+----------+\n",
      "|                 1.0|       1.0|\n",
      "|                 1.0|       1.0|\n",
      "|                 1.0|       1.0|\n",
      "|                 1.0|       1.0|\n",
      "|                 1.0|       1.0|\n",
      "|                 1.0|       1.0|\n",
      "|                 1.0|       1.0|\n",
      "|                 1.0|       1.0|\n",
      "|                 1.0|       1.0|\n",
      "|                 1.0|       1.0|\n",
      "|                 1.0|       1.0|\n",
      "|                 1.0|       1.0|\n",
      "|                 1.0|       1.0|\n",
      "|                 1.0|       1.0|\n",
      "|                 1.0|       1.0|\n",
      "|                 1.0|       1.0|\n",
      "|                 1.0|       1.0|\n",
      "|                 1.0|       1.0|\n",
      "|                 1.0|       1.0|\n",
      "|                 1.0|       1.0|\n",
      "+--------------------+----------+\n",
      "only showing top 20 rows\n",
      "\n",
      "{'cls': RandomForestClassificationModel: uid=RandomForestClassifier_7a6b09d109b9, numTrees=20, numClasses=2, numFeatures=30, 'train_result': DataFrame[higgs_bosons_indexes: double, prediction: double], 'accuracy': 1.0, 'f1': 1.0}\n",
      "<class 'dict'>\n",
      "Classifier:  RandomForestClassifier_7a6b09d109b9\n",
      "+--------------------+----------+\n",
      "|higgs_bosons_indexes|prediction|\n",
      "+--------------------+----------+\n",
      "|                 1.0|       1.0|\n",
      "|                 1.0|       1.0|\n",
      "|                 1.0|       1.0|\n",
      "|                 1.0|       1.0|\n",
      "|                 1.0|       1.0|\n",
      "|                 1.0|       1.0|\n",
      "|                 1.0|       1.0|\n",
      "|                 1.0|       1.0|\n",
      "|                 1.0|       1.0|\n",
      "|                 1.0|       1.0|\n",
      "|                 1.0|       1.0|\n",
      "|                 1.0|       1.0|\n",
      "|                 1.0|       1.0|\n",
      "|                 1.0|       1.0|\n",
      "|                 1.0|       1.0|\n",
      "|                 1.0|       1.0|\n",
      "|                 1.0|       1.0|\n",
      "|                 1.0|       1.0|\n",
      "|                 1.0|       1.0|\n",
      "|                 1.0|       1.0|\n",
      "+--------------------+----------+\n",
      "only showing top 20 rows\n",
      "\n",
      "{'cls': KMeansModel: uid=KMeans_2b3ac1684721, k=2, distanceMeasure=euclidean, numFeatures=30, 'train_result': DataFrame[higgs_bosons_indexes: double, prediction: double], 'accuracy': 0.5009650991550021, 'f1': 0.4899069050809546}\n",
      "<class 'dict'>\n",
      "Classifier:  KMeans_2b3ac1684721\n",
      "+--------------------+----------+\n",
      "|higgs_bosons_indexes|prediction|\n",
      "+--------------------+----------+\n",
      "|                 1.0|       0.0|\n",
      "|                 1.0|       0.0|\n",
      "|                 1.0|       1.0|\n",
      "|                 1.0|       0.0|\n",
      "|                 1.0|       1.0|\n",
      "|                 1.0|       0.0|\n",
      "|                 1.0|       1.0|\n",
      "|                 1.0|       0.0|\n",
      "|                 1.0|       0.0|\n",
      "|                 1.0|       1.0|\n",
      "|                 1.0|       1.0|\n",
      "|                 1.0|       1.0|\n",
      "|                 1.0|       1.0|\n",
      "|                 1.0|       1.0|\n",
      "|                 1.0|       1.0|\n",
      "|                 1.0|       1.0|\n",
      "|                 1.0|       1.0|\n",
      "|                 1.0|       0.0|\n",
      "|                 1.0|       1.0|\n",
      "|                 1.0|       0.0|\n",
      "+--------------------+----------+\n",
      "only showing top 20 rows\n",
      "\n",
      "==================\n",
      "   Test results   \n",
      "==================\n",
      "{DecisionTreeClassifier_b65c3be40b3d: {'cls': DecisionTreeClassificationModel: uid=DecisionTreeClassifier_b65c3be40b3d, depth=1, numNodes=3, numClasses=2, numFeatures=30, 'test_result': DataFrame[higgs_bosons_indexes: double, prediction: double], 'accuracy': 1.0, 'f1': 1.0}, RandomForestClassifier_7a6b09d109b9: {'cls': RandomForestClassificationModel: uid=RandomForestClassifier_7a6b09d109b9, numTrees=20, numClasses=2, numFeatures=30, 'test_result': DataFrame[higgs_bosons_indexes: double, prediction: double], 'accuracy': 1.0, 'f1': 1.0}, KMeans_2b3ac1684721: {'cls': KMeansModel: uid=KMeans_2b3ac1684721, k=2, distanceMeasure=euclidean, numFeatures=30, 'test_result': DataFrame[higgs_bosons_indexes: double, prediction: double], 'accuracy': 0.4911673708373532, 'f1': 0.4799517669094331}}\n"
     ]
    }
   ],
   "source": [
    "testing(test, train_results, label = \"higgs_bosons_indexes\")"
   ]
  },
  {
   "cell_type": "markdown",
   "id": "94c44392-6e47-46da-a846-09a76eab0c58",
   "metadata": {
    "id": "94c44392-6e47-46da-a846-09a76eab0c58"
   },
   "source": [
    "## Feature selection"
   ]
  },
  {
   "cell_type": "markdown",
   "id": "ccbc62a4-e30d-4827-8632-aa9b3e4869d8",
   "metadata": {
    "id": "ccbc62a4-e30d-4827-8632-aa9b3e4869d8"
   },
   "source": [
    "### Non-normalised"
   ]
  },
  {
   "cell_type": "code",
   "execution_count": 52,
   "id": "d83a6799-62ce-40b1-9893-09fbd9729931",
   "metadata": {
    "id": "d83a6799-62ce-40b1-9893-09fbd9729931",
    "outputId": "4ddbf0a9-fa9c-4ae1-ada9-b5881970a395",
    "tags": []
   },
   "outputs": [
    {
     "name": "stdout",
     "output_type": "stream",
     "text": [
      "=======================================\n",
      "   Feature aggregation and selection   \n",
      "=======================================\n",
      "Dropping NaNs\n",
      "Feature selection: features with a variance greater than threshold\n",
      "Train-test creation\n",
      "Fit-transform\n",
      "Train-test split\n",
      "Train schema: \n",
      "root\n",
      " |-- higgs_bosons: integer (nullable = true)\n",
      " |-- lepton_pT: double (nullable = true)\n",
      " |-- lepton_eta: double (nullable = true)\n",
      " |-- lepton_phi: double (nullable = true)\n",
      " |-- missing_energy_magnitude: double (nullable = true)\n",
      " |-- missing_energy_phi: double (nullable = true)\n",
      " |-- jet_1_eta: double (nullable = true)\n",
      " |-- jet_1_phi: double (nullable = true)\n",
      " |-- jet_1_b-tag: double (nullable = true)\n",
      " |-- jet_2_eta: double (nullable = true)\n",
      " |-- jet_2_phi: double (nullable = true)\n",
      " |-- jet_2_b-tag: double (nullable = true)\n",
      " |-- jet_3_eta: double (nullable = true)\n",
      " |-- jet_3_phi: double (nullable = true)\n",
      " |-- jet_3_b-tag: double (nullable = true)\n",
      " |-- jet_4_pt: double (nullable = true)\n",
      " |-- jet_4_eta: double (nullable = true)\n",
      " |-- jet_4_phi: double (nullable = true)\n",
      " |-- jet_4_b-tag: double (nullable = true)\n",
      " |-- m_jj: double (nullable = true)\n",
      " |-- m_bb: double (nullable = true)\n",
      " |-- higgs_bosons_indexes: double (nullable = false)\n",
      " |-- features: vector (nullable = true)\n",
      " |-- label: double (nullable = false)\n",
      "\n",
      "Test schema: \n",
      "root\n",
      " |-- higgs_bosons: integer (nullable = true)\n",
      " |-- lepton_pT: double (nullable = true)\n",
      " |-- lepton_eta: double (nullable = true)\n",
      " |-- lepton_phi: double (nullable = true)\n",
      " |-- missing_energy_magnitude: double (nullable = true)\n",
      " |-- missing_energy_phi: double (nullable = true)\n",
      " |-- jet_1_eta: double (nullable = true)\n",
      " |-- jet_1_phi: double (nullable = true)\n",
      " |-- jet_1_b-tag: double (nullable = true)\n",
      " |-- jet_2_eta: double (nullable = true)\n",
      " |-- jet_2_phi: double (nullable = true)\n",
      " |-- jet_2_b-tag: double (nullable = true)\n",
      " |-- jet_3_eta: double (nullable = true)\n",
      " |-- jet_3_phi: double (nullable = true)\n",
      " |-- jet_3_b-tag: double (nullable = true)\n",
      " |-- jet_4_pt: double (nullable = true)\n",
      " |-- jet_4_eta: double (nullable = true)\n",
      " |-- jet_4_phi: double (nullable = true)\n",
      " |-- jet_4_b-tag: double (nullable = true)\n",
      " |-- m_jj: double (nullable = true)\n",
      " |-- m_bb: double (nullable = true)\n",
      " |-- higgs_bosons_indexes: double (nullable = false)\n",
      " |-- features: vector (nullable = true)\n",
      " |-- label: double (nullable = false)\n",
      "\n"
     ]
    }
   ],
   "source": [
    "train, test = axisAggregation_featureSelection(df_lim, False, threshold = 0.5, label = \"higgs_bosons\")"
   ]
  },
  {
   "cell_type": "markdown",
   "id": "fbd30f4d-2ffa-4724-a710-9c1cfd3ba775",
   "metadata": {
    "id": "fbd30f4d-2ffa-4724-a710-9c1cfd3ba775"
   },
   "source": [
    "#### Training"
   ]
  },
  {
   "cell_type": "code",
   "execution_count": 53,
   "id": "79739c37-734a-4cc8-a3af-fd4120804891",
   "metadata": {
    "id": "79739c37-734a-4cc8-a3af-fd4120804891",
    "outputId": "7e165b6f-92ae-41a9-c763-2b4036dd97a8",
    "tags": []
   },
   "outputs": [
    {
     "name": "stdout",
     "output_type": "stream",
     "text": [
      "==============\n",
      "   Training   \n",
      "==============\n",
      "cacheNodeIds: If false, the algorithm will pass trees to executors to match instances with nodes. If true, the algorithm will cache node IDs for each instance. Caching can speed up training of deeper trees. Users can set how often should the cache be checkpointed or disable it by setting checkpointInterval. (default: False)\n",
      "checkpointInterval: set checkpoint interval (>= 1) or disable checkpoint (-1). E.g. 10 means that the cache will get checkpointed every 10 iterations. Note: this setting will be ignored if the checkpoint directory is not set in the SparkContext. (default: 10)\n",
      "featuresCol: features column name. (default: features)\n",
      "impurity: Criterion used for information gain calculation (case-insensitive). Supported options: entropy, gini (default: gini)\n",
      "labelCol: label column name. (default: label, current: higgs_bosons_indexes)\n",
      "leafCol: Leaf indices column name. Predicted leaf index of each instance in each tree by preorder. (default: )\n",
      "maxBins: Max number of bins for discretizing continuous features.  Must be >=2 and >= number of categories for any categorical feature. (default: 32)\n",
      "maxDepth: Maximum depth of the tree. (>= 0) E.g., depth 0 means 1 leaf node; depth 1 means 1 internal node + 2 leaf nodes. Must be in range [0, 30]. (default: 5)\n",
      "maxMemoryInMB: Maximum memory in MB allocated to histogram aggregation. If too small, then 1 node will be split per iteration, and its aggregates may exceed this size. (default: 256)\n",
      "minInfoGain: Minimum information gain for a split to be considered at a tree node. (default: 0.0)\n",
      "minInstancesPerNode: Minimum number of instances each child must have after split. If a split causes the left or right child to have fewer than minInstancesPerNode, the split will be discarded as invalid. Should be >= 1. (default: 1)\n",
      "minWeightFractionPerNode: Minimum fraction of the weighted sample count that each child must have after split. If a split causes the fraction of the total weight in the left or right child to be less than minWeightFractionPerNode, the split will be discarded as invalid. Should be in interval [0.0, 0.5). (default: 0.0)\n",
      "predictionCol: prediction column name. (default: prediction)\n",
      "probabilityCol: Column name for predicted class conditional probabilities. Note: Not all models output well-calibrated probability estimates! These probabilities should be treated as confidences, not precise probabilities. (default: probability)\n",
      "rawPredictionCol: raw prediction (a.k.a. confidence) column name. (default: rawPrediction)\n",
      "seed: random seed. (default: -6108839987537888778, current: 42)\n",
      "thresholds: Thresholds in multi-class classification to adjust the probability of predicting each class. Array must have length equal to the number of classes, with values > 0, excepting that at most one value may be 0. The class with largest value p/t is predicted, where p is the original probability of that class and t is the class's threshold. (undefined)\n",
      "weightCol: weight column name. If this is not set or empty, we treat all instance weights as 1.0. (undefined)\n",
      "DataFrame[higgs_bosons_indexes: double, prediction: double]\n",
      "bootstrap: Whether bootstrap samples are used when building trees. (default: True)\n",
      "cacheNodeIds: If false, the algorithm will pass trees to executors to match instances with nodes. If true, the algorithm will cache node IDs for each instance. Caching can speed up training of deeper trees. Users can set how often should the cache be checkpointed or disable it by setting checkpointInterval. (default: False)\n",
      "checkpointInterval: set checkpoint interval (>= 1) or disable checkpoint (-1). E.g. 10 means that the cache will get checkpointed every 10 iterations. Note: this setting will be ignored if the checkpoint directory is not set in the SparkContext. (default: 10)\n",
      "featureSubsetStrategy: The number of features to consider for splits at each tree node. Supported options: 'auto' (choose automatically for task: If numTrees == 1, set to 'all'. If numTrees > 1 (forest), set to 'sqrt' for classification and to 'onethird' for regression), 'all' (use all features), 'onethird' (use 1/3 of the features), 'sqrt' (use sqrt(number of features)), 'log2' (use log2(number of features)), 'n' (when n is in the range (0, 1.0], use n * number of features. When n is in the range (1, number of features), use n features). default = 'auto' (default: auto)\n",
      "featuresCol: features column name. (default: features)\n",
      "impurity: Criterion used for information gain calculation (case-insensitive). Supported options: entropy, gini (default: gini)\n",
      "labelCol: label column name. (default: label, current: higgs_bosons_indexes)\n",
      "leafCol: Leaf indices column name. Predicted leaf index of each instance in each tree by preorder. (default: )\n",
      "maxBins: Max number of bins for discretizing continuous features.  Must be >=2 and >= number of categories for any categorical feature. (default: 32)\n",
      "maxDepth: Maximum depth of the tree. (>= 0) E.g., depth 0 means 1 leaf node; depth 1 means 1 internal node + 2 leaf nodes. Must be in range [0, 30]. (default: 5)\n",
      "maxMemoryInMB: Maximum memory in MB allocated to histogram aggregation. If too small, then 1 node will be split per iteration, and its aggregates may exceed this size. (default: 256)\n",
      "minInfoGain: Minimum information gain for a split to be considered at a tree node. (default: 0.0)\n",
      "minInstancesPerNode: Minimum number of instances each child must have after split. If a split causes the left or right child to have fewer than minInstancesPerNode, the split will be discarded as invalid. Should be >= 1. (default: 1)\n",
      "minWeightFractionPerNode: Minimum fraction of the weighted sample count that each child must have after split. If a split causes the fraction of the total weight in the left or right child to be less than minWeightFractionPerNode, the split will be discarded as invalid. Should be in interval [0.0, 0.5). (default: 0.0)\n",
      "numTrees: Number of trees to train (>= 1). (default: 20)\n",
      "predictionCol: prediction column name. (default: prediction)\n",
      "probabilityCol: Column name for predicted class conditional probabilities. Note: Not all models output well-calibrated probability estimates! These probabilities should be treated as confidences, not precise probabilities. (default: probability)\n",
      "rawPredictionCol: raw prediction (a.k.a. confidence) column name. (default: rawPrediction)\n",
      "seed: random seed. (default: 7096566530939830944, current: 42)\n",
      "subsamplingRate: Fraction of the training data used for learning each decision tree, in range (0, 1]. (default: 1.0)\n",
      "thresholds: Thresholds in multi-class classification to adjust the probability of predicting each class. Array must have length equal to the number of classes, with values > 0, excepting that at most one value may be 0. The class with largest value p/t is predicted, where p is the original probability of that class and t is the class's threshold. (undefined)\n",
      "weightCol: weight column name. If this is not set or empty, we treat all instance weights as 1.0. (undefined)\n",
      "DataFrame[higgs_bosons_indexes: double, prediction: double]\n",
      "distanceMeasure: the distance measure. Supported options: 'euclidean' and 'cosine'. (default: euclidean)\n",
      "featuresCol: features column name. (default: features)\n",
      "initMode: The initialization algorithm. This can be either \"random\" to choose random points as initial cluster centers, or \"k-means||\" to use a parallel variant of k-means++ (default: k-means||)\n",
      "initSteps: The number of steps for k-means|| initialization mode. Must be > 0. (default: 2)\n",
      "k: The number of clusters to create. Must be > 1. (default: 2, current: 2)\n",
      "maxIter: max number of iterations (>= 0). (default: 20)\n",
      "predictionCol: prediction column name. (default: prediction)\n",
      "seed: random seed. (default: -5132860448238640954, current: 42)\n",
      "tol: the convergence tolerance for iterative algorithms (>= 0). (default: 0.0001)\n",
      "weightCol: weight column name. If this is not set or empty, we treat all instance weights as 1.0. (undefined)\n",
      "DataFrame[higgs_bosons_indexes: double, prediction: double]\n",
      "===================\n",
      "   Train results   \n",
      "===================\n",
      "{DecisionTreeClassifier_2ec9b420254e: {'cls': DecisionTreeClassificationModel: uid=DecisionTreeClassifier_2ec9b420254e, depth=1, numNodes=3, numClasses=2, numFeatures=21, 'train_result': DataFrame[higgs_bosons_indexes: double, prediction: double], 'accuracy': 1.0, 'f1': 1.0}, RandomForestClassifier_e0865629d862: {'cls': RandomForestClassificationModel: uid=RandomForestClassifier_e0865629d862, numTrees=20, numClasses=2, numFeatures=21, 'train_result': DataFrame[higgs_bosons_indexes: double, prediction: double], 'accuracy': 1.0, 'f1': 1.0}, KMeans_1874216b565e: {'cls': KMeansModel: uid=KMeans_1874216b565e, k=2, distanceMeasure=euclidean, numFeatures=21, 'train_result': DataFrame[higgs_bosons_indexes: double, prediction: double], 'accuracy': 0.5038303810445975, 'f1': 0.4926267437693037}}\n"
     ]
    }
   ],
   "source": [
    "train_results = training(train, label = \"higgs_bosons_indexes\")"
   ]
  },
  {
   "cell_type": "code",
   "execution_count": 54,
   "id": "895f7ffe-d1b9-4ff9-b627-fa82312de261",
   "metadata": {
    "id": "895f7ffe-d1b9-4ff9-b627-fa82312de261",
    "tags": []
   },
   "outputs": [
    {
     "data": {
      "text/plain": [
       "{DecisionTreeClassifier_2ec9b420254e: {'cls': DecisionTreeClassificationModel: uid=DecisionTreeClassifier_2ec9b420254e, depth=1, numNodes=3, numClasses=2, numFeatures=21,\n",
       "  'train_result': DataFrame[higgs_bosons_indexes: double, prediction: double],\n",
       "  'accuracy': 1.0,\n",
       "  'f1': 1.0},\n",
       " RandomForestClassifier_e0865629d862: {'cls': RandomForestClassificationModel: uid=RandomForestClassifier_e0865629d862, numTrees=20, numClasses=2, numFeatures=21,\n",
       "  'train_result': DataFrame[higgs_bosons_indexes: double, prediction: double],\n",
       "  'accuracy': 1.0,\n",
       "  'f1': 1.0},\n",
       " KMeans_1874216b565e: {'cls': KMeansModel: uid=KMeans_1874216b565e, k=2, distanceMeasure=euclidean, numFeatures=21,\n",
       "  'train_result': DataFrame[higgs_bosons_indexes: double, prediction: double],\n",
       "  'accuracy': 0.5038303810445975,\n",
       "  'f1': 0.4926267437693037}}"
      ]
     },
     "execution_count": 54,
     "metadata": {},
     "output_type": "execute_result"
    }
   ],
   "source": [
    "train_results"
   ]
  },
  {
   "cell_type": "markdown",
   "id": "0e5a35e4-a9b3-44c4-b43d-ef92e67ce6c9",
   "metadata": {
    "id": "0e5a35e4-a9b3-44c4-b43d-ef92e67ce6c9"
   },
   "source": [
    "#### Testing"
   ]
  },
  {
   "cell_type": "code",
   "execution_count": 55,
   "id": "fab38bb6-5197-434b-9bb3-44153d144139",
   "metadata": {
    "id": "fab38bb6-5197-434b-9bb3-44153d144139",
    "outputId": "fc3297ce-a7b0-419c-898d-3fe360e43526"
   },
   "outputs": [
    {
     "name": "stdout",
     "output_type": "stream",
     "text": [
      "=============\n",
      "   Testing   \n",
      "=============\n",
      "{'cls': DecisionTreeClassificationModel: uid=DecisionTreeClassifier_2ec9b420254e, depth=1, numNodes=3, numClasses=2, numFeatures=21, 'train_result': DataFrame[higgs_bosons_indexes: double, prediction: double], 'accuracy': 1.0, 'f1': 1.0}\n",
      "<class 'dict'>\n",
      "Classifier:  DecisionTreeClassifier_2ec9b420254e\n",
      "+--------------------+----------+\n",
      "|higgs_bosons_indexes|prediction|\n",
      "+--------------------+----------+\n",
      "|                 1.0|       1.0|\n",
      "|                 1.0|       1.0|\n",
      "|                 1.0|       1.0|\n",
      "|                 1.0|       1.0|\n",
      "|                 1.0|       1.0|\n",
      "|                 1.0|       1.0|\n",
      "|                 1.0|       1.0|\n",
      "|                 1.0|       1.0|\n",
      "|                 1.0|       1.0|\n",
      "|                 1.0|       1.0|\n",
      "|                 1.0|       1.0|\n",
      "|                 1.0|       1.0|\n",
      "|                 1.0|       1.0|\n",
      "|                 1.0|       1.0|\n",
      "|                 1.0|       1.0|\n",
      "|                 1.0|       1.0|\n",
      "|                 1.0|       1.0|\n",
      "|                 1.0|       1.0|\n",
      "|                 1.0|       1.0|\n",
      "|                 1.0|       1.0|\n",
      "+--------------------+----------+\n",
      "only showing top 20 rows\n",
      "\n",
      "{'cls': RandomForestClassificationModel: uid=RandomForestClassifier_e0865629d862, numTrees=20, numClasses=2, numFeatures=21, 'train_result': DataFrame[higgs_bosons_indexes: double, prediction: double], 'accuracy': 1.0, 'f1': 1.0}\n",
      "<class 'dict'>\n",
      "Classifier:  RandomForestClassifier_e0865629d862\n",
      "+--------------------+----------+\n",
      "|higgs_bosons_indexes|prediction|\n",
      "+--------------------+----------+\n",
      "|                 1.0|       1.0|\n",
      "|                 1.0|       1.0|\n",
      "|                 1.0|       1.0|\n",
      "|                 1.0|       1.0|\n",
      "|                 1.0|       1.0|\n",
      "|                 1.0|       1.0|\n",
      "|                 1.0|       1.0|\n",
      "|                 1.0|       1.0|\n",
      "|                 1.0|       1.0|\n",
      "|                 1.0|       1.0|\n",
      "|                 1.0|       1.0|\n",
      "|                 1.0|       1.0|\n",
      "|                 1.0|       1.0|\n",
      "|                 1.0|       1.0|\n",
      "|                 1.0|       1.0|\n",
      "|                 1.0|       1.0|\n",
      "|                 1.0|       1.0|\n",
      "|                 1.0|       1.0|\n",
      "|                 1.0|       1.0|\n",
      "|                 1.0|       1.0|\n",
      "+--------------------+----------+\n",
      "only showing top 20 rows\n",
      "\n",
      "{'cls': KMeansModel: uid=KMeans_1874216b565e, k=2, distanceMeasure=euclidean, numFeatures=21, 'train_result': DataFrame[higgs_bosons_indexes: double, prediction: double], 'accuracy': 0.5038303810445975, 'f1': 0.4926267437693037}\n",
      "<class 'dict'>\n",
      "Classifier:  KMeans_1874216b565e\n",
      "+--------------------+----------+\n",
      "|higgs_bosons_indexes|prediction|\n",
      "+--------------------+----------+\n",
      "|                 1.0|       1.0|\n",
      "|                 1.0|       1.0|\n",
      "|                 1.0|       0.0|\n",
      "|                 1.0|       0.0|\n",
      "|                 1.0|       1.0|\n",
      "|                 1.0|       0.0|\n",
      "|                 1.0|       0.0|\n",
      "|                 1.0|       0.0|\n",
      "|                 1.0|       0.0|\n",
      "|                 1.0|       0.0|\n",
      "|                 1.0|       1.0|\n",
      "|                 1.0|       0.0|\n",
      "|                 1.0|       1.0|\n",
      "|                 1.0|       1.0|\n",
      "|                 1.0|       0.0|\n",
      "|                 1.0|       1.0|\n",
      "|                 1.0|       0.0|\n",
      "|                 1.0|       0.0|\n",
      "|                 1.0|       0.0|\n",
      "|                 1.0|       1.0|\n",
      "+--------------------+----------+\n",
      "only showing top 20 rows\n",
      "\n",
      "==================\n",
      "   Test results   \n",
      "==================\n",
      "{DecisionTreeClassifier_2ec9b420254e: {'cls': DecisionTreeClassificationModel: uid=DecisionTreeClassifier_2ec9b420254e, depth=1, numNodes=3, numClasses=2, numFeatures=21, 'test_result': DataFrame[higgs_bosons_indexes: double, prediction: double], 'accuracy': 1.0, 'f1': 1.0}, RandomForestClassifier_e0865629d862: {'cls': RandomForestClassificationModel: uid=RandomForestClassifier_e0865629d862, numTrees=20, numClasses=2, numFeatures=21, 'test_result': DataFrame[higgs_bosons_indexes: double, prediction: double], 'accuracy': 1.0, 'f1': 1.0}, KMeans_1874216b565e: {'cls': KMeansModel: uid=KMeans_1874216b565e, k=2, distanceMeasure=euclidean, numFeatures=21, 'test_result': DataFrame[higgs_bosons_indexes: double, prediction: double], 'accuracy': 0.49771597474136775, 'f1': 0.48652728101374787}}\n"
     ]
    }
   ],
   "source": [
    "testing(test, train_results, label = \"higgs_bosons_indexes\")"
   ]
  },
  {
   "cell_type": "markdown",
   "id": "8bb19e9e-3d32-4f13-8241-397c63485bd9",
   "metadata": {
    "id": "8bb19e9e-3d32-4f13-8241-397c63485bd9"
   },
   "source": [
    "### Normalised"
   ]
  },
  {
   "cell_type": "code",
   "execution_count": 56,
   "id": "20b00a5f-3f76-4153-9465-dde337265361",
   "metadata": {
    "id": "20b00a5f-3f76-4153-9465-dde337265361",
    "outputId": "e12b7045-429c-4f82-e132-b9ab6b300cb7"
   },
   "outputs": [
    {
     "name": "stdout",
     "output_type": "stream",
     "text": [
      "=======================================\n",
      "   Feature aggregation and selection   \n",
      "=======================================\n",
      "Dropping NaNs\n",
      "Feature selection: features with a variance greater than threshold\n",
      "Train-test creation\n",
      "Fit-transform normalise\n",
      "Fit-transform\n",
      "Train-test split\n",
      "Normalise train\n",
      "Normalise test\n",
      "Train schema: \n",
      "root\n",
      " |-- higgs_bosons: integer (nullable = true)\n",
      " |-- lepton_pT: double (nullable = true)\n",
      " |-- lepton_eta: double (nullable = true)\n",
      " |-- lepton_phi: double (nullable = true)\n",
      " |-- missing_energy_magnitude: double (nullable = true)\n",
      " |-- missing_energy_phi: double (nullable = true)\n",
      " |-- jet_1_eta: double (nullable = true)\n",
      " |-- jet_1_phi: double (nullable = true)\n",
      " |-- jet_1_b-tag: double (nullable = true)\n",
      " |-- jet_2_eta: double (nullable = true)\n",
      " |-- jet_2_phi: double (nullable = true)\n",
      " |-- jet_2_b-tag: double (nullable = true)\n",
      " |-- jet_3_eta: double (nullable = true)\n",
      " |-- jet_3_phi: double (nullable = true)\n",
      " |-- jet_3_b-tag: double (nullable = true)\n",
      " |-- jet_4_pt: double (nullable = true)\n",
      " |-- jet_4_eta: double (nullable = true)\n",
      " |-- jet_4_phi: double (nullable = true)\n",
      " |-- jet_4_b-tag: double (nullable = true)\n",
      " |-- m_jj: double (nullable = true)\n",
      " |-- m_bb: double (nullable = true)\n",
      " |-- higgs_bosons_indexes: double (nullable = false)\n",
      " |-- label: double (nullable = false)\n",
      " |-- features: vector (nullable = true)\n",
      "\n",
      "Test schema: \n",
      "root\n",
      " |-- higgs_bosons: integer (nullable = true)\n",
      " |-- lepton_pT: double (nullable = true)\n",
      " |-- lepton_eta: double (nullable = true)\n",
      " |-- lepton_phi: double (nullable = true)\n",
      " |-- missing_energy_magnitude: double (nullable = true)\n",
      " |-- missing_energy_phi: double (nullable = true)\n",
      " |-- jet_1_eta: double (nullable = true)\n",
      " |-- jet_1_phi: double (nullable = true)\n",
      " |-- jet_1_b-tag: double (nullable = true)\n",
      " |-- jet_2_eta: double (nullable = true)\n",
      " |-- jet_2_phi: double (nullable = true)\n",
      " |-- jet_2_b-tag: double (nullable = true)\n",
      " |-- jet_3_eta: double (nullable = true)\n",
      " |-- jet_3_phi: double (nullable = true)\n",
      " |-- jet_3_b-tag: double (nullable = true)\n",
      " |-- jet_4_pt: double (nullable = true)\n",
      " |-- jet_4_eta: double (nullable = true)\n",
      " |-- jet_4_phi: double (nullable = true)\n",
      " |-- jet_4_b-tag: double (nullable = true)\n",
      " |-- m_jj: double (nullable = true)\n",
      " |-- m_bb: double (nullable = true)\n",
      " |-- higgs_bosons_indexes: double (nullable = false)\n",
      " |-- label: double (nullable = false)\n",
      " |-- features: vector (nullable = true)\n",
      "\n"
     ]
    }
   ],
   "source": [
    "train, test = axisAggregation_featureSelection(df_lim, True, threshold = 0.5, label = \"higgs_bosons\")"
   ]
  },
  {
   "cell_type": "markdown",
   "id": "51fc1c60-0164-4468-aa74-1dfba7aa9376",
   "metadata": {
    "id": "51fc1c60-0164-4468-aa74-1dfba7aa9376"
   },
   "source": [
    "#### Training"
   ]
  },
  {
   "cell_type": "code",
   "execution_count": 57,
   "id": "e262d9e1-6e93-4869-90d5-8186b28b7e40",
   "metadata": {
    "id": "e262d9e1-6e93-4869-90d5-8186b28b7e40",
    "outputId": "a00be486-c47e-442e-c688-52d7789ec003"
   },
   "outputs": [
    {
     "name": "stdout",
     "output_type": "stream",
     "text": [
      "==============\n",
      "   Training   \n",
      "==============\n",
      "cacheNodeIds: If false, the algorithm will pass trees to executors to match instances with nodes. If true, the algorithm will cache node IDs for each instance. Caching can speed up training of deeper trees. Users can set how often should the cache be checkpointed or disable it by setting checkpointInterval. (default: False)\n",
      "checkpointInterval: set checkpoint interval (>= 1) or disable checkpoint (-1). E.g. 10 means that the cache will get checkpointed every 10 iterations. Note: this setting will be ignored if the checkpoint directory is not set in the SparkContext. (default: 10)\n",
      "featuresCol: features column name. (default: features)\n",
      "impurity: Criterion used for information gain calculation (case-insensitive). Supported options: entropy, gini (default: gini)\n",
      "labelCol: label column name. (default: label, current: higgs_bosons_indexes)\n",
      "leafCol: Leaf indices column name. Predicted leaf index of each instance in each tree by preorder. (default: )\n",
      "maxBins: Max number of bins for discretizing continuous features.  Must be >=2 and >= number of categories for any categorical feature. (default: 32)\n",
      "maxDepth: Maximum depth of the tree. (>= 0) E.g., depth 0 means 1 leaf node; depth 1 means 1 internal node + 2 leaf nodes. Must be in range [0, 30]. (default: 5)\n",
      "maxMemoryInMB: Maximum memory in MB allocated to histogram aggregation. If too small, then 1 node will be split per iteration, and its aggregates may exceed this size. (default: 256)\n",
      "minInfoGain: Minimum information gain for a split to be considered at a tree node. (default: 0.0)\n",
      "minInstancesPerNode: Minimum number of instances each child must have after split. If a split causes the left or right child to have fewer than minInstancesPerNode, the split will be discarded as invalid. Should be >= 1. (default: 1)\n",
      "minWeightFractionPerNode: Minimum fraction of the weighted sample count that each child must have after split. If a split causes the fraction of the total weight in the left or right child to be less than minWeightFractionPerNode, the split will be discarded as invalid. Should be in interval [0.0, 0.5). (default: 0.0)\n",
      "predictionCol: prediction column name. (default: prediction)\n",
      "probabilityCol: Column name for predicted class conditional probabilities. Note: Not all models output well-calibrated probability estimates! These probabilities should be treated as confidences, not precise probabilities. (default: probability)\n",
      "rawPredictionCol: raw prediction (a.k.a. confidence) column name. (default: rawPrediction)\n",
      "seed: random seed. (default: -6108839987537888778, current: 42)\n",
      "thresholds: Thresholds in multi-class classification to adjust the probability of predicting each class. Array must have length equal to the number of classes, with values > 0, excepting that at most one value may be 0. The class with largest value p/t is predicted, where p is the original probability of that class and t is the class's threshold. (undefined)\n",
      "weightCol: weight column name. If this is not set or empty, we treat all instance weights as 1.0. (undefined)\n",
      "DataFrame[higgs_bosons_indexes: double, prediction: double]\n",
      "bootstrap: Whether bootstrap samples are used when building trees. (default: True)\n",
      "cacheNodeIds: If false, the algorithm will pass trees to executors to match instances with nodes. If true, the algorithm will cache node IDs for each instance. Caching can speed up training of deeper trees. Users can set how often should the cache be checkpointed or disable it by setting checkpointInterval. (default: False)\n",
      "checkpointInterval: set checkpoint interval (>= 1) or disable checkpoint (-1). E.g. 10 means that the cache will get checkpointed every 10 iterations. Note: this setting will be ignored if the checkpoint directory is not set in the SparkContext. (default: 10)\n",
      "featureSubsetStrategy: The number of features to consider for splits at each tree node. Supported options: 'auto' (choose automatically for task: If numTrees == 1, set to 'all'. If numTrees > 1 (forest), set to 'sqrt' for classification and to 'onethird' for regression), 'all' (use all features), 'onethird' (use 1/3 of the features), 'sqrt' (use sqrt(number of features)), 'log2' (use log2(number of features)), 'n' (when n is in the range (0, 1.0], use n * number of features. When n is in the range (1, number of features), use n features). default = 'auto' (default: auto)\n",
      "featuresCol: features column name. (default: features)\n",
      "impurity: Criterion used for information gain calculation (case-insensitive). Supported options: entropy, gini (default: gini)\n",
      "labelCol: label column name. (default: label, current: higgs_bosons_indexes)\n",
      "leafCol: Leaf indices column name. Predicted leaf index of each instance in each tree by preorder. (default: )\n",
      "maxBins: Max number of bins for discretizing continuous features.  Must be >=2 and >= number of categories for any categorical feature. (default: 32)\n",
      "maxDepth: Maximum depth of the tree. (>= 0) E.g., depth 0 means 1 leaf node; depth 1 means 1 internal node + 2 leaf nodes. Must be in range [0, 30]. (default: 5)\n",
      "maxMemoryInMB: Maximum memory in MB allocated to histogram aggregation. If too small, then 1 node will be split per iteration, and its aggregates may exceed this size. (default: 256)\n",
      "minInfoGain: Minimum information gain for a split to be considered at a tree node. (default: 0.0)\n",
      "minInstancesPerNode: Minimum number of instances each child must have after split. If a split causes the left or right child to have fewer than minInstancesPerNode, the split will be discarded as invalid. Should be >= 1. (default: 1)\n",
      "minWeightFractionPerNode: Minimum fraction of the weighted sample count that each child must have after split. If a split causes the fraction of the total weight in the left or right child to be less than minWeightFractionPerNode, the split will be discarded as invalid. Should be in interval [0.0, 0.5). (default: 0.0)\n",
      "numTrees: Number of trees to train (>= 1). (default: 20)\n",
      "predictionCol: prediction column name. (default: prediction)\n",
      "probabilityCol: Column name for predicted class conditional probabilities. Note: Not all models output well-calibrated probability estimates! These probabilities should be treated as confidences, not precise probabilities. (default: probability)\n",
      "rawPredictionCol: raw prediction (a.k.a. confidence) column name. (default: rawPrediction)\n",
      "seed: random seed. (default: 7096566530939830944, current: 42)\n",
      "subsamplingRate: Fraction of the training data used for learning each decision tree, in range (0, 1]. (default: 1.0)\n",
      "thresholds: Thresholds in multi-class classification to adjust the probability of predicting each class. Array must have length equal to the number of classes, with values > 0, excepting that at most one value may be 0. The class with largest value p/t is predicted, where p is the original probability of that class and t is the class's threshold. (undefined)\n",
      "weightCol: weight column name. If this is not set or empty, we treat all instance weights as 1.0. (undefined)\n",
      "DataFrame[higgs_bosons_indexes: double, prediction: double]\n",
      "distanceMeasure: the distance measure. Supported options: 'euclidean' and 'cosine'. (default: euclidean)\n",
      "featuresCol: features column name. (default: features)\n",
      "initMode: The initialization algorithm. This can be either \"random\" to choose random points as initial cluster centers, or \"k-means||\" to use a parallel variant of k-means++ (default: k-means||)\n",
      "initSteps: The number of steps for k-means|| initialization mode. Must be > 0. (default: 2)\n",
      "k: The number of clusters to create. Must be > 1. (default: 2, current: 2)\n",
      "maxIter: max number of iterations (>= 0). (default: 20)\n",
      "predictionCol: prediction column name. (default: prediction)\n",
      "seed: random seed. (default: -5132860448238640954, current: 42)\n",
      "tol: the convergence tolerance for iterative algorithms (>= 0). (default: 0.0001)\n",
      "weightCol: weight column name. If this is not set or empty, we treat all instance weights as 1.0. (undefined)\n",
      "DataFrame[higgs_bosons_indexes: double, prediction: double]\n",
      "===================\n",
      "   Train results   \n",
      "===================\n",
      "{DecisionTreeClassifier_55cd251d7e54: {'cls': DecisionTreeClassificationModel: uid=DecisionTreeClassifier_55cd251d7e54, depth=1, numNodes=3, numClasses=2, numFeatures=21, 'train_result': DataFrame[higgs_bosons_indexes: double, prediction: double], 'accuracy': 1.0, 'f1': 1.0}, RandomForestClassifier_4161d506a397: {'cls': RandomForestClassificationModel: uid=RandomForestClassifier_4161d506a397, numTrees=20, numClasses=2, numFeatures=21, 'train_result': DataFrame[higgs_bosons_indexes: double, prediction: double], 'accuracy': 1.0, 'f1': 1.0}, KMeans_2006c20bb4a5: {'cls': KMeansModel: uid=KMeans_2006c20bb4a5, k=2, distanceMeasure=euclidean, numFeatures=21, 'train_result': DataFrame[higgs_bosons_indexes: double, prediction: double], 'accuracy': 0.4978356211197813, 'f1': 0.49819483329916936}}\n"
     ]
    }
   ],
   "source": [
    "train_results = training(train, label = \"higgs_bosons_indexes\")"
   ]
  },
  {
   "cell_type": "markdown",
   "id": "730fe90b-e97f-42b2-bb7b-8bb90b311901",
   "metadata": {
    "id": "730fe90b-e97f-42b2-bb7b-8bb90b311901"
   },
   "source": [
    "#### Testing"
   ]
  },
  {
   "cell_type": "code",
   "execution_count": 58,
   "id": "1913b18b-a835-4481-907f-a7b3a4e37ab8",
   "metadata": {
    "id": "1913b18b-a835-4481-907f-a7b3a4e37ab8",
    "outputId": "c5f4bc34-20ae-4784-9abc-6b044fda4540"
   },
   "outputs": [
    {
     "name": "stdout",
     "output_type": "stream",
     "text": [
      "=============\n",
      "   Testing   \n",
      "=============\n",
      "{'cls': DecisionTreeClassificationModel: uid=DecisionTreeClassifier_55cd251d7e54, depth=1, numNodes=3, numClasses=2, numFeatures=21, 'train_result': DataFrame[higgs_bosons_indexes: double, prediction: double], 'accuracy': 1.0, 'f1': 1.0}\n",
      "<class 'dict'>\n",
      "Classifier:  DecisionTreeClassifier_55cd251d7e54\n"
     ]
    },
    {
     "name": "stdout",
     "output_type": "stream",
     "text": [
      "+--------------------+----------+\n",
      "|higgs_bosons_indexes|prediction|\n",
      "+--------------------+----------+\n",
      "|                 1.0|       1.0|\n",
      "|                 1.0|       1.0|\n",
      "|                 1.0|       1.0|\n",
      "|                 1.0|       1.0|\n",
      "|                 1.0|       1.0|\n",
      "|                 1.0|       1.0|\n",
      "|                 1.0|       1.0|\n",
      "|                 1.0|       1.0|\n",
      "|                 1.0|       1.0|\n",
      "|                 1.0|       1.0|\n",
      "|                 1.0|       1.0|\n",
      "|                 1.0|       1.0|\n",
      "|                 1.0|       1.0|\n",
      "|                 1.0|       1.0|\n",
      "|                 1.0|       1.0|\n",
      "|                 1.0|       1.0|\n",
      "|                 1.0|       1.0|\n",
      "|                 1.0|       1.0|\n",
      "|                 1.0|       1.0|\n",
      "|                 1.0|       1.0|\n",
      "+--------------------+----------+\n",
      "only showing top 20 rows\n",
      "\n",
      "{'cls': RandomForestClassificationModel: uid=RandomForestClassifier_4161d506a397, numTrees=20, numClasses=2, numFeatures=21, 'train_result': DataFrame[higgs_bosons_indexes: double, prediction: double], 'accuracy': 1.0, 'f1': 1.0}\n",
      "<class 'dict'>\n",
      "Classifier:  RandomForestClassifier_4161d506a397\n",
      "+--------------------+----------+\n",
      "|higgs_bosons_indexes|prediction|\n",
      "+--------------------+----------+\n",
      "|                 1.0|       1.0|\n",
      "|                 1.0|       1.0|\n",
      "|                 1.0|       1.0|\n",
      "|                 1.0|       1.0|\n",
      "|                 1.0|       1.0|\n",
      "|                 1.0|       1.0|\n",
      "|                 1.0|       1.0|\n",
      "|                 1.0|       1.0|\n",
      "|                 1.0|       1.0|\n",
      "|                 1.0|       1.0|\n",
      "|                 1.0|       1.0|\n",
      "|                 1.0|       1.0|\n",
      "|                 1.0|       1.0|\n",
      "|                 1.0|       1.0|\n",
      "|                 1.0|       1.0|\n",
      "|                 1.0|       1.0|\n",
      "|                 1.0|       1.0|\n",
      "|                 1.0|       1.0|\n",
      "|                 1.0|       1.0|\n",
      "|                 1.0|       1.0|\n",
      "+--------------------+----------+\n",
      "only showing top 20 rows\n",
      "\n",
      "{'cls': KMeansModel: uid=KMeans_2006c20bb4a5, k=2, distanceMeasure=euclidean, numFeatures=21, 'train_result': DataFrame[higgs_bosons_indexes: double, prediction: double], 'accuracy': 0.4978356211197813, 'f1': 0.49819483329916936}\n",
      "<class 'dict'>\n",
      "Classifier:  KMeans_2006c20bb4a5\n",
      "+--------------------+----------+\n",
      "|higgs_bosons_indexes|prediction|\n",
      "+--------------------+----------+\n",
      "|                 1.0|       0.0|\n",
      "|                 1.0|       0.0|\n",
      "|                 1.0|       0.0|\n",
      "|                 1.0|       0.0|\n",
      "|                 1.0|       1.0|\n",
      "|                 1.0|       0.0|\n",
      "|                 1.0|       1.0|\n",
      "|                 1.0|       0.0|\n",
      "|                 1.0|       0.0|\n",
      "|                 1.0|       0.0|\n",
      "|                 1.0|       0.0|\n",
      "|                 1.0|       0.0|\n",
      "|                 1.0|       1.0|\n",
      "|                 1.0|       0.0|\n",
      "|                 1.0|       1.0|\n",
      "|                 1.0|       0.0|\n",
      "|                 1.0|       1.0|\n",
      "|                 1.0|       1.0|\n",
      "|                 1.0|       0.0|\n",
      "|                 1.0|       0.0|\n",
      "+--------------------+----------+\n",
      "only showing top 20 rows\n",
      "\n",
      "==================\n",
      "   Test results   \n",
      "==================\n",
      "{DecisionTreeClassifier_55cd251d7e54: {'cls': DecisionTreeClassificationModel: uid=DecisionTreeClassifier_55cd251d7e54, depth=1, numNodes=3, numClasses=2, numFeatures=21, 'test_result': DataFrame[higgs_bosons_indexes: double, prediction: double], 'accuracy': 1.0, 'f1': 1.0}, RandomForestClassifier_4161d506a397: {'cls': RandomForestClassificationModel: uid=RandomForestClassifier_4161d506a397, numTrees=20, numClasses=2, numFeatures=21, 'test_result': DataFrame[higgs_bosons_indexes: double, prediction: double], 'accuracy': 1.0, 'f1': 1.0}, KMeans_2006c20bb4a5: {'cls': KMeansModel: uid=KMeans_2006c20bb4a5, k=2, distanceMeasure=euclidean, numFeatures=21, 'test_result': DataFrame[higgs_bosons_indexes: double, prediction: double], 'accuracy': 0.4934838102915491, 'f1': 0.494004429493655}}\n"
     ]
    }
   ],
   "source": [
    "testing(test, train_results, label = \"higgs_bosons_indexes\")"
   ]
  },
  {
   "cell_type": "markdown",
   "id": "721ef753-37e7-4c24-a2c5-19c75b99254a",
   "metadata": {
    "id": "721ef753-37e7-4c24-a2c5-19c75b99254a"
   },
   "source": [
    "## Dropping kinematic properties columns"
   ]
  },
  {
   "cell_type": "markdown",
   "id": "b9abde64-0c12-4fd3-b1af-ee1d4b268cd4",
   "metadata": {
    "id": "b9abde64-0c12-4fd3-b1af-ee1d4b268cd4"
   },
   "source": [
    "### Non-normalised"
   ]
  },
  {
   "cell_type": "code",
   "execution_count": 61,
   "id": "946b85b1",
   "metadata": {},
   "outputs": [
    {
     "name": "stdout",
     "output_type": "stream",
     "text": [
      "+------------+------------------+-------------------+--------------------+------------------------+--------------------+------------------+--------------------+--------------------+------------------+------------------+-------------------+--------------------+------------------+------------------+--------------------+-------------------+-----------------+-------------------+--------------------+--------------------+-----------------+------------------+------------------+------------------+------------------+-------------------+------------------+------------------+\n",
      "|higgs_bosons|         lepton_pT|         lepton_eta|          lepton_phi|missing_energy_magnitude|  missing_energy_phi|          jet_1_pt|           jet_1_eta|           jet_1_phi|       jet_1_b-tag|          jet_2_pt|          jet_2_eta|           jet_2_phi|       jet_2_b-tag|          jet_3_pt|           jet_3_eta|          jet_3_phi|      jet_3_b-tag|           jet_4_pt|           jet_4_eta|           jet_4_phi|      jet_4_b-tag|              m_jj|             m_jjj|              m_lv|             m_jlv|               m_bb|             m_wbb|            m_wwbb|\n",
      "+------------+------------------+-------------------+--------------------+------------------------+--------------------+------------------+--------------------+--------------------+------------------+------------------+-------------------+--------------------+------------------+------------------+--------------------+-------------------+-----------------+-------------------+--------------------+--------------------+-----------------+------------------+------------------+------------------+------------------+-------------------+------------------+------------------+\n",
      "|           1| 0.869293212890625|-0.6350818276405334| 0.22569026052951813|       0.327470064163208| -0.6899932026863098|0.7542022466659546|-0.24857313930988312| -1.0920639038085938|               0.0|1.3749921321868896|-0.6536741852760315|  0.9303491115570068|1.1074360609054565| 1.138904333114624| -1.5781983137130737| -1.046985387802124|              0.0|  0.657929539680481|-0.01045456994324...| -0.0457671694457531|3.101961374282837| 1.353760004043579|0.9795631170272827| 0.978076159954071|0.9200048446655273| 0.7216574549674988|0.9887509346008301|0.8766783475875854|\n",
      "|           1|0.9075421094894409| 0.3291472792625427|  0.3594118654727936|      1.4979698657989502| -0.3130095303058624|  1.09553062915802| -0.5575249195098877|  -1.588229775428772|2.1730761528015137|0.8125811815261841|-0.2136419266462326|  1.2710145711898804| 2.214872121810913|0.4999939501285553| -1.2614318132400513| 0.7321561574935913|              0.0|0.39870089292526245|  -1.138930082321167|-8.19110195152461...|              0.0|0.3022198975086212|0.8330481648445129|0.9856996536254883|0.9780983924865723| 0.7797321677207947|0.9923557639122009|0.7983425855636597|\n",
      "|           1|0.7988347411155701| 1.4706387519836426| -1.6359747648239136|        0.45377317070961|  0.4256291687488556| 1.104874610900879|  1.2823222875595093|  1.3816642761230469|               0.0|0.8517372012138367|  1.540658950805664| -0.8196895122528076| 2.214872121810913|0.9934899210929871|  0.3560801148414612|-0.2087775468826294|2.548224449157715|  1.256954550743103|   1.128847599029541|  0.9004608392715454|              0.0|0.9097532629966736| 1.108330488204956|0.9856922030448914|0.9513312578201294| 0.8032515048980713|0.8659244179725647|0.7801175713539124|\n",
      "|           0| 1.344384789466858|-0.8766260147094727|  0.9359127283096313|       1.992050051689148|  0.8824543952941895| 1.786065936088562| -1.6467777490615845| -0.9423825144767761|               0.0| 2.423264741897583|-0.6760157942771912|  0.7361586689949036| 2.214872121810913|1.2987197637557983|  -1.430738091468811|-0.3646581768989563|              0.0| 0.7453126907348633| -0.6783788204193115|  -1.360356330871582|              0.0|0.9466524720191956|1.0287036895751953|0.9986560940742493|0.7282806038856506| 0.8692002296447754|1.0267364978790283|0.9579039812088013|\n",
      "|           1|1.1050089597702026|0.32135555148124695|   1.522401213645935|      0.8828076124191284|  -1.205349326133728|0.6814661026000977| -1.0704638957977295| -0.9218706488609314|               0.0|0.8008721470832825|  1.020974040031433|  0.9714065194129944| 2.214872121810913|0.5967612862586975|-0.35027286410331726| 0.6311942934989929|              0.0| 0.4799988865852356|-0.37356552481651306| 0.11304061114788055|              0.0| 0.755856454372406|1.3610570430755615| 0.986609697341919|0.8380846381187439| 1.1332951784133911|0.8722448945045471|0.8084865212440491|\n",
      "|           0| 1.595839262008667|-0.6078106760978699|0.007074915803968906|        1.81844961643219|-0.11190599203109741|0.8475499153137207| -0.5664370059967041|  1.5812393426895142|2.1730761528015137| 0.755420982837677| 0.6431096196174622|  1.4263668060302734|               0.0|0.9216607809066772| -1.1904324293136597|-1.6155890226364136|              0.0| 0.6511141061782837| -0.6542269587516785| -1.2743449211120605|3.101961374282837|0.8237605690956116|0.9381914138793945|0.9717581868171692| 0.789176344871521|0.43055328726768494|0.9613569378852844|0.9578179121017456|\n",
      "|           1|0.4093913435935974| -1.884683609008789|  -1.027292013168335|      1.6724517345428467| -1.6045982837677002|1.3380149602890015|0.055427443236112595| 0.01346588134765625|2.1730761528015137|0.5097832679748535|   -1.0383380651474|  0.7078623175621033|               0.0|0.7469175457954407| -0.3584651052951813|-1.6466542482376099|              0.0| 0.3670579791069031| 0.06949646025896072|  1.3771302700042725|3.101961374282837|0.8694183826446533|1.2220829725265503|1.0006273984909058|0.5450449585914612| 0.6986525058746338|0.9773144721984863|0.8287860751152039|\n",
      "|           1|0.9338953495025635| 0.6291297078132629|  0.5275348424911499|      0.2380327433347702| -0.9665691256523132|0.5478111505508423|-0.05943922698497772| -1.7068661451339722|2.1730761528015137|0.9410027265548706|-2.6537327766418457| -0.1572199910879135|               0.0|1.0303703546524048|-0.17550510168075562| 0.5230209231376648|2.548224449157715| 1.3735466003417969|   1.291248083114624|  -1.467454433441162|              0.0|0.9018372893333435|  1.08367121219635|0.9796960949897766|0.7833003997802734| 0.8491951823234558|0.8943563103675842|0.7748793959617615|\n",
      "|           1|1.4051437377929688| 0.5366026163101196|  0.6895543336868286|      1.1795673370361328| -0.1100611537694931|3.2024049758911133|  -1.526960015296936| -1.5760334730148315|               0.0| 2.931536912918091| 0.5673424601554871|-0.13003334403038025| 2.214872121810913|1.7871227264404297|  0.8994985818862915| 0.5851513147354126|2.548224449157715| 0.4018652141094208|-0.15120169520378113|  1.1634891033172607|              0.0|1.6670705080032349| 4.039272785186768| 1.175828456878662|1.0453517436981201| 1.5429719686508179|3.5348267555236816|2.7407538890838623|\n",
      "|           1|1.1765655279159546|0.10416050255298615|  1.3970024585723877|      0.4797213077545166|  0.2655133903026581|1.1355630159378052|   1.534830927848816|-0.25329121947288513|               0.0|1.0272465944290161| 0.5343157649040222|  1.1800223588943481|               0.0| 2.405661106109619| 0.08755676448345184|-0.9765340685844421|2.548224449157715| 1.2503825426101685| 0.26854121685028076|    0.53033447265625|              0.0|0.8331748843193054|0.7739681005477905|0.9857499599456787| 1.103696346282959| 0.8491398692131042|0.9371039867401123|0.8123638033866882|\n",
      "+------------+------------------+-------------------+--------------------+------------------------+--------------------+------------------+--------------------+--------------------+------------------+------------------+-------------------+--------------------+------------------+------------------+--------------------+-------------------+-----------------+-------------------+--------------------+--------------------+-----------------+------------------+------------------+------------------+------------------+-------------------+------------------+------------------+\n",
      "only showing top 10 rows\n",
      "\n"
     ]
    }
   ],
   "source": [
    "df_lim.show(10)"
   ]
  },
  {
   "cell_type": "code",
   "execution_count": 69,
   "id": "473eb045-5300-480c-9c92-d4cbe91bb69c",
   "metadata": {
    "id": "473eb045-5300-480c-9c92-d4cbe91bb69c",
    "outputId": "3b28449f-09af-4e74-81db-3fb4c3f3f15d",
    "tags": []
   },
   "outputs": [
    {
     "name": "stdout",
     "output_type": "stream",
     "text": [
      "===========================================\n",
      "   Dropping kineamtic properites columns   \n",
      "===========================================\n",
      "Dropping heart_rate column\n",
      "Assembly\n",
      "Train-test splitting\n",
      "DataFrame[higgs_bosons: int, m_jj: double, m_jjj: double, m_lv: double, m_jlv: double, m_bb: double, m_wbb: double, m_wwbb: double, higgs_bosons_indexes: double]\n",
      "DataFrame[higgs_bosons: int, m_jj: double, m_jjj: double, m_lv: double, m_jlv: double, m_bb: double, m_wbb: double, m_wwbb: double, higgs_bosons_indexes: double]\n",
      "Assembly train\n",
      "Assembly test\n",
      "Train schema: \n",
      "root\n",
      " |-- features: vector (nullable = true)\n",
      " |-- higgs_bosons_indexes: double (nullable = false)\n",
      "\n",
      "Test schema: \n",
      "root\n",
      " |-- features: vector (nullable = true)\n",
      " |-- higgs_bosons_indexes: double (nullable = false)\n",
      "\n"
     ]
    }
   ],
   "source": [
    "train, test = dropping_columns_from_df(df_lim, False, columns_to_drop = kinematic_properties_columns)"
   ]
  },
  {
   "cell_type": "markdown",
   "id": "e08c7aee-c08c-49ad-bbf4-15f5c8a5115d",
   "metadata": {
    "id": "e08c7aee-c08c-49ad-bbf4-15f5c8a5115d"
   },
   "source": [
    "#### Training"
   ]
  },
  {
   "cell_type": "code",
   "execution_count": 70,
   "id": "b44e672e-6e5a-4638-a1f0-46bc507efe62",
   "metadata": {
    "id": "b44e672e-6e5a-4638-a1f0-46bc507efe62",
    "outputId": "628d6c66-2962-4239-d397-4726a6e4a5d8",
    "tags": []
   },
   "outputs": [
    {
     "name": "stdout",
     "output_type": "stream",
     "text": [
      "==============\n",
      "   Training   \n",
      "==============\n",
      "cacheNodeIds: If false, the algorithm will pass trees to executors to match instances with nodes. If true, the algorithm will cache node IDs for each instance. Caching can speed up training of deeper trees. Users can set how often should the cache be checkpointed or disable it by setting checkpointInterval. (default: False)\n",
      "checkpointInterval: set checkpoint interval (>= 1) or disable checkpoint (-1). E.g. 10 means that the cache will get checkpointed every 10 iterations. Note: this setting will be ignored if the checkpoint directory is not set in the SparkContext. (default: 10)\n",
      "featuresCol: features column name. (default: features)\n",
      "impurity: Criterion used for information gain calculation (case-insensitive). Supported options: entropy, gini (default: gini)\n",
      "labelCol: label column name. (default: label, current: higgs_bosons_indexes)\n",
      "leafCol: Leaf indices column name. Predicted leaf index of each instance in each tree by preorder. (default: )\n",
      "maxBins: Max number of bins for discretizing continuous features.  Must be >=2 and >= number of categories for any categorical feature. (default: 32)\n",
      "maxDepth: Maximum depth of the tree. (>= 0) E.g., depth 0 means 1 leaf node; depth 1 means 1 internal node + 2 leaf nodes. Must be in range [0, 30]. (default: 5)\n",
      "maxMemoryInMB: Maximum memory in MB allocated to histogram aggregation. If too small, then 1 node will be split per iteration, and its aggregates may exceed this size. (default: 256)\n",
      "minInfoGain: Minimum information gain for a split to be considered at a tree node. (default: 0.0)\n",
      "minInstancesPerNode: Minimum number of instances each child must have after split. If a split causes the left or right child to have fewer than minInstancesPerNode, the split will be discarded as invalid. Should be >= 1. (default: 1)\n",
      "minWeightFractionPerNode: Minimum fraction of the weighted sample count that each child must have after split. If a split causes the fraction of the total weight in the left or right child to be less than minWeightFractionPerNode, the split will be discarded as invalid. Should be in interval [0.0, 0.5). (default: 0.0)\n",
      "predictionCol: prediction column name. (default: prediction)\n",
      "probabilityCol: Column name for predicted class conditional probabilities. Note: Not all models output well-calibrated probability estimates! These probabilities should be treated as confidences, not precise probabilities. (default: probability)\n",
      "rawPredictionCol: raw prediction (a.k.a. confidence) column name. (default: rawPrediction)\n",
      "seed: random seed. (default: -6108839987537888778, current: 42)\n",
      "thresholds: Thresholds in multi-class classification to adjust the probability of predicting each class. Array must have length equal to the number of classes, with values > 0, excepting that at most one value may be 0. The class with largest value p/t is predicted, where p is the original probability of that class and t is the class's threshold. (undefined)\n",
      "weightCol: weight column name. If this is not set or empty, we treat all instance weights as 1.0. (undefined)\n",
      "DataFrame[higgs_bosons_indexes: double, prediction: double]\n",
      "bootstrap: Whether bootstrap samples are used when building trees. (default: True)\n",
      "cacheNodeIds: If false, the algorithm will pass trees to executors to match instances with nodes. If true, the algorithm will cache node IDs for each instance. Caching can speed up training of deeper trees. Users can set how often should the cache be checkpointed or disable it by setting checkpointInterval. (default: False)\n",
      "checkpointInterval: set checkpoint interval (>= 1) or disable checkpoint (-1). E.g. 10 means that the cache will get checkpointed every 10 iterations. Note: this setting will be ignored if the checkpoint directory is not set in the SparkContext. (default: 10)\n",
      "featureSubsetStrategy: The number of features to consider for splits at each tree node. Supported options: 'auto' (choose automatically for task: If numTrees == 1, set to 'all'. If numTrees > 1 (forest), set to 'sqrt' for classification and to 'onethird' for regression), 'all' (use all features), 'onethird' (use 1/3 of the features), 'sqrt' (use sqrt(number of features)), 'log2' (use log2(number of features)), 'n' (when n is in the range (0, 1.0], use n * number of features. When n is in the range (1, number of features), use n features). default = 'auto' (default: auto)\n",
      "featuresCol: features column name. (default: features)\n",
      "impurity: Criterion used for information gain calculation (case-insensitive). Supported options: entropy, gini (default: gini)\n",
      "labelCol: label column name. (default: label, current: higgs_bosons_indexes)\n",
      "leafCol: Leaf indices column name. Predicted leaf index of each instance in each tree by preorder. (default: )\n",
      "maxBins: Max number of bins for discretizing continuous features.  Must be >=2 and >= number of categories for any categorical feature. (default: 32)\n",
      "maxDepth: Maximum depth of the tree. (>= 0) E.g., depth 0 means 1 leaf node; depth 1 means 1 internal node + 2 leaf nodes. Must be in range [0, 30]. (default: 5)\n",
      "maxMemoryInMB: Maximum memory in MB allocated to histogram aggregation. If too small, then 1 node will be split per iteration, and its aggregates may exceed this size. (default: 256)\n",
      "minInfoGain: Minimum information gain for a split to be considered at a tree node. (default: 0.0)\n",
      "minInstancesPerNode: Minimum number of instances each child must have after split. If a split causes the left or right child to have fewer than minInstancesPerNode, the split will be discarded as invalid. Should be >= 1. (default: 1)\n",
      "minWeightFractionPerNode: Minimum fraction of the weighted sample count that each child must have after split. If a split causes the fraction of the total weight in the left or right child to be less than minWeightFractionPerNode, the split will be discarded as invalid. Should be in interval [0.0, 0.5). (default: 0.0)\n",
      "numTrees: Number of trees to train (>= 1). (default: 20)\n",
      "predictionCol: prediction column name. (default: prediction)\n",
      "probabilityCol: Column name for predicted class conditional probabilities. Note: Not all models output well-calibrated probability estimates! These probabilities should be treated as confidences, not precise probabilities. (default: probability)\n",
      "rawPredictionCol: raw prediction (a.k.a. confidence) column name. (default: rawPrediction)\n",
      "seed: random seed. (default: 7096566530939830944, current: 42)\n",
      "subsamplingRate: Fraction of the training data used for learning each decision tree, in range (0, 1]. (default: 1.0)\n",
      "thresholds: Thresholds in multi-class classification to adjust the probability of predicting each class. Array must have length equal to the number of classes, with values > 0, excepting that at most one value may be 0. The class with largest value p/t is predicted, where p is the original probability of that class and t is the class's threshold. (undefined)\n",
      "weightCol: weight column name. If this is not set or empty, we treat all instance weights as 1.0. (undefined)\n",
      "DataFrame[higgs_bosons_indexes: double, prediction: double]\n",
      "distanceMeasure: the distance measure. Supported options: 'euclidean' and 'cosine'. (default: euclidean)\n",
      "featuresCol: features column name. (default: features)\n",
      "initMode: The initialization algorithm. This can be either \"random\" to choose random points as initial cluster centers, or \"k-means||\" to use a parallel variant of k-means++ (default: k-means||)\n",
      "initSteps: The number of steps for k-means|| initialization mode. Must be > 0. (default: 2)\n",
      "k: The number of clusters to create. Must be > 1. (default: 2, current: 2)\n",
      "maxIter: max number of iterations (>= 0). (default: 20)\n",
      "predictionCol: prediction column name. (default: prediction)\n",
      "seed: random seed. (default: -5132860448238640954, current: 42)\n",
      "tol: the convergence tolerance for iterative algorithms (>= 0). (default: 0.0001)\n",
      "weightCol: weight column name. If this is not set or empty, we treat all instance weights as 1.0. (undefined)\n",
      "DataFrame[higgs_bosons_indexes: double, prediction: double]\n",
      "===================\n",
      "   Train results   \n",
      "===================\n",
      "{DecisionTreeClassifier_389ab6d3927b: {'cls': DecisionTreeClassificationModel: uid=DecisionTreeClassifier_389ab6d3927b, depth=1, numNodes=3, numClasses=2, numFeatures=9, 'train_result': DataFrame[higgs_bosons_indexes: double, prediction: double], 'accuracy': 1.0, 'f1': 1.0}, RandomForestClassifier_128494c57554: {'cls': RandomForestClassificationModel: uid=RandomForestClassifier_128494c57554, numTrees=20, numClasses=2, numFeatures=9, 'train_result': DataFrame[higgs_bosons_indexes: double, prediction: double], 'accuracy': 1.0, 'f1': 1.0}, KMeans_30ec483ecf2d: {'cls': KMeansModel: uid=KMeans_30ec483ecf2d, k=2, distanceMeasure=euclidean, numFeatures=9, 'train_result': DataFrame[higgs_bosons_indexes: double, prediction: double], 'accuracy': 0.9999714044694814, 'f1': 0.9999714045136509}}\n"
     ]
    }
   ],
   "source": [
    "train_results = training(train, label = \"higgs_bosons_indexes\")"
   ]
  },
  {
   "cell_type": "markdown",
   "id": "50f69aa1-70ac-46d7-9d92-d921171cf97e",
   "metadata": {
    "id": "50f69aa1-70ac-46d7-9d92-d921171cf97e"
   },
   "source": [
    "#### Testing"
   ]
  },
  {
   "cell_type": "code",
   "execution_count": 71,
   "id": "1d4a9e06-e0b6-4429-98ed-ccce1e4ddacf",
   "metadata": {
    "id": "1d4a9e06-e0b6-4429-98ed-ccce1e4ddacf",
    "outputId": "64ac0f27-068d-4520-fa3c-f9a5a6d182fe",
    "tags": []
   },
   "outputs": [
    {
     "name": "stdout",
     "output_type": "stream",
     "text": [
      "=============\n",
      "   Testing   \n",
      "=============\n",
      "{'cls': DecisionTreeClassificationModel: uid=DecisionTreeClassifier_389ab6d3927b, depth=1, numNodes=3, numClasses=2, numFeatures=9, 'train_result': DataFrame[higgs_bosons_indexes: double, prediction: double], 'accuracy': 1.0, 'f1': 1.0}\n",
      "<class 'dict'>\n",
      "Classifier:  DecisionTreeClassifier_389ab6d3927b\n"
     ]
    },
    {
     "name": "stdout",
     "output_type": "stream",
     "text": [
      "+--------------------+----------+\n",
      "|higgs_bosons_indexes|prediction|\n",
      "+--------------------+----------+\n",
      "|                 1.0|       1.0|\n",
      "|                 1.0|       1.0|\n",
      "|                 1.0|       1.0|\n",
      "|                 1.0|       1.0|\n",
      "|                 1.0|       1.0|\n",
      "|                 1.0|       1.0|\n",
      "|                 1.0|       1.0|\n",
      "|                 1.0|       1.0|\n",
      "|                 1.0|       1.0|\n",
      "|                 1.0|       1.0|\n",
      "|                 1.0|       1.0|\n",
      "|                 1.0|       1.0|\n",
      "|                 1.0|       1.0|\n",
      "|                 1.0|       1.0|\n",
      "|                 1.0|       1.0|\n",
      "|                 1.0|       1.0|\n",
      "|                 1.0|       1.0|\n",
      "|                 1.0|       1.0|\n",
      "|                 1.0|       1.0|\n",
      "|                 1.0|       1.0|\n",
      "+--------------------+----------+\n",
      "only showing top 20 rows\n",
      "\n",
      "{'cls': RandomForestClassificationModel: uid=RandomForestClassifier_128494c57554, numTrees=20, numClasses=2, numFeatures=9, 'train_result': DataFrame[higgs_bosons_indexes: double, prediction: double], 'accuracy': 1.0, 'f1': 1.0}\n",
      "<class 'dict'>\n",
      "Classifier:  RandomForestClassifier_128494c57554\n",
      "+--------------------+----------+\n",
      "|higgs_bosons_indexes|prediction|\n",
      "+--------------------+----------+\n",
      "|                 1.0|       1.0|\n",
      "|                 1.0|       1.0|\n",
      "|                 1.0|       1.0|\n",
      "|                 1.0|       1.0|\n",
      "|                 1.0|       1.0|\n",
      "|                 1.0|       1.0|\n",
      "|                 1.0|       1.0|\n",
      "|                 1.0|       1.0|\n",
      "|                 1.0|       1.0|\n",
      "|                 1.0|       1.0|\n",
      "|                 1.0|       1.0|\n",
      "|                 1.0|       1.0|\n",
      "|                 1.0|       1.0|\n",
      "|                 1.0|       1.0|\n",
      "|                 1.0|       1.0|\n",
      "|                 1.0|       1.0|\n",
      "|                 1.0|       1.0|\n",
      "|                 1.0|       1.0|\n",
      "|                 1.0|       1.0|\n",
      "|                 1.0|       1.0|\n",
      "+--------------------+----------+\n",
      "only showing top 20 rows\n",
      "\n",
      "{'cls': KMeansModel: uid=KMeans_30ec483ecf2d, k=2, distanceMeasure=euclidean, numFeatures=9, 'train_result': DataFrame[higgs_bosons_indexes: double, prediction: double], 'accuracy': 0.9999714044694814, 'f1': 0.9999714045136509}\n",
      "<class 'dict'>\n",
      "Classifier:  KMeans_30ec483ecf2d\n",
      "+--------------------+----------+\n",
      "|higgs_bosons_indexes|prediction|\n",
      "+--------------------+----------+\n",
      "|                 1.0|       1.0|\n",
      "|                 1.0|       1.0|\n",
      "|                 1.0|       1.0|\n",
      "|                 1.0|       1.0|\n",
      "|                 1.0|       1.0|\n",
      "|                 1.0|       1.0|\n",
      "|                 1.0|       1.0|\n",
      "|                 1.0|       1.0|\n",
      "|                 1.0|       1.0|\n",
      "|                 1.0|       1.0|\n",
      "|                 1.0|       1.0|\n",
      "|                 1.0|       1.0|\n",
      "|                 1.0|       1.0|\n",
      "|                 1.0|       1.0|\n",
      "|                 1.0|       1.0|\n",
      "|                 1.0|       1.0|\n",
      "|                 1.0|       1.0|\n",
      "|                 1.0|       1.0|\n",
      "|                 1.0|       1.0|\n",
      "|                 1.0|       1.0|\n",
      "+--------------------+----------+\n",
      "only showing top 20 rows\n",
      "\n",
      "==================\n",
      "   Test results   \n",
      "==================\n",
      "{DecisionTreeClassifier_389ab6d3927b: {'cls': DecisionTreeClassificationModel: uid=DecisionTreeClassifier_389ab6d3927b, depth=1, numNodes=3, numClasses=2, numFeatures=9, 'test_result': DataFrame[higgs_bosons_indexes: double, prediction: double], 'accuracy': 1.0, 'f1': 1.0}, RandomForestClassifier_128494c57554: {'cls': RandomForestClassificationModel: uid=RandomForestClassifier_128494c57554, numTrees=20, numClasses=2, numFeatures=9, 'test_result': DataFrame[higgs_bosons_indexes: double, prediction: double], 'accuracy': 1.0, 'f1': 1.0}, KMeans_30ec483ecf2d: {'cls': KMeansModel: uid=KMeans_30ec483ecf2d, k=2, distanceMeasure=euclidean, numFeatures=9, 'test_result': DataFrame[higgs_bosons_indexes: double, prediction: double], 'accuracy': 1.0, 'f1': 1.0}}\n"
     ]
    }
   ],
   "source": [
    "testing(test, train_results, label = \"higgs_bosons_indexes\")"
   ]
  },
  {
   "cell_type": "markdown",
   "id": "570bb6da-cdef-4622-a226-893ca5b971b2",
   "metadata": {
    "id": "570bb6da-cdef-4622-a226-893ca5b971b2"
   },
   "source": [
    "### Normalised"
   ]
  },
  {
   "cell_type": "code",
   "execution_count": 72,
   "id": "1de0b8e3-00aa-466c-8070-19bc5f0913af",
   "metadata": {
    "id": "1de0b8e3-00aa-466c-8070-19bc5f0913af",
    "outputId": "ce4c3ee3-9b05-4bbf-d206-8902b2436b79",
    "tags": []
   },
   "outputs": [
    {
     "name": "stdout",
     "output_type": "stream",
     "text": [
      "===========================================\n",
      "   Dropping kineamtic properites columns   \n",
      "===========================================\n",
      "Dropping heart_rate column\n"
     ]
    },
    {
     "name": "stdout",
     "output_type": "stream",
     "text": [
      "Fit-transform normalise\n",
      "Fit-transform\n",
      "Train-test split\n",
      "Normalise train\n",
      "Normalise test\n",
      "Train schema: \n",
      "root\n",
      " |-- higgs_bosons: integer (nullable = true)\n",
      " |-- m_jj: double (nullable = true)\n",
      " |-- m_jjj: double (nullable = true)\n",
      " |-- m_lv: double (nullable = true)\n",
      " |-- m_jlv: double (nullable = true)\n",
      " |-- m_bb: double (nullable = true)\n",
      " |-- m_wbb: double (nullable = true)\n",
      " |-- m_wwbb: double (nullable = true)\n",
      " |-- higgs_bosons_indexes: double (nullable = false)\n",
      " |-- label: double (nullable = false)\n",
      " |-- features: vector (nullable = true)\n",
      "\n",
      "Test schema: \n",
      "root\n",
      " |-- higgs_bosons: integer (nullable = true)\n",
      " |-- m_jj: double (nullable = true)\n",
      " |-- m_jjj: double (nullable = true)\n",
      " |-- m_lv: double (nullable = true)\n",
      " |-- m_jlv: double (nullable = true)\n",
      " |-- m_bb: double (nullable = true)\n",
      " |-- m_wbb: double (nullable = true)\n",
      " |-- m_wwbb: double (nullable = true)\n",
      " |-- higgs_bosons_indexes: double (nullable = false)\n",
      " |-- label: double (nullable = false)\n",
      " |-- features: vector (nullable = true)\n",
      "\n"
     ]
    }
   ],
   "source": [
    "train, test = dropping_columns_from_df(df_lim, True, columns_to_drop = kinematic_properties_columns)"
   ]
  },
  {
   "cell_type": "markdown",
   "id": "06ee9a8a-9187-48ea-8076-6ca246a214a5",
   "metadata": {
    "id": "06ee9a8a-9187-48ea-8076-6ca246a214a5"
   },
   "source": [
    "#### Training"
   ]
  },
  {
   "cell_type": "code",
   "execution_count": 73,
   "id": "1ee25e79-7655-4fa5-8dbc-90107e9e7da1",
   "metadata": {
    "id": "1ee25e79-7655-4fa5-8dbc-90107e9e7da1",
    "outputId": "48c904ec-ee5e-47ec-f03b-e71b5025b197",
    "tags": []
   },
   "outputs": [
    {
     "name": "stdout",
     "output_type": "stream",
     "text": [
      "==============\n",
      "   Training   \n",
      "==============\n",
      "cacheNodeIds: If false, the algorithm will pass trees to executors to match instances with nodes. If true, the algorithm will cache node IDs for each instance. Caching can speed up training of deeper trees. Users can set how often should the cache be checkpointed or disable it by setting checkpointInterval. (default: False)\n",
      "checkpointInterval: set checkpoint interval (>= 1) or disable checkpoint (-1). E.g. 10 means that the cache will get checkpointed every 10 iterations. Note: this setting will be ignored if the checkpoint directory is not set in the SparkContext. (default: 10)\n",
      "featuresCol: features column name. (default: features)\n",
      "impurity: Criterion used for information gain calculation (case-insensitive). Supported options: entropy, gini (default: gini)\n",
      "labelCol: label column name. (default: label, current: higgs_bosons_indexes)\n",
      "leafCol: Leaf indices column name. Predicted leaf index of each instance in each tree by preorder. (default: )\n",
      "maxBins: Max number of bins for discretizing continuous features.  Must be >=2 and >= number of categories for any categorical feature. (default: 32)\n",
      "maxDepth: Maximum depth of the tree. (>= 0) E.g., depth 0 means 1 leaf node; depth 1 means 1 internal node + 2 leaf nodes. Must be in range [0, 30]. (default: 5)\n",
      "maxMemoryInMB: Maximum memory in MB allocated to histogram aggregation. If too small, then 1 node will be split per iteration, and its aggregates may exceed this size. (default: 256)\n",
      "minInfoGain: Minimum information gain for a split to be considered at a tree node. (default: 0.0)\n",
      "minInstancesPerNode: Minimum number of instances each child must have after split. If a split causes the left or right child to have fewer than minInstancesPerNode, the split will be discarded as invalid. Should be >= 1. (default: 1)\n",
      "minWeightFractionPerNode: Minimum fraction of the weighted sample count that each child must have after split. If a split causes the fraction of the total weight in the left or right child to be less than minWeightFractionPerNode, the split will be discarded as invalid. Should be in interval [0.0, 0.5). (default: 0.0)\n",
      "predictionCol: prediction column name. (default: prediction)\n",
      "probabilityCol: Column name for predicted class conditional probabilities. Note: Not all models output well-calibrated probability estimates! These probabilities should be treated as confidences, not precise probabilities. (default: probability)\n",
      "rawPredictionCol: raw prediction (a.k.a. confidence) column name. (default: rawPrediction)\n",
      "seed: random seed. (default: -6108839987537888778, current: 42)\n",
      "thresholds: Thresholds in multi-class classification to adjust the probability of predicting each class. Array must have length equal to the number of classes, with values > 0, excepting that at most one value may be 0. The class with largest value p/t is predicted, where p is the original probability of that class and t is the class's threshold. (undefined)\n",
      "weightCol: weight column name. If this is not set or empty, we treat all instance weights as 1.0. (undefined)\n",
      "DataFrame[higgs_bosons_indexes: double, prediction: double]\n",
      "bootstrap: Whether bootstrap samples are used when building trees. (default: True)\n",
      "cacheNodeIds: If false, the algorithm will pass trees to executors to match instances with nodes. If true, the algorithm will cache node IDs for each instance. Caching can speed up training of deeper trees. Users can set how often should the cache be checkpointed or disable it by setting checkpointInterval. (default: False)\n",
      "checkpointInterval: set checkpoint interval (>= 1) or disable checkpoint (-1). E.g. 10 means that the cache will get checkpointed every 10 iterations. Note: this setting will be ignored if the checkpoint directory is not set in the SparkContext. (default: 10)\n",
      "featureSubsetStrategy: The number of features to consider for splits at each tree node. Supported options: 'auto' (choose automatically for task: If numTrees == 1, set to 'all'. If numTrees > 1 (forest), set to 'sqrt' for classification and to 'onethird' for regression), 'all' (use all features), 'onethird' (use 1/3 of the features), 'sqrt' (use sqrt(number of features)), 'log2' (use log2(number of features)), 'n' (when n is in the range (0, 1.0], use n * number of features. When n is in the range (1, number of features), use n features). default = 'auto' (default: auto)\n",
      "featuresCol: features column name. (default: features)\n",
      "impurity: Criterion used for information gain calculation (case-insensitive). Supported options: entropy, gini (default: gini)\n",
      "labelCol: label column name. (default: label, current: higgs_bosons_indexes)\n",
      "leafCol: Leaf indices column name. Predicted leaf index of each instance in each tree by preorder. (default: )\n",
      "maxBins: Max number of bins for discretizing continuous features.  Must be >=2 and >= number of categories for any categorical feature. (default: 32)\n",
      "maxDepth: Maximum depth of the tree. (>= 0) E.g., depth 0 means 1 leaf node; depth 1 means 1 internal node + 2 leaf nodes. Must be in range [0, 30]. (default: 5)\n",
      "maxMemoryInMB: Maximum memory in MB allocated to histogram aggregation. If too small, then 1 node will be split per iteration, and its aggregates may exceed this size. (default: 256)\n",
      "minInfoGain: Minimum information gain for a split to be considered at a tree node. (default: 0.0)\n",
      "minInstancesPerNode: Minimum number of instances each child must have after split. If a split causes the left or right child to have fewer than minInstancesPerNode, the split will be discarded as invalid. Should be >= 1. (default: 1)\n",
      "minWeightFractionPerNode: Minimum fraction of the weighted sample count that each child must have after split. If a split causes the fraction of the total weight in the left or right child to be less than minWeightFractionPerNode, the split will be discarded as invalid. Should be in interval [0.0, 0.5). (default: 0.0)\n",
      "numTrees: Number of trees to train (>= 1). (default: 20)\n",
      "predictionCol: prediction column name. (default: prediction)\n",
      "probabilityCol: Column name for predicted class conditional probabilities. Note: Not all models output well-calibrated probability estimates! These probabilities should be treated as confidences, not precise probabilities. (default: probability)\n",
      "rawPredictionCol: raw prediction (a.k.a. confidence) column name. (default: rawPrediction)\n",
      "seed: random seed. (default: 7096566530939830944, current: 42)\n",
      "subsamplingRate: Fraction of the training data used for learning each decision tree, in range (0, 1]. (default: 1.0)\n",
      "thresholds: Thresholds in multi-class classification to adjust the probability of predicting each class. Array must have length equal to the number of classes, with values > 0, excepting that at most one value may be 0. The class with largest value p/t is predicted, where p is the original probability of that class and t is the class's threshold. (undefined)\n",
      "weightCol: weight column name. If this is not set or empty, we treat all instance weights as 1.0. (undefined)\n",
      "DataFrame[higgs_bosons_indexes: double, prediction: double]\n",
      "distanceMeasure: the distance measure. Supported options: 'euclidean' and 'cosine'. (default: euclidean)\n",
      "featuresCol: features column name. (default: features)\n",
      "initMode: The initialization algorithm. This can be either \"random\" to choose random points as initial cluster centers, or \"k-means||\" to use a parallel variant of k-means++ (default: k-means||)\n",
      "initSteps: The number of steps for k-means|| initialization mode. Must be > 0. (default: 2)\n",
      "k: The number of clusters to create. Must be > 1. (default: 2, current: 2)\n",
      "maxIter: max number of iterations (>= 0). (default: 20)\n",
      "predictionCol: prediction column name. (default: prediction)\n",
      "seed: random seed. (default: -5132860448238640954, current: 42)\n",
      "tol: the convergence tolerance for iterative algorithms (>= 0). (default: 0.0001)\n",
      "weightCol: weight column name. If this is not set or empty, we treat all instance weights as 1.0. (undefined)\n",
      "DataFrame[higgs_bosons_indexes: double, prediction: double]\n",
      "===================\n",
      "   Train results   \n",
      "===================\n",
      "{DecisionTreeClassifier_966e04503f88: {'cls': DecisionTreeClassificationModel: uid=DecisionTreeClassifier_966e04503f88, depth=1, numNodes=3, numClasses=2, numFeatures=8, 'train_result': DataFrame[higgs_bosons_indexes: double, prediction: double], 'accuracy': 1.0, 'f1': 1.0}, RandomForestClassifier_13cca2b1155d: {'cls': RandomForestClassificationModel: uid=RandomForestClassifier_13cca2b1155d, numTrees=20, numClasses=2, numFeatures=8, 'train_result': DataFrame[higgs_bosons_indexes: double, prediction: double], 'accuracy': 1.0, 'f1': 1.0}, KMeans_193290704192: {'cls': KMeansModel: uid=KMeans_193290704192, k=2, distanceMeasure=euclidean, numFeatures=8, 'train_result': DataFrame[higgs_bosons_indexes: double, prediction: double], 'accuracy': 0.5580703736006062, 'f1': 0.49762969020033043}}\n"
     ]
    }
   ],
   "source": [
    "train_results = training(train, label = \"higgs_bosons_indexes\")"
   ]
  },
  {
   "cell_type": "markdown",
   "id": "1488a3ca-4ea3-4057-b20f-3ab275bf3297",
   "metadata": {
    "id": "1488a3ca-4ea3-4057-b20f-3ab275bf3297"
   },
   "source": [
    "#### Testing"
   ]
  },
  {
   "cell_type": "code",
   "execution_count": 74,
   "id": "ba33a21d-d2aa-4c4c-b36e-81a28f51178e",
   "metadata": {
    "id": "ba33a21d-d2aa-4c4c-b36e-81a28f51178e",
    "outputId": "f5c3ff9e-0b66-47b2-9a94-87abc8aa7c26",
    "tags": []
   },
   "outputs": [
    {
     "name": "stdout",
     "output_type": "stream",
     "text": [
      "=============\n",
      "   Testing   \n",
      "=============\n",
      "{'cls': DecisionTreeClassificationModel: uid=DecisionTreeClassifier_966e04503f88, depth=1, numNodes=3, numClasses=2, numFeatures=8, 'train_result': DataFrame[higgs_bosons_indexes: double, prediction: double], 'accuracy': 1.0, 'f1': 1.0}\n",
      "<class 'dict'>\n",
      "Classifier:  DecisionTreeClassifier_966e04503f88\n"
     ]
    },
    {
     "name": "stdout",
     "output_type": "stream",
     "text": [
      "+--------------------+----------+\n",
      "|higgs_bosons_indexes|prediction|\n",
      "+--------------------+----------+\n",
      "|                 1.0|       1.0|\n",
      "|                 1.0|       1.0|\n",
      "|                 1.0|       1.0|\n",
      "|                 1.0|       1.0|\n",
      "|                 1.0|       1.0|\n",
      "|                 1.0|       1.0|\n",
      "|                 1.0|       1.0|\n",
      "|                 1.0|       1.0|\n",
      "|                 1.0|       1.0|\n",
      "|                 1.0|       1.0|\n",
      "|                 1.0|       1.0|\n",
      "|                 1.0|       1.0|\n",
      "|                 1.0|       1.0|\n",
      "|                 1.0|       1.0|\n",
      "|                 1.0|       1.0|\n",
      "|                 1.0|       1.0|\n",
      "|                 1.0|       1.0|\n",
      "|                 1.0|       1.0|\n",
      "|                 1.0|       1.0|\n",
      "|                 1.0|       1.0|\n",
      "+--------------------+----------+\n",
      "only showing top 20 rows\n",
      "\n",
      "{'cls': RandomForestClassificationModel: uid=RandomForestClassifier_13cca2b1155d, numTrees=20, numClasses=2, numFeatures=8, 'train_result': DataFrame[higgs_bosons_indexes: double, prediction: double], 'accuracy': 1.0, 'f1': 1.0}\n",
      "<class 'dict'>\n",
      "Classifier:  RandomForestClassifier_13cca2b1155d\n",
      "+--------------------+----------+\n",
      "|higgs_bosons_indexes|prediction|\n",
      "+--------------------+----------+\n",
      "|                 1.0|       1.0|\n",
      "|                 1.0|       1.0|\n",
      "|                 1.0|       1.0|\n",
      "|                 1.0|       1.0|\n",
      "|                 1.0|       1.0|\n",
      "|                 1.0|       1.0|\n",
      "|                 1.0|       1.0|\n",
      "|                 1.0|       1.0|\n",
      "|                 1.0|       1.0|\n",
      "|                 1.0|       1.0|\n",
      "|                 1.0|       1.0|\n",
      "|                 1.0|       1.0|\n",
      "|                 1.0|       1.0|\n",
      "|                 1.0|       1.0|\n",
      "|                 1.0|       1.0|\n",
      "|                 1.0|       1.0|\n",
      "|                 1.0|       1.0|\n",
      "|                 1.0|       1.0|\n",
      "|                 1.0|       1.0|\n",
      "|                 1.0|       1.0|\n",
      "+--------------------+----------+\n",
      "only showing top 20 rows\n",
      "\n",
      "{'cls': KMeansModel: uid=KMeans_193290704192, k=2, distanceMeasure=euclidean, numFeatures=8, 'train_result': DataFrame[higgs_bosons_indexes: double, prediction: double], 'accuracy': 0.5580703736006062, 'f1': 0.49762969020033043}\n",
      "<class 'dict'>\n",
      "Classifier:  KMeans_193290704192\n",
      "+--------------------+----------+\n",
      "|higgs_bosons_indexes|prediction|\n",
      "+--------------------+----------+\n",
      "|                 1.0|       0.0|\n",
      "|                 1.0|       0.0|\n",
      "|                 1.0|       0.0|\n",
      "|                 1.0|       0.0|\n",
      "|                 1.0|       0.0|\n",
      "|                 1.0|       1.0|\n",
      "|                 1.0|       0.0|\n",
      "|                 1.0|       0.0|\n",
      "|                 1.0|       0.0|\n",
      "|                 1.0|       0.0|\n",
      "|                 1.0|       0.0|\n",
      "|                 1.0|       0.0|\n",
      "|                 1.0|       0.0|\n",
      "|                 1.0|       0.0|\n",
      "|                 1.0|       0.0|\n",
      "|                 1.0|       1.0|\n",
      "|                 1.0|       0.0|\n",
      "|                 1.0|       0.0|\n",
      "|                 1.0|       0.0|\n",
      "|                 1.0|       1.0|\n",
      "+--------------------+----------+\n",
      "only showing top 20 rows\n",
      "\n",
      "==================\n",
      "   Test results   \n",
      "==================\n",
      "{DecisionTreeClassifier_966e04503f88: {'cls': DecisionTreeClassificationModel: uid=DecisionTreeClassifier_966e04503f88, depth=1, numNodes=3, numClasses=2, numFeatures=8, 'test_result': DataFrame[higgs_bosons_indexes: double, prediction: double], 'accuracy': 1.0, 'f1': 1.0}, RandomForestClassifier_13cca2b1155d: {'cls': RandomForestClassificationModel: uid=RandomForestClassifier_13cca2b1155d, numTrees=20, numClasses=2, numFeatures=8, 'test_result': DataFrame[higgs_bosons_indexes: double, prediction: double], 'accuracy': 1.0, 'f1': 1.0}, KMeans_193290704192: {'cls': KMeansModel: uid=KMeans_193290704192, k=2, distanceMeasure=euclidean, numFeatures=8, 'test_result': DataFrame[higgs_bosons_indexes: double, prediction: double], 'accuracy': 0.5595994544063342, 'f1': 0.4990148861001197}}\n"
     ]
    }
   ],
   "source": [
    "testing(test, train_results, label = \"higgs_bosons_indexes\")"
   ]
  },
  {
   "cell_type": "markdown",
   "id": "8864f7a0",
   "metadata": {},
   "source": [
    "## Dropping functions columns"
   ]
  },
  {
   "cell_type": "markdown",
   "id": "5394a7ef",
   "metadata": {},
   "source": [
    "### Non-normalised"
   ]
  },
  {
   "cell_type": "code",
   "execution_count": 75,
   "id": "13f6b525",
   "metadata": {},
   "outputs": [
    {
     "name": "stdout",
     "output_type": "stream",
     "text": [
      "===========================================\n",
      "   Dropping kineamtic properites columns   \n",
      "===========================================\n",
      "Dropping heart_rate column\n",
      "Assembly\n",
      "Train-test splitting\n",
      "DataFrame[higgs_bosons: int, lepton_pT: double, lepton_eta: double, lepton_phi: double, missing_energy_magnitude: double, missing_energy_phi: double, jet_1_pt: double, jet_1_eta: double, jet_1_phi: double, jet_1_b-tag: double, jet_2_pt: double, jet_2_eta: double, jet_2_phi: double, jet_2_b-tag: double, jet_3_pt: double, jet_3_eta: double, jet_3_phi: double, jet_3_b-tag: double, jet_4_pt: double, jet_4_eta: double, jet_4_phi: double, jet_4_b-tag: double, higgs_bosons_indexes: double]\n",
      "DataFrame[higgs_bosons: int, lepton_pT: double, lepton_eta: double, lepton_phi: double, missing_energy_magnitude: double, missing_energy_phi: double, jet_1_pt: double, jet_1_eta: double, jet_1_phi: double, jet_1_b-tag: double, jet_2_pt: double, jet_2_eta: double, jet_2_phi: double, jet_2_b-tag: double, jet_3_pt: double, jet_3_eta: double, jet_3_phi: double, jet_3_b-tag: double, jet_4_pt: double, jet_4_eta: double, jet_4_phi: double, jet_4_b-tag: double, higgs_bosons_indexes: double]\n",
      "Assembly train\n",
      "Assembly test\n",
      "Train schema: \n",
      "root\n",
      " |-- features: vector (nullable = true)\n",
      " |-- higgs_bosons_indexes: double (nullable = false)\n",
      "\n",
      "Test schema: \n",
      "root\n",
      " |-- features: vector (nullable = true)\n",
      " |-- higgs_bosons_indexes: double (nullable = false)\n",
      "\n"
     ]
    }
   ],
   "source": [
    "train, test = dropping_columns_from_df(df_lim, False, columns_to_drop = functions_columns)"
   ]
  },
  {
   "cell_type": "markdown",
   "id": "a9bf3434",
   "metadata": {},
   "source": [
    "#### Training"
   ]
  },
  {
   "cell_type": "code",
   "execution_count": 76,
   "id": "7e715ca6",
   "metadata": {},
   "outputs": [
    {
     "name": "stdout",
     "output_type": "stream",
     "text": [
      "==============\n",
      "   Training   \n",
      "==============\n",
      "cacheNodeIds: If false, the algorithm will pass trees to executors to match instances with nodes. If true, the algorithm will cache node IDs for each instance. Caching can speed up training of deeper trees. Users can set how often should the cache be checkpointed or disable it by setting checkpointInterval. (default: False)\n",
      "checkpointInterval: set checkpoint interval (>= 1) or disable checkpoint (-1). E.g. 10 means that the cache will get checkpointed every 10 iterations. Note: this setting will be ignored if the checkpoint directory is not set in the SparkContext. (default: 10)\n",
      "featuresCol: features column name. (default: features)\n",
      "impurity: Criterion used for information gain calculation (case-insensitive). Supported options: entropy, gini (default: gini)\n",
      "labelCol: label column name. (default: label, current: higgs_bosons_indexes)\n",
      "leafCol: Leaf indices column name. Predicted leaf index of each instance in each tree by preorder. (default: )\n",
      "maxBins: Max number of bins for discretizing continuous features.  Must be >=2 and >= number of categories for any categorical feature. (default: 32)\n",
      "maxDepth: Maximum depth of the tree. (>= 0) E.g., depth 0 means 1 leaf node; depth 1 means 1 internal node + 2 leaf nodes. Must be in range [0, 30]. (default: 5)\n",
      "maxMemoryInMB: Maximum memory in MB allocated to histogram aggregation. If too small, then 1 node will be split per iteration, and its aggregates may exceed this size. (default: 256)\n",
      "minInfoGain: Minimum information gain for a split to be considered at a tree node. (default: 0.0)\n",
      "minInstancesPerNode: Minimum number of instances each child must have after split. If a split causes the left or right child to have fewer than minInstancesPerNode, the split will be discarded as invalid. Should be >= 1. (default: 1)\n",
      "minWeightFractionPerNode: Minimum fraction of the weighted sample count that each child must have after split. If a split causes the fraction of the total weight in the left or right child to be less than minWeightFractionPerNode, the split will be discarded as invalid. Should be in interval [0.0, 0.5). (default: 0.0)\n",
      "predictionCol: prediction column name. (default: prediction)\n",
      "probabilityCol: Column name for predicted class conditional probabilities. Note: Not all models output well-calibrated probability estimates! These probabilities should be treated as confidences, not precise probabilities. (default: probability)\n",
      "rawPredictionCol: raw prediction (a.k.a. confidence) column name. (default: rawPrediction)\n",
      "seed: random seed. (default: -6108839987537888778, current: 42)\n",
      "thresholds: Thresholds in multi-class classification to adjust the probability of predicting each class. Array must have length equal to the number of classes, with values > 0, excepting that at most one value may be 0. The class with largest value p/t is predicted, where p is the original probability of that class and t is the class's threshold. (undefined)\n",
      "weightCol: weight column name. If this is not set or empty, we treat all instance weights as 1.0. (undefined)\n",
      "DataFrame[higgs_bosons_indexes: double, prediction: double]\n",
      "bootstrap: Whether bootstrap samples are used when building trees. (default: True)\n",
      "cacheNodeIds: If false, the algorithm will pass trees to executors to match instances with nodes. If true, the algorithm will cache node IDs for each instance. Caching can speed up training of deeper trees. Users can set how often should the cache be checkpointed or disable it by setting checkpointInterval. (default: False)\n",
      "checkpointInterval: set checkpoint interval (>= 1) or disable checkpoint (-1). E.g. 10 means that the cache will get checkpointed every 10 iterations. Note: this setting will be ignored if the checkpoint directory is not set in the SparkContext. (default: 10)\n",
      "featureSubsetStrategy: The number of features to consider for splits at each tree node. Supported options: 'auto' (choose automatically for task: If numTrees == 1, set to 'all'. If numTrees > 1 (forest), set to 'sqrt' for classification and to 'onethird' for regression), 'all' (use all features), 'onethird' (use 1/3 of the features), 'sqrt' (use sqrt(number of features)), 'log2' (use log2(number of features)), 'n' (when n is in the range (0, 1.0], use n * number of features. When n is in the range (1, number of features), use n features). default = 'auto' (default: auto)\n",
      "featuresCol: features column name. (default: features)\n",
      "impurity: Criterion used for information gain calculation (case-insensitive). Supported options: entropy, gini (default: gini)\n",
      "labelCol: label column name. (default: label, current: higgs_bosons_indexes)\n",
      "leafCol: Leaf indices column name. Predicted leaf index of each instance in each tree by preorder. (default: )\n",
      "maxBins: Max number of bins for discretizing continuous features.  Must be >=2 and >= number of categories for any categorical feature. (default: 32)\n",
      "maxDepth: Maximum depth of the tree. (>= 0) E.g., depth 0 means 1 leaf node; depth 1 means 1 internal node + 2 leaf nodes. Must be in range [0, 30]. (default: 5)\n",
      "maxMemoryInMB: Maximum memory in MB allocated to histogram aggregation. If too small, then 1 node will be split per iteration, and its aggregates may exceed this size. (default: 256)\n",
      "minInfoGain: Minimum information gain for a split to be considered at a tree node. (default: 0.0)\n",
      "minInstancesPerNode: Minimum number of instances each child must have after split. If a split causes the left or right child to have fewer than minInstancesPerNode, the split will be discarded as invalid. Should be >= 1. (default: 1)\n",
      "minWeightFractionPerNode: Minimum fraction of the weighted sample count that each child must have after split. If a split causes the fraction of the total weight in the left or right child to be less than minWeightFractionPerNode, the split will be discarded as invalid. Should be in interval [0.0, 0.5). (default: 0.0)\n",
      "numTrees: Number of trees to train (>= 1). (default: 20)\n",
      "predictionCol: prediction column name. (default: prediction)\n",
      "probabilityCol: Column name for predicted class conditional probabilities. Note: Not all models output well-calibrated probability estimates! These probabilities should be treated as confidences, not precise probabilities. (default: probability)\n",
      "rawPredictionCol: raw prediction (a.k.a. confidence) column name. (default: rawPrediction)\n",
      "seed: random seed. (default: 7096566530939830944, current: 42)\n",
      "subsamplingRate: Fraction of the training data used for learning each decision tree, in range (0, 1]. (default: 1.0)\n",
      "thresholds: Thresholds in multi-class classification to adjust the probability of predicting each class. Array must have length equal to the number of classes, with values > 0, excepting that at most one value may be 0. The class with largest value p/t is predicted, where p is the original probability of that class and t is the class's threshold. (undefined)\n",
      "weightCol: weight column name. If this is not set or empty, we treat all instance weights as 1.0. (undefined)\n",
      "DataFrame[higgs_bosons_indexes: double, prediction: double]\n",
      "distanceMeasure: the distance measure. Supported options: 'euclidean' and 'cosine'. (default: euclidean)\n",
      "featuresCol: features column name. (default: features)\n",
      "initMode: The initialization algorithm. This can be either \"random\" to choose random points as initial cluster centers, or \"k-means||\" to use a parallel variant of k-means++ (default: k-means||)\n",
      "initSteps: The number of steps for k-means|| initialization mode. Must be > 0. (default: 2)\n",
      "k: The number of clusters to create. Must be > 1. (default: 2, current: 2)\n",
      "maxIter: max number of iterations (>= 0). (default: 20)\n",
      "predictionCol: prediction column name. (default: prediction)\n",
      "seed: random seed. (default: -5132860448238640954, current: 42)\n",
      "tol: the convergence tolerance for iterative algorithms (>= 0). (default: 0.0001)\n",
      "weightCol: weight column name. If this is not set or empty, we treat all instance weights as 1.0. (undefined)\n",
      "DataFrame[higgs_bosons_indexes: double, prediction: double]\n",
      "===================\n",
      "   Train results   \n",
      "===================\n",
      "{DecisionTreeClassifier_ef6a70b15f97: {'cls': DecisionTreeClassificationModel: uid=DecisionTreeClassifier_ef6a70b15f97, depth=1, numNodes=3, numClasses=2, numFeatures=23, 'train_result': DataFrame[higgs_bosons_indexes: double, prediction: double], 'accuracy': 1.0, 'f1': 1.0}, RandomForestClassifier_86c2449c3342: {'cls': RandomForestClassificationModel: uid=RandomForestClassifier_86c2449c3342, numTrees=20, numClasses=2, numFeatures=23, 'train_result': DataFrame[higgs_bosons_indexes: double, prediction: double], 'accuracy': 1.0, 'f1': 1.0}, KMeans_9b7db82b770b: {'cls': KMeansModel: uid=KMeans_9b7db82b770b, k=2, distanceMeasure=euclidean, numFeatures=23, 'train_result': DataFrame[higgs_bosons_indexes: double, prediction: double], 'accuracy': 0.5009508013897428, 'f1': 0.4899033651650112}}\n"
     ]
    }
   ],
   "source": [
    "train_results = training(train, label = \"higgs_bosons_indexes\")"
   ]
  },
  {
   "cell_type": "markdown",
   "id": "26335084",
   "metadata": {},
   "source": [
    "#### Testing"
   ]
  },
  {
   "cell_type": "code",
   "execution_count": 77,
   "id": "3ca2d3f5",
   "metadata": {},
   "outputs": [
    {
     "name": "stdout",
     "output_type": "stream",
     "text": [
      "=============\n",
      "   Testing   \n",
      "=============\n",
      "{'cls': DecisionTreeClassificationModel: uid=DecisionTreeClassifier_ef6a70b15f97, depth=1, numNodes=3, numClasses=2, numFeatures=23, 'train_result': DataFrame[higgs_bosons_indexes: double, prediction: double], 'accuracy': 1.0, 'f1': 1.0}\n",
      "<class 'dict'>\n",
      "Classifier:  DecisionTreeClassifier_ef6a70b15f97\n",
      "+--------------------+----------+\n",
      "|higgs_bosons_indexes|prediction|\n",
      "+--------------------+----------+\n",
      "|                 1.0|       1.0|\n",
      "|                 1.0|       1.0|\n",
      "|                 1.0|       1.0|\n",
      "|                 1.0|       1.0|\n",
      "|                 1.0|       1.0|\n",
      "|                 1.0|       1.0|\n",
      "|                 1.0|       1.0|\n",
      "|                 1.0|       1.0|\n",
      "|                 1.0|       1.0|\n",
      "|                 1.0|       1.0|\n",
      "|                 1.0|       1.0|\n",
      "|                 1.0|       1.0|\n",
      "|                 1.0|       1.0|\n",
      "|                 1.0|       1.0|\n",
      "|                 1.0|       1.0|\n",
      "|                 1.0|       1.0|\n",
      "|                 1.0|       1.0|\n",
      "|                 1.0|       1.0|\n",
      "|                 1.0|       1.0|\n",
      "|                 1.0|       1.0|\n",
      "+--------------------+----------+\n",
      "only showing top 20 rows\n",
      "\n",
      "{'cls': RandomForestClassificationModel: uid=RandomForestClassifier_86c2449c3342, numTrees=20, numClasses=2, numFeatures=23, 'train_result': DataFrame[higgs_bosons_indexes: double, prediction: double], 'accuracy': 1.0, 'f1': 1.0}\n",
      "<class 'dict'>\n",
      "Classifier:  RandomForestClassifier_86c2449c3342\n",
      "+--------------------+----------+\n",
      "|higgs_bosons_indexes|prediction|\n",
      "+--------------------+----------+\n",
      "|                 1.0|       1.0|\n",
      "|                 1.0|       1.0|\n",
      "|                 1.0|       1.0|\n",
      "|                 1.0|       1.0|\n",
      "|                 1.0|       1.0|\n",
      "|                 1.0|       1.0|\n",
      "|                 1.0|       1.0|\n",
      "|                 1.0|       1.0|\n",
      "|                 1.0|       1.0|\n",
      "|                 1.0|       1.0|\n",
      "|                 1.0|       1.0|\n",
      "|                 1.0|       1.0|\n",
      "|                 1.0|       1.0|\n",
      "|                 1.0|       1.0|\n",
      "|                 1.0|       1.0|\n",
      "|                 1.0|       1.0|\n",
      "|                 1.0|       1.0|\n",
      "|                 1.0|       1.0|\n",
      "|                 1.0|       1.0|\n",
      "|                 1.0|       1.0|\n",
      "+--------------------+----------+\n",
      "only showing top 20 rows\n",
      "\n",
      "{'cls': KMeansModel: uid=KMeans_9b7db82b770b, k=2, distanceMeasure=euclidean, numFeatures=23, 'train_result': DataFrame[higgs_bosons_indexes: double, prediction: double], 'accuracy': 0.5009508013897428, 'f1': 0.4899033651650112}\n",
      "<class 'dict'>\n",
      "Classifier:  KMeans_9b7db82b770b\n",
      "+--------------------+----------+\n",
      "|higgs_bosons_indexes|prediction|\n",
      "+--------------------+----------+\n",
      "|                 1.0|       0.0|\n",
      "|                 1.0|       0.0|\n",
      "|                 1.0|       1.0|\n",
      "|                 1.0|       0.0|\n",
      "|                 1.0|       1.0|\n",
      "|                 1.0|       0.0|\n",
      "|                 1.0|       1.0|\n",
      "|                 1.0|       0.0|\n",
      "|                 1.0|       0.0|\n",
      "|                 1.0|       1.0|\n",
      "|                 1.0|       1.0|\n",
      "|                 1.0|       1.0|\n",
      "|                 1.0|       1.0|\n",
      "|                 1.0|       1.0|\n",
      "|                 1.0|       1.0|\n",
      "|                 1.0|       1.0|\n",
      "|                 1.0|       1.0|\n",
      "|                 1.0|       0.0|\n",
      "|                 1.0|       1.0|\n",
      "|                 1.0|       0.0|\n",
      "+--------------------+----------+\n",
      "only showing top 20 rows\n",
      "\n",
      "==================\n",
      "   Test results   \n",
      "==================\n",
      "{DecisionTreeClassifier_ef6a70b15f97: {'cls': DecisionTreeClassificationModel: uid=DecisionTreeClassifier_ef6a70b15f97, depth=1, numNodes=3, numClasses=2, numFeatures=23, 'test_result': DataFrame[higgs_bosons_indexes: double, prediction: double], 'accuracy': 1.0, 'f1': 1.0}, RandomForestClassifier_86c2449c3342: {'cls': RandomForestClassificationModel: uid=RandomForestClassifier_86c2449c3342, numTrees=20, numClasses=2, numFeatures=23, 'test_result': DataFrame[higgs_bosons_indexes: double, prediction: double], 'accuracy': 1.0, 'f1': 1.0}, KMeans_9b7db82b770b: {'cls': KMeansModel: uid=KMeans_9b7db82b770b, k=2, distanceMeasure=euclidean, numFeatures=23, 'test_result': DataFrame[higgs_bosons_indexes: double, prediction: double], 'accuracy': 0.4911008350244519, 'f1': 0.4798942985532142}}\n"
     ]
    }
   ],
   "source": [
    "testing(test, train_results, label = \"higgs_bosons_indexes\")"
   ]
  },
  {
   "cell_type": "markdown",
   "id": "a43d4474",
   "metadata": {},
   "source": [
    "### Normalised"
   ]
  },
  {
   "cell_type": "code",
   "execution_count": 78,
   "id": "2428b314",
   "metadata": {},
   "outputs": [
    {
     "name": "stdout",
     "output_type": "stream",
     "text": [
      "===========================================\n",
      "   Dropping kineamtic properites columns   \n",
      "===========================================\n",
      "Dropping heart_rate column\n",
      "Fit-transform normalise\n",
      "Fit-transform\n",
      "Train-test split\n",
      "Normalise train\n",
      "Normalise test\n",
      "Train schema: \n",
      "root\n",
      " |-- higgs_bosons: integer (nullable = true)\n",
      " |-- lepton_pT: double (nullable = true)\n",
      " |-- lepton_eta: double (nullable = true)\n",
      " |-- lepton_phi: double (nullable = true)\n",
      " |-- missing_energy_magnitude: double (nullable = true)\n",
      " |-- missing_energy_phi: double (nullable = true)\n",
      " |-- jet_1_pt: double (nullable = true)\n",
      " |-- jet_1_eta: double (nullable = true)\n",
      " |-- jet_1_phi: double (nullable = true)\n",
      " |-- jet_1_b-tag: double (nullable = true)\n",
      " |-- jet_2_pt: double (nullable = true)\n",
      " |-- jet_2_eta: double (nullable = true)\n",
      " |-- jet_2_phi: double (nullable = true)\n",
      " |-- jet_2_b-tag: double (nullable = true)\n",
      " |-- jet_3_pt: double (nullable = true)\n",
      " |-- jet_3_eta: double (nullable = true)\n",
      " |-- jet_3_phi: double (nullable = true)\n",
      " |-- jet_3_b-tag: double (nullable = true)\n",
      " |-- jet_4_pt: double (nullable = true)\n",
      " |-- jet_4_eta: double (nullable = true)\n",
      " |-- jet_4_phi: double (nullable = true)\n",
      " |-- jet_4_b-tag: double (nullable = true)\n",
      " |-- higgs_bosons_indexes: double (nullable = false)\n",
      " |-- label: double (nullable = false)\n",
      " |-- features: vector (nullable = true)\n",
      "\n",
      "Test schema: \n",
      "root\n",
      " |-- higgs_bosons: integer (nullable = true)\n",
      " |-- lepton_pT: double (nullable = true)\n",
      " |-- lepton_eta: double (nullable = true)\n",
      " |-- lepton_phi: double (nullable = true)\n",
      " |-- missing_energy_magnitude: double (nullable = true)\n",
      " |-- missing_energy_phi: double (nullable = true)\n",
      " |-- jet_1_pt: double (nullable = true)\n",
      " |-- jet_1_eta: double (nullable = true)\n",
      " |-- jet_1_phi: double (nullable = true)\n",
      " |-- jet_1_b-tag: double (nullable = true)\n",
      " |-- jet_2_pt: double (nullable = true)\n",
      " |-- jet_2_eta: double (nullable = true)\n",
      " |-- jet_2_phi: double (nullable = true)\n",
      " |-- jet_2_b-tag: double (nullable = true)\n",
      " |-- jet_3_pt: double (nullable = true)\n",
      " |-- jet_3_eta: double (nullable = true)\n",
      " |-- jet_3_phi: double (nullable = true)\n",
      " |-- jet_3_b-tag: double (nullable = true)\n",
      " |-- jet_4_pt: double (nullable = true)\n",
      " |-- jet_4_eta: double (nullable = true)\n",
      " |-- jet_4_phi: double (nullable = true)\n",
      " |-- jet_4_b-tag: double (nullable = true)\n",
      " |-- higgs_bosons_indexes: double (nullable = false)\n",
      " |-- label: double (nullable = false)\n",
      " |-- features: vector (nullable = true)\n",
      "\n"
     ]
    }
   ],
   "source": [
    "train, test = dropping_columns_from_df(df_lim, True, columns_to_drop = functions_columns)"
   ]
  },
  {
   "cell_type": "markdown",
   "id": "b62ecbef",
   "metadata": {},
   "source": [
    "#### Training"
   ]
  },
  {
   "cell_type": "code",
   "execution_count": 79,
   "id": "f7dd8457",
   "metadata": {},
   "outputs": [
    {
     "name": "stdout",
     "output_type": "stream",
     "text": [
      "==============\n",
      "   Training   \n",
      "==============\n",
      "cacheNodeIds: If false, the algorithm will pass trees to executors to match instances with nodes. If true, the algorithm will cache node IDs for each instance. Caching can speed up training of deeper trees. Users can set how often should the cache be checkpointed or disable it by setting checkpointInterval. (default: False)\n",
      "checkpointInterval: set checkpoint interval (>= 1) or disable checkpoint (-1). E.g. 10 means that the cache will get checkpointed every 10 iterations. Note: this setting will be ignored if the checkpoint directory is not set in the SparkContext. (default: 10)\n",
      "featuresCol: features column name. (default: features)\n",
      "impurity: Criterion used for information gain calculation (case-insensitive). Supported options: entropy, gini (default: gini)\n",
      "labelCol: label column name. (default: label, current: higgs_bosons_indexes)\n",
      "leafCol: Leaf indices column name. Predicted leaf index of each instance in each tree by preorder. (default: )\n",
      "maxBins: Max number of bins for discretizing continuous features.  Must be >=2 and >= number of categories for any categorical feature. (default: 32)\n",
      "maxDepth: Maximum depth of the tree. (>= 0) E.g., depth 0 means 1 leaf node; depth 1 means 1 internal node + 2 leaf nodes. Must be in range [0, 30]. (default: 5)\n",
      "maxMemoryInMB: Maximum memory in MB allocated to histogram aggregation. If too small, then 1 node will be split per iteration, and its aggregates may exceed this size. (default: 256)\n",
      "minInfoGain: Minimum information gain for a split to be considered at a tree node. (default: 0.0)\n",
      "minInstancesPerNode: Minimum number of instances each child must have after split. If a split causes the left or right child to have fewer than minInstancesPerNode, the split will be discarded as invalid. Should be >= 1. (default: 1)\n",
      "minWeightFractionPerNode: Minimum fraction of the weighted sample count that each child must have after split. If a split causes the fraction of the total weight in the left or right child to be less than minWeightFractionPerNode, the split will be discarded as invalid. Should be in interval [0.0, 0.5). (default: 0.0)\n",
      "predictionCol: prediction column name. (default: prediction)\n",
      "probabilityCol: Column name for predicted class conditional probabilities. Note: Not all models output well-calibrated probability estimates! These probabilities should be treated as confidences, not precise probabilities. (default: probability)\n",
      "rawPredictionCol: raw prediction (a.k.a. confidence) column name. (default: rawPrediction)\n",
      "seed: random seed. (default: -6108839987537888778, current: 42)\n",
      "thresholds: Thresholds in multi-class classification to adjust the probability of predicting each class. Array must have length equal to the number of classes, with values > 0, excepting that at most one value may be 0. The class with largest value p/t is predicted, where p is the original probability of that class and t is the class's threshold. (undefined)\n",
      "weightCol: weight column name. If this is not set or empty, we treat all instance weights as 1.0. (undefined)\n",
      "DataFrame[higgs_bosons_indexes: double, prediction: double]\n",
      "bootstrap: Whether bootstrap samples are used when building trees. (default: True)\n",
      "cacheNodeIds: If false, the algorithm will pass trees to executors to match instances with nodes. If true, the algorithm will cache node IDs for each instance. Caching can speed up training of deeper trees. Users can set how often should the cache be checkpointed or disable it by setting checkpointInterval. (default: False)\n",
      "checkpointInterval: set checkpoint interval (>= 1) or disable checkpoint (-1). E.g. 10 means that the cache will get checkpointed every 10 iterations. Note: this setting will be ignored if the checkpoint directory is not set in the SparkContext. (default: 10)\n",
      "featureSubsetStrategy: The number of features to consider for splits at each tree node. Supported options: 'auto' (choose automatically for task: If numTrees == 1, set to 'all'. If numTrees > 1 (forest), set to 'sqrt' for classification and to 'onethird' for regression), 'all' (use all features), 'onethird' (use 1/3 of the features), 'sqrt' (use sqrt(number of features)), 'log2' (use log2(number of features)), 'n' (when n is in the range (0, 1.0], use n * number of features. When n is in the range (1, number of features), use n features). default = 'auto' (default: auto)\n",
      "featuresCol: features column name. (default: features)\n",
      "impurity: Criterion used for information gain calculation (case-insensitive). Supported options: entropy, gini (default: gini)\n",
      "labelCol: label column name. (default: label, current: higgs_bosons_indexes)\n",
      "leafCol: Leaf indices column name. Predicted leaf index of each instance in each tree by preorder. (default: )\n",
      "maxBins: Max number of bins for discretizing continuous features.  Must be >=2 and >= number of categories for any categorical feature. (default: 32)\n",
      "maxDepth: Maximum depth of the tree. (>= 0) E.g., depth 0 means 1 leaf node; depth 1 means 1 internal node + 2 leaf nodes. Must be in range [0, 30]. (default: 5)\n",
      "maxMemoryInMB: Maximum memory in MB allocated to histogram aggregation. If too small, then 1 node will be split per iteration, and its aggregates may exceed this size. (default: 256)\n",
      "minInfoGain: Minimum information gain for a split to be considered at a tree node. (default: 0.0)\n",
      "minInstancesPerNode: Minimum number of instances each child must have after split. If a split causes the left or right child to have fewer than minInstancesPerNode, the split will be discarded as invalid. Should be >= 1. (default: 1)\n",
      "minWeightFractionPerNode: Minimum fraction of the weighted sample count that each child must have after split. If a split causes the fraction of the total weight in the left or right child to be less than minWeightFractionPerNode, the split will be discarded as invalid. Should be in interval [0.0, 0.5). (default: 0.0)\n",
      "numTrees: Number of trees to train (>= 1). (default: 20)\n",
      "predictionCol: prediction column name. (default: prediction)\n",
      "probabilityCol: Column name for predicted class conditional probabilities. Note: Not all models output well-calibrated probability estimates! These probabilities should be treated as confidences, not precise probabilities. (default: probability)\n",
      "rawPredictionCol: raw prediction (a.k.a. confidence) column name. (default: rawPrediction)\n",
      "seed: random seed. (default: 7096566530939830944, current: 42)\n",
      "subsamplingRate: Fraction of the training data used for learning each decision tree, in range (0, 1]. (default: 1.0)\n",
      "thresholds: Thresholds in multi-class classification to adjust the probability of predicting each class. Array must have length equal to the number of classes, with values > 0, excepting that at most one value may be 0. The class with largest value p/t is predicted, where p is the original probability of that class and t is the class's threshold. (undefined)\n",
      "weightCol: weight column name. If this is not set or empty, we treat all instance weights as 1.0. (undefined)\n",
      "DataFrame[higgs_bosons_indexes: double, prediction: double]\n",
      "distanceMeasure: the distance measure. Supported options: 'euclidean' and 'cosine'. (default: euclidean)\n",
      "featuresCol: features column name. (default: features)\n",
      "initMode: The initialization algorithm. This can be either \"random\" to choose random points as initial cluster centers, or \"k-means||\" to use a parallel variant of k-means++ (default: k-means||)\n",
      "initSteps: The number of steps for k-means|| initialization mode. Must be > 0. (default: 2)\n",
      "k: The number of clusters to create. Must be > 1. (default: 2, current: 2)\n",
      "maxIter: max number of iterations (>= 0). (default: 20)\n",
      "predictionCol: prediction column name. (default: prediction)\n",
      "seed: random seed. (default: -5132860448238640954, current: 42)\n",
      "tol: the convergence tolerance for iterative algorithms (>= 0). (default: 0.0001)\n",
      "weightCol: weight column name. If this is not set or empty, we treat all instance weights as 1.0. (undefined)\n",
      "DataFrame[higgs_bosons_indexes: double, prediction: double]\n",
      "===================\n",
      "   Train results   \n",
      "===================\n",
      "{DecisionTreeClassifier_4e94c0c6e5df: {'cls': DecisionTreeClassificationModel: uid=DecisionTreeClassifier_4e94c0c6e5df, depth=1, numNodes=3, numClasses=2, numFeatures=22, 'train_result': DataFrame[higgs_bosons_indexes: double, prediction: double], 'accuracy': 1.0, 'f1': 1.0}, RandomForestClassifier_043702d1c04b: {'cls': RandomForestClassificationModel: uid=RandomForestClassifier_043702d1c04b, numTrees=20, numClasses=2, numFeatures=22, 'train_result': DataFrame[higgs_bosons_indexes: double, prediction: double], 'accuracy': 1.0, 'f1': 1.0}, KMeans_2e8e43d83a59: {'cls': KMeansModel: uid=KMeans_2e8e43d83a59, k=2, distanceMeasure=euclidean, numFeatures=22, 'train_result': DataFrame[higgs_bosons_indexes: double, prediction: double], 'accuracy': 0.49936374944596157, 'f1': 0.4997042581403681}}\n"
     ]
    }
   ],
   "source": [
    "train_results = training(train, label = \"higgs_bosons_indexes\")"
   ]
  },
  {
   "cell_type": "markdown",
   "id": "36d7521b",
   "metadata": {},
   "source": [
    "#### Testing"
   ]
  },
  {
   "cell_type": "code",
   "execution_count": 80,
   "id": "70cf44ff",
   "metadata": {},
   "outputs": [
    {
     "name": "stdout",
     "output_type": "stream",
     "text": [
      "=============\n",
      "   Testing   \n",
      "=============\n",
      "{'cls': DecisionTreeClassificationModel: uid=DecisionTreeClassifier_4e94c0c6e5df, depth=1, numNodes=3, numClasses=2, numFeatures=22, 'train_result': DataFrame[higgs_bosons_indexes: double, prediction: double], 'accuracy': 1.0, 'f1': 1.0}\n",
      "<class 'dict'>\n",
      "Classifier:  DecisionTreeClassifier_4e94c0c6e5df\n",
      "+--------------------+----------+\n",
      "|higgs_bosons_indexes|prediction|\n",
      "+--------------------+----------+\n",
      "|                 1.0|       1.0|\n",
      "|                 1.0|       1.0|\n",
      "|                 1.0|       1.0|\n",
      "|                 1.0|       1.0|\n",
      "|                 1.0|       1.0|\n",
      "|                 1.0|       1.0|\n",
      "|                 1.0|       1.0|\n",
      "|                 1.0|       1.0|\n",
      "|                 1.0|       1.0|\n",
      "|                 1.0|       1.0|\n",
      "|                 1.0|       1.0|\n",
      "|                 1.0|       1.0|\n",
      "|                 1.0|       1.0|\n",
      "|                 1.0|       1.0|\n",
      "|                 1.0|       1.0|\n",
      "|                 1.0|       1.0|\n",
      "|                 1.0|       1.0|\n",
      "|                 1.0|       1.0|\n",
      "|                 1.0|       1.0|\n",
      "|                 1.0|       1.0|\n",
      "+--------------------+----------+\n",
      "only showing top 20 rows\n",
      "\n",
      "{'cls': RandomForestClassificationModel: uid=RandomForestClassifier_043702d1c04b, numTrees=20, numClasses=2, numFeatures=22, 'train_result': DataFrame[higgs_bosons_indexes: double, prediction: double], 'accuracy': 1.0, 'f1': 1.0}\n",
      "<class 'dict'>\n",
      "Classifier:  RandomForestClassifier_043702d1c04b\n",
      "+--------------------+----------+\n",
      "|higgs_bosons_indexes|prediction|\n",
      "+--------------------+----------+\n",
      "|                 1.0|       1.0|\n",
      "|                 1.0|       1.0|\n",
      "|                 1.0|       1.0|\n",
      "|                 1.0|       1.0|\n",
      "|                 1.0|       1.0|\n",
      "|                 1.0|       1.0|\n",
      "|                 1.0|       1.0|\n",
      "|                 1.0|       1.0|\n",
      "|                 1.0|       1.0|\n",
      "|                 1.0|       1.0|\n",
      "|                 1.0|       1.0|\n",
      "|                 1.0|       1.0|\n",
      "|                 1.0|       1.0|\n",
      "|                 1.0|       1.0|\n",
      "|                 1.0|       1.0|\n",
      "|                 1.0|       1.0|\n",
      "|                 1.0|       1.0|\n",
      "|                 1.0|       1.0|\n",
      "|                 1.0|       1.0|\n",
      "|                 1.0|       1.0|\n",
      "+--------------------+----------+\n",
      "only showing top 20 rows\n",
      "\n",
      "{'cls': KMeansModel: uid=KMeans_2e8e43d83a59, k=2, distanceMeasure=euclidean, numFeatures=22, 'train_result': DataFrame[higgs_bosons_indexes: double, prediction: double], 'accuracy': 0.49936374944596157, 'f1': 0.4997042581403681}\n",
      "<class 'dict'>\n",
      "Classifier:  KMeans_2e8e43d83a59\n",
      "+--------------------+----------+\n",
      "|higgs_bosons_indexes|prediction|\n",
      "+--------------------+----------+\n",
      "|                 1.0|       1.0|\n",
      "|                 1.0|       0.0|\n",
      "|                 1.0|       0.0|\n",
      "|                 1.0|       1.0|\n",
      "|                 1.0|       0.0|\n",
      "|                 1.0|       1.0|\n",
      "|                 1.0|       0.0|\n",
      "|                 1.0|       0.0|\n",
      "|                 1.0|       1.0|\n",
      "|                 1.0|       1.0|\n",
      "|                 1.0|       0.0|\n",
      "|                 1.0|       1.0|\n",
      "|                 1.0|       1.0|\n",
      "|                 1.0|       0.0|\n",
      "|                 1.0|       1.0|\n",
      "|                 1.0|       0.0|\n",
      "|                 1.0|       0.0|\n",
      "|                 1.0|       1.0|\n",
      "|                 1.0|       1.0|\n",
      "|                 1.0|       1.0|\n",
      "+--------------------+----------+\n",
      "only showing top 20 rows\n",
      "\n",
      "==================\n",
      "   Test results   \n",
      "==================\n",
      "{DecisionTreeClassifier_4e94c0c6e5df: {'cls': DecisionTreeClassificationModel: uid=DecisionTreeClassifier_4e94c0c6e5df, depth=1, numNodes=3, numClasses=2, numFeatures=22, 'test_result': DataFrame[higgs_bosons_indexes: double, prediction: double], 'accuracy': 1.0, 'f1': 1.0}, RandomForestClassifier_043702d1c04b: {'cls': RandomForestClassificationModel: uid=RandomForestClassifier_043702d1c04b, numTrees=20, numClasses=2, numFeatures=22, 'test_result': DataFrame[higgs_bosons_indexes: double, prediction: double], 'accuracy': 1.0, 'f1': 1.0}, KMeans_2e8e43d83a59: {'cls': KMeansModel: uid=KMeans_2e8e43d83a59, k=2, distanceMeasure=euclidean, numFeatures=22, 'test_result': DataFrame[higgs_bosons_indexes: double, prediction: double], 'accuracy': 0.5041418543531055, 'f1': 0.5045910703181362}}\n"
     ]
    }
   ],
   "source": [
    "testing(test, train_results, label = \"higgs_bosons_indexes\")"
   ]
  }
 ],
 "metadata": {
  "celltoolbar": "Slideshow",
  "colab": {
   "provenance": []
  },
  "kernelspec": {
   "display_name": "Python 3",
   "language": "python",
   "name": "python3"
  },
  "language_info": {
   "codemirror_mode": {
    "name": "ipython",
    "version": 3
   },
   "file_extension": ".py",
   "mimetype": "text/x-python",
   "name": "python",
   "nbconvert_exporter": "python",
   "pygments_lexer": "ipython3",
   "version": "3.11.0"
  }
 },
 "nbformat": 4,
 "nbformat_minor": 5
}
